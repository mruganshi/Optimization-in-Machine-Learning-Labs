{
  "cells": [
    {
      "cell_type": "code",
      "execution_count": 1,
      "metadata": {
        "id": "99tG9027S8vy"
      },
      "outputs": [],
      "source": [
        "import pandas as pd\n",
        "import numpy as np\n",
        "import matplotlib.pyplot as plt"
      ]
    },
    {
      "cell_type": "markdown",
      "metadata": {
        "id": "roU1QtxPU3e5"
      },
      "source": [
        "# Question-1"
      ]
    },
    {
      "cell_type": "code",
      "execution_count": 2,
      "metadata": {
        "colab": {
          "base_uri": "https://localhost:8080/",
          "height": 423
        },
        "id": "y8NwDIwRUw40",
        "outputId": "04c1bcd7-ea58-4bb5-8b50-f6018002cccf"
      },
      "outputs": [
        {
          "ename": "FileNotFoundError",
          "evalue": "[Errno 2] No such file or directory: '2_col_revised.xlsx'",
          "output_type": "error",
          "traceback": [
            "\u001b[1;31m---------------------------------------------------------------------------\u001b[0m",
            "\u001b[1;31mFileNotFoundError\u001b[0m                         Traceback (most recent call last)",
            "\u001b[1;32md:\\oml\\My labs\\lab-6\\b20cs014_lab6.ipynb Cell 3\u001b[0m line \u001b[0;36m1\n\u001b[1;32m----> <a href='vscode-notebook-cell:/d%3A/oml/My%20labs/lab-6/b20cs014_lab6.ipynb#W2sZmlsZQ%3D%3D?line=0'>1</a>\u001b[0m data1 \u001b[39m=\u001b[39m pd\u001b[39m.\u001b[39;49mread_excel(\u001b[39m'\u001b[39;49m\u001b[39m2_col_revised.xlsx\u001b[39;49m\u001b[39m'\u001b[39;49m, header\u001b[39m=\u001b[39;49m\u001b[39mNone\u001b[39;49;00m)\n\u001b[0;32m      <a href='vscode-notebook-cell:/d%3A/oml/My%20labs/lab-6/b20cs014_lab6.ipynb#W2sZmlsZQ%3D%3D?line=1'>2</a>\u001b[0m data1\n",
            "File \u001b[1;32m~\\AppData\\Local\\Packages\\PythonSoftwareFoundation.Python.3.10_qbz5n2kfra8p0\\LocalCache\\local-packages\\Python310\\site-packages\\pandas\\io\\excel\\_base.py:504\u001b[0m, in \u001b[0;36mread_excel\u001b[1;34m(io, sheet_name, header, names, index_col, usecols, dtype, engine, converters, true_values, false_values, skiprows, nrows, na_values, keep_default_na, na_filter, verbose, parse_dates, date_parser, date_format, thousands, decimal, comment, skipfooter, storage_options, dtype_backend, engine_kwargs)\u001b[0m\n\u001b[0;32m    502\u001b[0m \u001b[39mif\u001b[39;00m \u001b[39mnot\u001b[39;00m \u001b[39misinstance\u001b[39m(io, ExcelFile):\n\u001b[0;32m    503\u001b[0m     should_close \u001b[39m=\u001b[39m \u001b[39mTrue\u001b[39;00m\n\u001b[1;32m--> 504\u001b[0m     io \u001b[39m=\u001b[39m ExcelFile(\n\u001b[0;32m    505\u001b[0m         io,\n\u001b[0;32m    506\u001b[0m         storage_options\u001b[39m=\u001b[39;49mstorage_options,\n\u001b[0;32m    507\u001b[0m         engine\u001b[39m=\u001b[39;49mengine,\n\u001b[0;32m    508\u001b[0m         engine_kwargs\u001b[39m=\u001b[39;49mengine_kwargs,\n\u001b[0;32m    509\u001b[0m     )\n\u001b[0;32m    510\u001b[0m \u001b[39melif\u001b[39;00m engine \u001b[39mand\u001b[39;00m engine \u001b[39m!=\u001b[39m io\u001b[39m.\u001b[39mengine:\n\u001b[0;32m    511\u001b[0m     \u001b[39mraise\u001b[39;00m \u001b[39mValueError\u001b[39;00m(\n\u001b[0;32m    512\u001b[0m         \u001b[39m\"\u001b[39m\u001b[39mEngine should not be specified when passing \u001b[39m\u001b[39m\"\u001b[39m\n\u001b[0;32m    513\u001b[0m         \u001b[39m\"\u001b[39m\u001b[39man ExcelFile - ExcelFile already has the engine set\u001b[39m\u001b[39m\"\u001b[39m\n\u001b[0;32m    514\u001b[0m     )\n",
            "File \u001b[1;32m~\\AppData\\Local\\Packages\\PythonSoftwareFoundation.Python.3.10_qbz5n2kfra8p0\\LocalCache\\local-packages\\Python310\\site-packages\\pandas\\io\\excel\\_base.py:1563\u001b[0m, in \u001b[0;36mExcelFile.__init__\u001b[1;34m(self, path_or_buffer, engine, storage_options, engine_kwargs)\u001b[0m\n\u001b[0;32m   1561\u001b[0m     ext \u001b[39m=\u001b[39m \u001b[39m\"\u001b[39m\u001b[39mxls\u001b[39m\u001b[39m\"\u001b[39m\n\u001b[0;32m   1562\u001b[0m \u001b[39melse\u001b[39;00m:\n\u001b[1;32m-> 1563\u001b[0m     ext \u001b[39m=\u001b[39m inspect_excel_format(\n\u001b[0;32m   1564\u001b[0m         content_or_path\u001b[39m=\u001b[39;49mpath_or_buffer, storage_options\u001b[39m=\u001b[39;49mstorage_options\n\u001b[0;32m   1565\u001b[0m     )\n\u001b[0;32m   1566\u001b[0m     \u001b[39mif\u001b[39;00m ext \u001b[39mis\u001b[39;00m \u001b[39mNone\u001b[39;00m:\n\u001b[0;32m   1567\u001b[0m         \u001b[39mraise\u001b[39;00m \u001b[39mValueError\u001b[39;00m(\n\u001b[0;32m   1568\u001b[0m             \u001b[39m\"\u001b[39m\u001b[39mExcel file format cannot be determined, you must specify \u001b[39m\u001b[39m\"\u001b[39m\n\u001b[0;32m   1569\u001b[0m             \u001b[39m\"\u001b[39m\u001b[39man engine manually.\u001b[39m\u001b[39m\"\u001b[39m\n\u001b[0;32m   1570\u001b[0m         )\n",
            "File \u001b[1;32m~\\AppData\\Local\\Packages\\PythonSoftwareFoundation.Python.3.10_qbz5n2kfra8p0\\LocalCache\\local-packages\\Python310\\site-packages\\pandas\\io\\excel\\_base.py:1419\u001b[0m, in \u001b[0;36minspect_excel_format\u001b[1;34m(content_or_path, storage_options)\u001b[0m\n\u001b[0;32m   1416\u001b[0m \u001b[39mif\u001b[39;00m \u001b[39misinstance\u001b[39m(content_or_path, \u001b[39mbytes\u001b[39m):\n\u001b[0;32m   1417\u001b[0m     content_or_path \u001b[39m=\u001b[39m BytesIO(content_or_path)\n\u001b[1;32m-> 1419\u001b[0m \u001b[39mwith\u001b[39;00m get_handle(\n\u001b[0;32m   1420\u001b[0m     content_or_path, \u001b[39m\"\u001b[39;49m\u001b[39mrb\u001b[39;49m\u001b[39m\"\u001b[39;49m, storage_options\u001b[39m=\u001b[39;49mstorage_options, is_text\u001b[39m=\u001b[39;49m\u001b[39mFalse\u001b[39;49;00m\n\u001b[0;32m   1421\u001b[0m ) \u001b[39mas\u001b[39;00m handle:\n\u001b[0;32m   1422\u001b[0m     stream \u001b[39m=\u001b[39m handle\u001b[39m.\u001b[39mhandle\n\u001b[0;32m   1423\u001b[0m     stream\u001b[39m.\u001b[39mseek(\u001b[39m0\u001b[39m)\n",
            "File \u001b[1;32m~\\AppData\\Local\\Packages\\PythonSoftwareFoundation.Python.3.10_qbz5n2kfra8p0\\LocalCache\\local-packages\\Python310\\site-packages\\pandas\\io\\common.py:872\u001b[0m, in \u001b[0;36mget_handle\u001b[1;34m(path_or_buf, mode, encoding, compression, memory_map, is_text, errors, storage_options)\u001b[0m\n\u001b[0;32m    863\u001b[0m         handle \u001b[39m=\u001b[39m \u001b[39mopen\u001b[39m(\n\u001b[0;32m    864\u001b[0m             handle,\n\u001b[0;32m    865\u001b[0m             ioargs\u001b[39m.\u001b[39mmode,\n\u001b[1;32m   (...)\u001b[0m\n\u001b[0;32m    868\u001b[0m             newline\u001b[39m=\u001b[39m\u001b[39m\"\u001b[39m\u001b[39m\"\u001b[39m,\n\u001b[0;32m    869\u001b[0m         )\n\u001b[0;32m    870\u001b[0m     \u001b[39melse\u001b[39;00m:\n\u001b[0;32m    871\u001b[0m         \u001b[39m# Binary mode\u001b[39;00m\n\u001b[1;32m--> 872\u001b[0m         handle \u001b[39m=\u001b[39m \u001b[39mopen\u001b[39;49m(handle, ioargs\u001b[39m.\u001b[39;49mmode)\n\u001b[0;32m    873\u001b[0m     handles\u001b[39m.\u001b[39mappend(handle)\n\u001b[0;32m    875\u001b[0m \u001b[39m# Convert BytesIO or file objects passed with an encoding\u001b[39;00m\n",
            "\u001b[1;31mFileNotFoundError\u001b[0m: [Errno 2] No such file or directory: '2_col_revised.xlsx'"
          ]
        }
      ],
      "source": [
        "data1 = pd.read_excel('2_col_revised.xlsx', header=None)\n",
        "data1"
      ]
    },
    {
      "cell_type": "code",
      "execution_count": null,
      "metadata": {
        "colab": {
          "base_uri": "https://localhost:8080/"
        },
        "id": "ILGuGduEVfby",
        "outputId": "d5f1dcbd-eb9f-4790-dd03-f6b5eb66ddab"
      },
      "outputs": [
        {
          "data": {
            "text/plain": [
              "99"
            ]
          },
          "execution_count": 98,
          "metadata": {},
          "output_type": "execute_result"
        }
      ],
      "source": [
        "B=data1.values\n",
        "x,y=B[:99,0],B[:99,1]\n",
        "len(x)"
      ]
    },
    {
      "cell_type": "code",
      "execution_count": null,
      "metadata": {
        "id": "yUZzhZz7Vl1W"
      },
      "outputs": [],
      "source": [
        "R = 14\n",
        "lambda_value = abs(R / 10 - 5)\n",
        "\n",
        "# Convert x and y to float64 if not already\n",
        "x = x.astype(float)\n",
        "y = y.astype(float)\n",
        "\n",
        "A = np.column_stack((x, np.ones((len(x), 1), dtype=float)))\n",
        "A_transpose_A = np.dot(A.T, A)\n",
        "regularization_matrix = lambda_value * np.identity(A_transpose_A.shape[0])\n",
        "beta = np.dot(np.linalg.inv(A_transpose_A + regularization_matrix), np.dot(A.T, y))\n"
      ]
    },
    {
      "cell_type": "code",
      "execution_count": null,
      "metadata": {
        "colab": {
          "base_uri": "https://localhost:8080/"
        },
        "id": "cpQpVxb4fnGQ",
        "outputId": "56edbd4b-f4a3-4800-b122-581e23db0c55"
      },
      "outputs": [
        {
          "name": "stdout",
          "output_type": "stream",
          "text": [
            "Slope(m) is:  1.650156401300951\n",
            "Intercept(c) is: 37.49520695321508\n"
          ]
        }
      ],
      "source": [
        "print(\"Slope(m) is: \", str(beta[0]))\n",
        "print(\"Intercept(c) is:\", str(beta[1]))"
      ]
    },
    {
      "cell_type": "code",
      "execution_count": null,
      "metadata": {
        "colab": {
          "base_uri": "https://localhost:8080/"
        },
        "id": "sg4sYsv_fppa",
        "outputId": "e710522a-91a4-49b2-fb2e-664ea1dfcaf6"
      },
      "outputs": [
        {
          "name": "stdout",
          "output_type": "stream",
          "text": [
            "The predicted value for R = 4000 is: 6638.12081215702\n"
          ]
        }
      ],
      "source": [
        "val = 4000;\n",
        "y = beta[0]*val + beta[1]\n",
        "print(\"The predicted value for R = 4000 is:\",  y)"
      ]
    },
    {
      "cell_type": "markdown",
      "metadata": {
        "id": "PazP4s2Kf8B1"
      },
      "source": [
        "# Question-2\n",
        "\n"
      ]
    },
    {
      "cell_type": "code",
      "execution_count": null,
      "metadata": {
        "colab": {
          "base_uri": "https://localhost:8080/"
        },
        "id": "1ReQ40DYftuN",
        "outputId": "23167f76-3478-4cba-b5ab-ae5864bb5812"
      },
      "outputs": [
        {
          "data": {
            "text/html": [
              "\n",
              "  <div id=\"df-b89381ed-4bf1-4c77-98e8-14758202912f\" class=\"colab-df-container\">\n",
              "    <div>\n",
              "<style scoped>\n",
              "    .dataframe tbody tr th:only-of-type {\n",
              "        vertical-align: middle;\n",
              "    }\n",
              "\n",
              "    .dataframe tbody tr th {\n",
              "        vertical-align: top;\n",
              "    }\n",
              "\n",
              "    .dataframe thead th {\n",
              "        text-align: right;\n",
              "    }\n",
              "</style>\n",
              "<table border=\"1\" class=\"dataframe\">\n",
              "  <thead>\n",
              "    <tr style=\"text-align: right;\">\n",
              "      <th></th>\n",
              "      <th>area</th>\n",
              "      <th>bedrooms</th>\n",
              "      <th>bathrooms</th>\n",
              "      <th>stories</th>\n",
              "      <th>airconditioning</th>\n",
              "      <th>price</th>\n",
              "    </tr>\n",
              "  </thead>\n",
              "  <tbody>\n",
              "    <tr>\n",
              "      <th>0</th>\n",
              "      <td>3180</td>\n",
              "      <td>2</td>\n",
              "      <td>1</td>\n",
              "      <td>1</td>\n",
              "      <td>0</td>\n",
              "      <td>2310000</td>\n",
              "    </tr>\n",
              "    <tr>\n",
              "      <th>1</th>\n",
              "      <td>3968</td>\n",
              "      <td>3</td>\n",
              "      <td>1</td>\n",
              "      <td>2</td>\n",
              "      <td>0</td>\n",
              "      <td>4410000</td>\n",
              "    </tr>\n",
              "    <tr>\n",
              "      <th>2</th>\n",
              "      <td>7000</td>\n",
              "      <td>3</td>\n",
              "      <td>2</td>\n",
              "      <td>4</td>\n",
              "      <td>1</td>\n",
              "      <td>8080940</td>\n",
              "    </tr>\n",
              "    <tr>\n",
              "      <th>3</th>\n",
              "      <td>4300</td>\n",
              "      <td>3</td>\n",
              "      <td>2</td>\n",
              "      <td>2</td>\n",
              "      <td>0</td>\n",
              "      <td>7455000</td>\n",
              "    </tr>\n",
              "    <tr>\n",
              "      <th>4</th>\n",
              "      <td>4400</td>\n",
              "      <td>4</td>\n",
              "      <td>1</td>\n",
              "      <td>2</td>\n",
              "      <td>1</td>\n",
              "      <td>5565000</td>\n",
              "    </tr>\n",
              "    <tr>\n",
              "      <th>...</th>\n",
              "      <td>...</td>\n",
              "      <td>...</td>\n",
              "      <td>...</td>\n",
              "      <td>...</td>\n",
              "      <td>...</td>\n",
              "      <td>...</td>\n",
              "    </tr>\n",
              "    <tr>\n",
              "      <th>95</th>\n",
              "      <td>5000</td>\n",
              "      <td>3</td>\n",
              "      <td>1</td>\n",
              "      <td>4</td>\n",
              "      <td>0</td>\n",
              "      <td>5600000</td>\n",
              "    </tr>\n",
              "    <tr>\n",
              "      <th>96</th>\n",
              "      <td>6040</td>\n",
              "      <td>3</td>\n",
              "      <td>1</td>\n",
              "      <td>1</td>\n",
              "      <td>0</td>\n",
              "      <td>4830000</td>\n",
              "    </tr>\n",
              "    <tr>\n",
              "      <th>97</th>\n",
              "      <td>4040</td>\n",
              "      <td>3</td>\n",
              "      <td>1</td>\n",
              "      <td>2</td>\n",
              "      <td>0</td>\n",
              "      <td>6650000</td>\n",
              "    </tr>\n",
              "    <tr>\n",
              "      <th>98</th>\n",
              "      <td>1950</td>\n",
              "      <td>3</td>\n",
              "      <td>2</td>\n",
              "      <td>2</td>\n",
              "      <td>0</td>\n",
              "      <td>3430000</td>\n",
              "    </tr>\n",
              "    <tr>\n",
              "      <th>99</th>\n",
              "      <td>6480</td>\n",
              "      <td>3</td>\n",
              "      <td>1</td>\n",
              "      <td>2</td>\n",
              "      <td>1</td>\n",
              "      <td>3990000</td>\n",
              "    </tr>\n",
              "  </tbody>\n",
              "</table>\n",
              "<p>100 rows × 6 columns</p>\n",
              "</div>\n",
              "    <div class=\"colab-df-buttons\">\n",
              "\n",
              "  <div class=\"colab-df-container\">\n",
              "    <button class=\"colab-df-convert\" onclick=\"convertToInteractive('df-b89381ed-4bf1-4c77-98e8-14758202912f')\"\n",
              "            title=\"Convert this dataframe to an interactive table.\"\n",
              "            style=\"display:none;\">\n",
              "\n",
              "  <svg xmlns=\"http://www.w3.org/2000/svg\" height=\"24px\" viewBox=\"0 -960 960 960\">\n",
              "    <path d=\"M120-120v-720h720v720H120Zm60-500h600v-160H180v160Zm220 220h160v-160H400v160Zm0 220h160v-160H400v160ZM180-400h160v-160H180v160Zm440 0h160v-160H620v160ZM180-180h160v-160H180v160Zm440 0h160v-160H620v160Z\"/>\n",
              "  </svg>\n",
              "    </button>\n",
              "\n",
              "  <style>\n",
              "    .colab-df-container {\n",
              "      display:flex;\n",
              "      gap: 12px;\n",
              "    }\n",
              "\n",
              "    .colab-df-convert {\n",
              "      background-color: #E8F0FE;\n",
              "      border: none;\n",
              "      border-radius: 50%;\n",
              "      cursor: pointer;\n",
              "      display: none;\n",
              "      fill: #1967D2;\n",
              "      height: 32px;\n",
              "      padding: 0 0 0 0;\n",
              "      width: 32px;\n",
              "    }\n",
              "\n",
              "    .colab-df-convert:hover {\n",
              "      background-color: #E2EBFA;\n",
              "      box-shadow: 0px 1px 2px rgba(60, 64, 67, 0.3), 0px 1px 3px 1px rgba(60, 64, 67, 0.15);\n",
              "      fill: #174EA6;\n",
              "    }\n",
              "\n",
              "    .colab-df-buttons div {\n",
              "      margin-bottom: 4px;\n",
              "    }\n",
              "\n",
              "    [theme=dark] .colab-df-convert {\n",
              "      background-color: #3B4455;\n",
              "      fill: #D2E3FC;\n",
              "    }\n",
              "\n",
              "    [theme=dark] .colab-df-convert:hover {\n",
              "      background-color: #434B5C;\n",
              "      box-shadow: 0px 1px 3px 1px rgba(0, 0, 0, 0.15);\n",
              "      filter: drop-shadow(0px 1px 2px rgba(0, 0, 0, 0.3));\n",
              "      fill: #FFFFFF;\n",
              "    }\n",
              "  </style>\n",
              "\n",
              "    <script>\n",
              "      const buttonEl =\n",
              "        document.querySelector('#df-b89381ed-4bf1-4c77-98e8-14758202912f button.colab-df-convert');\n",
              "      buttonEl.style.display =\n",
              "        google.colab.kernel.accessAllowed ? 'block' : 'none';\n",
              "\n",
              "      async function convertToInteractive(key) {\n",
              "        const element = document.querySelector('#df-b89381ed-4bf1-4c77-98e8-14758202912f');\n",
              "        const dataTable =\n",
              "          await google.colab.kernel.invokeFunction('convertToInteractive',\n",
              "                                                    [key], {});\n",
              "        if (!dataTable) return;\n",
              "\n",
              "        const docLinkHtml = 'Like what you see? Visit the ' +\n",
              "          '<a target=\"_blank\" href=https://colab.research.google.com/notebooks/data_table.ipynb>data table notebook</a>'\n",
              "          + ' to learn more about interactive tables.';\n",
              "        element.innerHTML = '';\n",
              "        dataTable['output_type'] = 'display_data';\n",
              "        await google.colab.output.renderOutput(dataTable, element);\n",
              "        const docLink = document.createElement('div');\n",
              "        docLink.innerHTML = docLinkHtml;\n",
              "        element.appendChild(docLink);\n",
              "      }\n",
              "    </script>\n",
              "  </div>\n",
              "\n",
              "\n",
              "<div id=\"df-58c70435-6377-43af-b8ac-1a46f050033d\">\n",
              "  <button class=\"colab-df-quickchart\" onclick=\"quickchart('df-58c70435-6377-43af-b8ac-1a46f050033d')\"\n",
              "            title=\"Suggest charts.\"\n",
              "            style=\"display:none;\">\n",
              "\n",
              "<svg xmlns=\"http://www.w3.org/2000/svg\" height=\"24px\"viewBox=\"0 0 24 24\"\n",
              "     width=\"24px\">\n",
              "    <g>\n",
              "        <path d=\"M19 3H5c-1.1 0-2 .9-2 2v14c0 1.1.9 2 2 2h14c1.1 0 2-.9 2-2V5c0-1.1-.9-2-2-2zM9 17H7v-7h2v7zm4 0h-2V7h2v10zm4 0h-2v-4h2v4z\"/>\n",
              "    </g>\n",
              "</svg>\n",
              "  </button>\n",
              "\n",
              "<style>\n",
              "  .colab-df-quickchart {\n",
              "      --bg-color: #E8F0FE;\n",
              "      --fill-color: #1967D2;\n",
              "      --hover-bg-color: #E2EBFA;\n",
              "      --hover-fill-color: #174EA6;\n",
              "      --disabled-fill-color: #AAA;\n",
              "      --disabled-bg-color: #DDD;\n",
              "  }\n",
              "\n",
              "  [theme=dark] .colab-df-quickchart {\n",
              "      --bg-color: #3B4455;\n",
              "      --fill-color: #D2E3FC;\n",
              "      --hover-bg-color: #434B5C;\n",
              "      --hover-fill-color: #FFFFFF;\n",
              "      --disabled-bg-color: #3B4455;\n",
              "      --disabled-fill-color: #666;\n",
              "  }\n",
              "\n",
              "  .colab-df-quickchart {\n",
              "    background-color: var(--bg-color);\n",
              "    border: none;\n",
              "    border-radius: 50%;\n",
              "    cursor: pointer;\n",
              "    display: none;\n",
              "    fill: var(--fill-color);\n",
              "    height: 32px;\n",
              "    padding: 0;\n",
              "    width: 32px;\n",
              "  }\n",
              "\n",
              "  .colab-df-quickchart:hover {\n",
              "    background-color: var(--hover-bg-color);\n",
              "    box-shadow: 0 1px 2px rgba(60, 64, 67, 0.3), 0 1px 3px 1px rgba(60, 64, 67, 0.15);\n",
              "    fill: var(--button-hover-fill-color);\n",
              "  }\n",
              "\n",
              "  .colab-df-quickchart-complete:disabled,\n",
              "  .colab-df-quickchart-complete:disabled:hover {\n",
              "    background-color: var(--disabled-bg-color);\n",
              "    fill: var(--disabled-fill-color);\n",
              "    box-shadow: none;\n",
              "  }\n",
              "\n",
              "  .colab-df-spinner {\n",
              "    border: 2px solid var(--fill-color);\n",
              "    border-color: transparent;\n",
              "    border-bottom-color: var(--fill-color);\n",
              "    animation:\n",
              "      spin 1s steps(1) infinite;\n",
              "  }\n",
              "\n",
              "  @keyframes spin {\n",
              "    0% {\n",
              "      border-color: transparent;\n",
              "      border-bottom-color: var(--fill-color);\n",
              "      border-left-color: var(--fill-color);\n",
              "    }\n",
              "    20% {\n",
              "      border-color: transparent;\n",
              "      border-left-color: var(--fill-color);\n",
              "      border-top-color: var(--fill-color);\n",
              "    }\n",
              "    30% {\n",
              "      border-color: transparent;\n",
              "      border-left-color: var(--fill-color);\n",
              "      border-top-color: var(--fill-color);\n",
              "      border-right-color: var(--fill-color);\n",
              "    }\n",
              "    40% {\n",
              "      border-color: transparent;\n",
              "      border-right-color: var(--fill-color);\n",
              "      border-top-color: var(--fill-color);\n",
              "    }\n",
              "    60% {\n",
              "      border-color: transparent;\n",
              "      border-right-color: var(--fill-color);\n",
              "    }\n",
              "    80% {\n",
              "      border-color: transparent;\n",
              "      border-right-color: var(--fill-color);\n",
              "      border-bottom-color: var(--fill-color);\n",
              "    }\n",
              "    90% {\n",
              "      border-color: transparent;\n",
              "      border-bottom-color: var(--fill-color);\n",
              "    }\n",
              "  }\n",
              "</style>\n",
              "\n",
              "  <script>\n",
              "    async function quickchart(key) {\n",
              "      const quickchartButtonEl =\n",
              "        document.querySelector('#' + key + ' button');\n",
              "      quickchartButtonEl.disabled = true;  // To prevent multiple clicks.\n",
              "      quickchartButtonEl.classList.add('colab-df-spinner');\n",
              "      try {\n",
              "        const charts = await google.colab.kernel.invokeFunction(\n",
              "            'suggestCharts', [key], {});\n",
              "      } catch (error) {\n",
              "        console.error('Error during call to suggestCharts:', error);\n",
              "      }\n",
              "      quickchartButtonEl.classList.remove('colab-df-spinner');\n",
              "      quickchartButtonEl.classList.add('colab-df-quickchart-complete');\n",
              "    }\n",
              "    (() => {\n",
              "      let quickchartButtonEl =\n",
              "        document.querySelector('#df-58c70435-6377-43af-b8ac-1a46f050033d button');\n",
              "      quickchartButtonEl.style.display =\n",
              "        google.colab.kernel.accessAllowed ? 'block' : 'none';\n",
              "    })();\n",
              "  </script>\n",
              "</div>\n",
              "    </div>\n",
              "  </div>\n"
            ],
            "text/plain": [
              "    area  bedrooms  bathrooms  stories  airconditioning    price\n",
              "0   3180         2          1        1                0  2310000\n",
              "1   3968         3          1        2                0  4410000\n",
              "2   7000         3          2        4                1  8080940\n",
              "3   4300         3          2        2                0  7455000\n",
              "4   4400         4          1        2                1  5565000\n",
              "..   ...       ...        ...      ...              ...      ...\n",
              "95  5000         3          1        4                0  5600000\n",
              "96  6040         3          1        1                0  4830000\n",
              "97  4040         3          1        2                0  6650000\n",
              "98  1950         3          2        2                0  3430000\n",
              "99  6480         3          1        2                1  3990000\n",
              "\n",
              "[100 rows x 6 columns]"
            ]
          },
          "execution_count": 102,
          "metadata": {},
          "output_type": "execute_result"
        }
      ],
      "source": [
        "data4= pd.read_csv('6 columns.csv')\n",
        "data4"
      ]
    },
    {
      "cell_type": "code",
      "execution_count": null,
      "metadata": {
        "colab": {
          "base_uri": "https://localhost:8080/"
        },
        "id": "N3qnwKRxieNc",
        "outputId": "0c0ac575-0f12-4bfb-e39d-58340f5ed0eb"
      },
      "outputs": [
        {
          "data": {
            "text/plain": [
              "array([ 2310000,  4410000,  8080940,  7455000,  5565000,  4165000,\n",
              "        6300000,  4900000,  5110000,  3850000,  4900000,  2100000,\n",
              "        4270000,  2275000,  4095000,  6195000,  9681000,  6650000,\n",
              "        4200000,  6615000,  9240000,  3290000, 10850000,  4473000,\n",
              "        5460000,  5810000,  2380000,  7245000,  5803000,  5215000,\n",
              "        5740000,  6510000,  3640000,  3003000,  3920000,  3500000,\n",
              "        5250000,  5523000,  4235000,  3118850,  3290000,  9800000,\n",
              "        5460000,  4200000,  4340000,  8043000,  4305000,  3780000,\n",
              "        3675000,  5250000,  5530000,  3836000,  4060000,  4620000,\n",
              "        5810000,  4515000,  2485000,  8120000,  4200000,  8190000,\n",
              "        5250000,  4907000,  4760000,  7350000,  9100000,  3500000,\n",
              "        2520000,  3500000,  3010000,  3360000,  2940000,  3920000,\n",
              "        4340000,  3255000,  6930000,  4830000,  5320000,  4410000,\n",
              "        4550000,  7210000,  3920000,  2520000,  3500000,  3640000,\n",
              "        5390000,  3353000,  6720000,  5110000,  3773000,  3220000,\n",
              "        6125000,  2870000,  3500000,  3640000,  4690000,  5600000,\n",
              "        4830000,  6650000,  3430000,  3990000])"
            ]
          },
          "execution_count": 103,
          "metadata": {},
          "output_type": "execute_result"
        }
      ],
      "source": [
        "B=data4.values\n",
        "x=data4.iloc[:,[0,1,2]]\n",
        "x=x.values\n",
        "y=B[:,5]\n",
        "y"
      ]
    },
    {
      "cell_type": "code",
      "execution_count": null,
      "metadata": {
        "colab": {
          "base_uri": "https://localhost:8080/"
        },
        "id": "H6-6Zdvkhl8R",
        "outputId": "9736b5be-527d-47f6-9f05-dcec695b30e8"
      },
      "outputs": [
        {
          "name": "stdout",
          "output_type": "stream",
          "text": [
            "Hyperplane parameters (a): [3.08697526e+02 6.46551061e+05 1.38149853e+06]\n",
            "Bias term (β): -392974.5271998048\n"
          ]
        }
      ],
      "source": [
        "import numpy as np\n",
        "lambda_value = abs(R / 10 - 5)\n",
        "A = np.column_stack((x, np.ones((len(x), 1), dtype=float)))\n",
        "A_transpose_A = A.T @ A\n",
        "regularization_matrix = lambda_value * np.identity(A_transpose_A.shape[0])\n",
        "coefficients = np.linalg.inv(A_transpose_A + regularization_matrix) @ (A.T @ y)\n",
        "a = coefficients[:-1]\n",
        "beta = coefficients[-1]\n",
        "\n",
        "print(\"Hyperplane parameters (a):\", a)\n",
        "print(\"Bias term (β):\", beta)\n"
      ]
    },
    {
      "cell_type": "markdown",
      "metadata": {
        "id": "WfUMOdKpIPJp"
      },
      "source": [
        "# Question-3\n",
        "\n"
      ]
    },
    {
      "cell_type": "code",
      "execution_count": null,
      "metadata": {
        "id": "UYE_E-UYhn8a"
      },
      "outputs": [],
      "source": [
        "import numpy as np\n",
        "from scipy.special import expit\n",
        "\n",
        "# Logistic Regression Cost Function\n",
        "def logistic_cost(theta, X, y, lambd):\n",
        "    m = len(y)\n",
        "    h = expit(X @ theta)\n",
        "    epsilon = 1e-5\n",
        "    reg_term = (lambd / (2 * m)) * np.sum(theta[1:] ** 2)\n",
        "    cost = (-1/m) * (y.T @ np.log(h + epsilon) + (1 - y).T @ np.log(1 - h + epsilon)) + reg_term\n",
        "    return cost\n",
        "\n",
        "# Gradient Descent\n",
        "def gradient_descent(X, y, theta, alpha, lambd, num_iters):\n",
        "    m = len(y)\n",
        "    J_history = []\n",
        "\n",
        "    for i in range(num_iters):\n",
        "        h = expit(X @ theta)\n",
        "        gradient = (1/m) * X.T @ (h - y)\n",
        "        reg_term = (lambd / m) * np.concatenate(([0], theta[1:]))\n",
        "        gradient += reg_term\n",
        "        theta -= alpha * gradient\n",
        "        J_history.append(logistic_cost(theta, X, y, lambd))\n",
        "\n",
        "    return theta, J_history\n",
        "\n",
        "# Mirror Descent\n",
        "def mirror_descent(X, y, theta, alpha, lambd, num_iters):\n",
        "    m = len(y)\n",
        "    J_history = []\n",
        "\n",
        "    # Symmetric positive definite matrix\n",
        "    B = np.random.uniform(0, 1, size=(X.shape[1], X.shape[1]))\n",
        "    np.fill_diagonal(B, np.random.uniform(5, 10))\n",
        "\n",
        "    for i in range(num_iters):\n",
        "        h = expit(X @ theta)\n",
        "        gradient = (1/m) * X.T @ (h - y)\n",
        "        reg_term = (lambd / m) * np.concatenate(([0], theta[1:]))\n",
        "        gradient += reg_term\n",
        "        theta = np.linalg.inv(B) @ np.exp(gradient) * theta\n",
        "        J_history.append(logistic_cost(theta, X, y, lambd))\n",
        "\n",
        "    return theta, J_history\n",
        "\n",
        "# Newton's Method\n",
        "def newton_method(X, y, theta, lambd, num_iters):\n",
        "    m = len(y)\n",
        "    J_history = []\n",
        "\n",
        "    for i in range(num_iters):\n",
        "        h = expit(X @ theta)\n",
        "        gradient = (1/m) * X.T @ (h - y)\n",
        "        reg_term = (lambd / m) * np.concatenate(([0], theta[1:]))\n",
        "        gradient += reg_term\n",
        "        Hessian = (1/m) * X.T @ np.diag(h) @ np.diag(1 - h) @ X + (lambd / m) * np.identity(X.shape[1])\n",
        "        theta -= np.linalg.inv(Hessian) @ gradient\n",
        "        J_history.append(logistic_cost(theta, X, y, lambd))\n",
        "\n",
        "    return theta, J_history\n"
      ]
    },
    {
      "cell_type": "code",
      "execution_count": null,
      "metadata": {
        "colab": {
          "base_uri": "https://localhost:8080/"
        },
        "id": "gLTUCtZRISt1",
        "outputId": "48d04af9-7d16-43df-9cee-796ea4fe9217"
      },
      "outputs": [
        {
          "data": {
            "text/plain": [
              "8"
            ]
          },
          "execution_count": 106,
          "metadata": {},
          "output_type": "execute_result"
        }
      ],
      "source": [
        "import pandas as pd\n",
        "data = pd.read_csv('diabetes2.csv')\n",
        "data=data.values\n",
        "x=data[:,:-1]\n",
        "y=data[:,-1]\n",
        "len(x[0])"
      ]
    },
    {
      "cell_type": "code",
      "execution_count": null,
      "metadata": {
        "colab": {
          "base_uri": "https://localhost:8080/"
        },
        "id": "hsSsSVy9IWnK",
        "outputId": "723580ed-d60a-4986-9fed-78cdb48944eb"
      },
      "outputs": [
        {
          "name": "stdout",
          "output_type": "stream",
          "text": [
            "Gradient Descent Theta: [ 1.45113459  0.4411289  -0.75598517 -0.00191013  0.07608891  0.19219683\n",
            "  0.07543997  0.04783422]\n",
            "Gradient Descent Final Cost: 5.014668733581744\n"
          ]
        },
        {
          "name": "stderr",
          "output_type": "stream",
          "text": [
            "<ipython-input-105-1460ef98a859>:42: RuntimeWarning: overflow encountered in exp\n",
            "  theta = np.linalg.inv(B) @ np.exp(gradient) * theta\n",
            "<ipython-input-105-1460ef98a859>:42: RuntimeWarning: invalid value encountered in matmul\n",
            "  theta = np.linalg.inv(B) @ np.exp(gradient) * theta\n",
            "<ipython-input-105-1460ef98a859>:7: RuntimeWarning: invalid value encountered in matmul\n",
            "  h = expit(X @ theta)\n",
            "<ipython-input-105-1460ef98a859>:38: RuntimeWarning: invalid value encountered in matmul\n",
            "  h = expit(X @ theta)\n"
          ]
        },
        {
          "name": "stdout",
          "output_type": "stream",
          "text": [
            "Mirror Descent Theta: [nan nan nan nan nan nan nan nan]\n",
            "Mirror Descent Final Cost: nan\n",
            "Newton Method Theta: [-1.70702521e+06  3.78570000e+05  1.89810000e+05  5.94000000e+04\n",
            "  2.68900000e+05  9.41820000e+04  1.47534000e+03  9.93400000e+04]\n",
            "Newton Method Final Cost: 17833309.080814887\n"
          ]
        }
      ],
      "source": [
        "import numpy as np\n",
        "\n",
        "alpha = 0.01  # Learning rate\n",
        "num_iters = 1000  # Number of iterations\n",
        "lambd = 0.1  # Regularization parameter\n",
        "\n",
        "# Initialize the parameter vector theta\n",
        "theta = np.zeros(x.shape[1])\n",
        "\n",
        "# Solve logistic regression using gradient descent\n",
        "theta_gd, J_history_gd = gradient_descent(x, y, theta, alpha, lambd, num_iters)\n",
        "print('Gradient Descent Theta:', theta_gd)\n",
        "print('Gradient Descent Final Cost:', J_history_gd[-1])\n",
        "\n",
        "# Solve logistic regression using mirror descent\n",
        "theta_md, J_history_md = mirror_descent(x, y, theta, alpha, lambd, num_iters)\n",
        "print('Mirror Descent Theta:', theta_md)\n",
        "print('Mirror Descent Final Cost:', J_history_md[-1])\n",
        "\n",
        "# Solve logistic regression using Newton's method\n",
        "theta_nm, J_history_nm = newton_method(x, y, theta, lambd, num_iters)\n",
        "print('Newton Method Theta:', theta_nm)\n",
        "print('Newton Method Final Cost:', J_history_nm[-1])\n"
      ]
    },
    {
      "cell_type": "markdown",
      "metadata": {
        "id": "L2hJzpgcIu5V"
      },
      "source": [
        "# Question-4"
      ]
    },
    {
      "cell_type": "code",
      "execution_count": null,
      "metadata": {
        "colab": {
          "base_uri": "https://localhost:8080/"
        },
        "id": "ysCdxeGCIgKG",
        "outputId": "3c3f3310-63dc-4885-e3e6-f35b2fab5462"
      },
      "outputs": [
        {
          "name": "stdout",
          "output_type": "stream",
          "text": [
            "Using alpha1 = 0.5:\n",
            "Iteration 1: x = [0.5 0.5], f(x) = 2.75\n",
            "Iteration 2: x = [0.25 0.25], f(x) = 3.3125\n",
            "Iteration 3: x = [0.125 0.125], f(x) = 3.640625\n",
            "Iteration 4: x = [0.0625 0.0625], f(x) = 3.81640625\n",
            "Iteration 5: x = [0.03125 0.03125], f(x) = 3.9072265625\n",
            "Iteration 6: x = [0.015625 0.015625], f(x) = 3.953369140625\n",
            "Iteration 7: x = [0.0078125 0.0078125], f(x) = 3.97662353515625\n",
            "Iteration 8: x = [0.00390625 0.00390625], f(x) = 3.9882965087890625\n",
            "Iteration 9: x = [0.00195312 0.00195312], f(x) = 3.9941444396972656\n",
            "Iteration 10: x = [0.00097656 0.00097656], f(x) = 3.9970712661743164\n",
            "Iteration 11: x = [0.00048828 0.00048828], f(x) = 3.998535394668579\n",
            "Iteration 12: x = [0.00024414 0.00024414], f(x) = 3.9992676377296448\n",
            "Iteration 13: x = [0.00012207 0.00012207], f(x) = 3.999633803963661\n",
            "Iteration 14: x = [6.10351562e-05 6.10351562e-05], f(x) = 3.9998168982565403\n",
            "Iteration 15: x = [3.05175781e-05 3.05175781e-05], f(x) = 3.9999084481969476\n",
            "Iteration 16: x = [1.52587891e-05 1.52587891e-05], f(x) = 3.999954223865643\n",
            "Iteration 17: x = [7.62939453e-06 7.62939453e-06], f(x) = 3.999977111874614\n",
            "Iteration 18: x = [3.81469727e-06 3.81469727e-06], f(x) = 3.999988555922755\n",
            "Iteration 19: x = [1.90734863e-06 1.90734863e-06], f(x) = 3.9999942779577395\n",
            "Iteration 20: x = [9.53674316e-07 9.53674316e-07], f(x) = 3.9999971389779603\n",
            "Iteration 21: x = [4.76837158e-07 4.76837158e-07], f(x) = 3.9999985694887528\n",
            "Iteration 22: x = [2.38418579e-07 2.38418579e-07], f(x) = 3.9999992847443195\n",
            "Iteration 23: x = [1.1920929e-07 1.1920929e-07], f(x) = 3.9999996423721456\n",
            "Iteration 24: x = [5.96046448e-08 5.96046448e-08], f(x) = 3.9999998211860692\n",
            "Iteration 25: x = [2.98023224e-08 2.98023224e-08], f(x) = 3.9999999105930337\n",
            "Iteration 26: x = [1.49011612e-08 1.49011612e-08], f(x) = 3.9999999552965164\n",
            "Iteration 27: x = [7.4505806e-09 7.4505806e-09], f(x) = 3.999999977648258\n",
            "Iteration 28: x = [3.7252903e-09 3.7252903e-09], f(x) = 3.999999988824129\n",
            "Iteration 29: x = [1.86264515e-09 1.86264515e-09], f(x) = 3.9999999944120646\n",
            "Iteration 30: x = [9.31322575e-10 9.31322575e-10], f(x) = 3.9999999972060323\n",
            "Iteration 31: x = [4.65661287e-10 4.65661287e-10], f(x) = 3.999999998603016\n",
            "Iteration 32: x = [2.32830644e-10 2.32830644e-10], f(x) = 3.999999999301508\n",
            "Iteration 33: x = [1.16415322e-10 1.16415322e-10], f(x) = 3.999999999650754\n",
            "Iteration 34: x = [5.82076609e-11 5.82076609e-11], f(x) = 3.999999999825377\n",
            "Iteration 35: x = [2.91038305e-11 2.91038305e-11], f(x) = 3.9999999999126885\n",
            "Iteration 36: x = [1.45519152e-11 1.45519152e-11], f(x) = 3.9999999999563443\n",
            "Iteration 37: x = [7.27595761e-12 7.27595761e-12], f(x) = 3.999999999978172\n",
            "Iteration 38: x = [3.63797881e-12 3.63797881e-12], f(x) = 3.999999999989086\n",
            "Iteration 39: x = [1.8189894e-12 1.8189894e-12], f(x) = 3.999999999994543\n",
            "Iteration 40: x = [9.09494702e-13 9.09494702e-13], f(x) = 3.9999999999972715\n",
            "Iteration 41: x = [4.54747351e-13 4.54747351e-13], f(x) = 3.9999999999986358\n",
            "Iteration 42: x = [2.27373675e-13 2.27373675e-13], f(x) = 3.999999999999318\n",
            "Iteration 43: x = [1.13686838e-13 1.13686838e-13], f(x) = 3.999999999999659\n",
            "Iteration 44: x = [5.68434189e-14 5.68434189e-14], f(x) = 3.9999999999998295\n",
            "Iteration 45: x = [2.84217094e-14 2.84217094e-14], f(x) = 3.9999999999999147\n",
            "Iteration 46: x = [1.42108547e-14 1.42108547e-14], f(x) = 3.9999999999999574\n",
            "Iteration 47: x = [7.10542736e-15 7.10542736e-15], f(x) = 3.9999999999999787\n",
            "Iteration 48: x = [3.55271368e-15 3.55271368e-15], f(x) = 3.9999999999999893\n",
            "Iteration 49: x = [1.77635684e-15 1.77635684e-15], f(x) = 3.9999999999999947\n",
            "Iteration 50: x = [8.8817842e-16 8.8817842e-16], f(x) = 3.9999999999999973\n",
            "Iteration 51: x = [4.4408921e-16 4.4408921e-16], f(x) = 3.9999999999999987\n",
            "Iteration 52: x = [2.22044605e-16 2.22044605e-16], f(x) = 3.999999999999999\n",
            "Iteration 53: x = [1.11022302e-16 1.11022302e-16], f(x) = 4.0\n",
            "Iteration 54: x = [1.11022302e-16 1.11022302e-16], f(x) = 4.0\n",
            "Iteration 55: x = [1.11022302e-16 1.11022302e-16], f(x) = 4.0\n",
            "Iteration 56: x = [1.11022302e-16 1.11022302e-16], f(x) = 4.0\n",
            "Iteration 57: x = [1.11022302e-16 1.11022302e-16], f(x) = 4.0\n",
            "Iteration 58: x = [1.11022302e-16 1.11022302e-16], f(x) = 4.0\n",
            "Iteration 59: x = [1.11022302e-16 1.11022302e-16], f(x) = 4.0\n",
            "Iteration 60: x = [1.11022302e-16 1.11022302e-16], f(x) = 4.0\n",
            "Iteration 61: x = [1.11022302e-16 1.11022302e-16], f(x) = 4.0\n",
            "Iteration 62: x = [1.11022302e-16 1.11022302e-16], f(x) = 4.0\n",
            "Iteration 63: x = [1.11022302e-16 1.11022302e-16], f(x) = 4.0\n",
            "Iteration 64: x = [1.11022302e-16 1.11022302e-16], f(x) = 4.0\n",
            "Iteration 65: x = [1.11022302e-16 1.11022302e-16], f(x) = 4.0\n",
            "Iteration 66: x = [1.11022302e-16 1.11022302e-16], f(x) = 4.0\n",
            "Iteration 67: x = [1.11022302e-16 1.11022302e-16], f(x) = 4.0\n",
            "Iteration 68: x = [1.11022302e-16 1.11022302e-16], f(x) = 4.0\n",
            "Iteration 69: x = [1.11022302e-16 1.11022302e-16], f(x) = 4.0\n",
            "Iteration 70: x = [1.11022302e-16 1.11022302e-16], f(x) = 4.0\n",
            "Iteration 71: x = [1.11022302e-16 1.11022302e-16], f(x) = 4.0\n",
            "Iteration 72: x = [1.11022302e-16 1.11022302e-16], f(x) = 4.0\n",
            "Iteration 73: x = [1.11022302e-16 1.11022302e-16], f(x) = 4.0\n",
            "Iteration 74: x = [1.11022302e-16 1.11022302e-16], f(x) = 4.0\n",
            "Iteration 75: x = [1.11022302e-16 1.11022302e-16], f(x) = 4.0\n",
            "Iteration 76: x = [1.11022302e-16 1.11022302e-16], f(x) = 4.0\n",
            "Iteration 77: x = [1.11022302e-16 1.11022302e-16], f(x) = 4.0\n",
            "Iteration 78: x = [1.11022302e-16 1.11022302e-16], f(x) = 4.0\n",
            "Iteration 79: x = [1.11022302e-16 1.11022302e-16], f(x) = 4.0\n",
            "Iteration 80: x = [1.11022302e-16 1.11022302e-16], f(x) = 4.0\n",
            "Iteration 81: x = [1.11022302e-16 1.11022302e-16], f(x) = 4.0\n",
            "Iteration 82: x = [1.11022302e-16 1.11022302e-16], f(x) = 4.0\n",
            "Iteration 83: x = [1.11022302e-16 1.11022302e-16], f(x) = 4.0\n",
            "Iteration 84: x = [1.11022302e-16 1.11022302e-16], f(x) = 4.0\n",
            "Iteration 85: x = [1.11022302e-16 1.11022302e-16], f(x) = 4.0\n",
            "Iteration 86: x = [1.11022302e-16 1.11022302e-16], f(x) = 4.0\n",
            "Iteration 87: x = [1.11022302e-16 1.11022302e-16], f(x) = 4.0\n",
            "Iteration 88: x = [1.11022302e-16 1.11022302e-16], f(x) = 4.0\n",
            "Iteration 89: x = [1.11022302e-16 1.11022302e-16], f(x) = 4.0\n",
            "Iteration 90: x = [1.11022302e-16 1.11022302e-16], f(x) = 4.0\n",
            "Iteration 91: x = [1.11022302e-16 1.11022302e-16], f(x) = 4.0\n",
            "Iteration 92: x = [1.11022302e-16 1.11022302e-16], f(x) = 4.0\n",
            "Iteration 93: x = [1.11022302e-16 1.11022302e-16], f(x) = 4.0\n",
            "Iteration 94: x = [1.11022302e-16 1.11022302e-16], f(x) = 4.0\n",
            "Iteration 95: x = [1.11022302e-16 1.11022302e-16], f(x) = 4.0\n",
            "Iteration 96: x = [1.11022302e-16 1.11022302e-16], f(x) = 4.0\n",
            "Iteration 97: x = [1.11022302e-16 1.11022302e-16], f(x) = 4.0\n",
            "Iteration 98: x = [1.11022302e-16 1.11022302e-16], f(x) = 4.0\n",
            "Iteration 99: x = [1.11022302e-16 1.11022302e-16], f(x) = 4.0\n",
            "Iteration 100: x = [1.11022302e-16 1.11022302e-16], f(x) = 4.0\n",
            "\n",
            "Using alpha2 = 1 / (r + k):\n",
            "Iteration 1: x = [0.2 0.2], f(x) = 3.4400000000000004\n",
            "Iteration 2: x = [0.16 0.16], f(x) = 3.5455999999999994\n",
            "Iteration 3: x = [0.128 0.128], f(x) = 3.6323839999999996\n",
            "Iteration 4: x = [0.1024 0.1024], f(x) = 3.7032857599999995\n",
            "Iteration 5: x = [0.08192 0.08192], f(x) = 3.7609508864\n",
            "Iteration 6: x = [0.065536 0.065536], f(x) = 3.8076869672959996\n",
            "Iteration 7: x = [0.0524288 0.0524288], f(x) = 3.84546237906944\n",
            "Iteration 8: x = [0.04194304 0.04194304], f(x) = 3.8759300986044414\n",
            "Iteration 9: x = [0.03355443 0.03355443], f(x) = 3.900462603906842\n",
            "Iteration 10: x = [0.02684355 0.02684355], f(x) = 3.920189939140379\n",
            "Iteration 11: x = [0.02147484 0.02147484], f(x) = 3.936036659161843\n",
            "Iteration 12: x = [0.01717987 0.01717987], f(x) = 3.9487555403531793\n",
            "Iteration 13: x = [0.0137439 0.0137439], f(x) = 3.958957208617715\n",
            "Iteration 14: x = [0.01099512 0.01099512], f(x) = 3.967135543748682\n",
            "Iteration 15: x = [0.00879609 0.00879609], f(x) = 3.9736890921858317\n",
            "Iteration 16: x = [0.00703687 0.00703687], f(x) = 3.978938894348272\n",
            "Iteration 17: x = [0.0056295 0.0056295], f(x) = 3.9831431926623657\n",
            "Iteration 18: x = [0.0045036 0.0045036], f(x) = 3.986509483527492\n",
            "Iteration 19: x = [0.00360288 0.00360288], f(x) = 3.9892043416364578\n",
            "Iteration 20: x = [0.0028823 0.0028823], f(x) = 3.991361396390422\n",
            "Iteration 21: x = [0.00230584 0.00230584], f(x) = 3.993087787884342\n",
            "Iteration 22: x = [0.00184467 0.00184467], f(x) = 3.994469379601556\n",
            "Iteration 23: x = [0.00147574 0.00147574], f(x) = 3.9955749592294585\n",
            "Iteration 24: x = [0.00118059 0.00118059], f(x) = 3.9964596189344226\n",
            "Iteration 25: x = [0.00094447 0.00094447], f(x) = 3.997167472140086\n",
            "Iteration 26: x = [0.00075558 0.00075558], f(x) = 3.9977338349873\n",
            "Iteration 27: x = [0.00060446 0.00060446], f(x) = 3.998186976645987\n",
            "Iteration 28: x = [0.00048357 0.00048357], f(x) = 3.9985495228567243\n",
            "Iteration 29: x = [0.00038686 0.00038686], f(x) = 3.998839580870938\n",
            "Iteration 30: x = [0.00030949 0.00030949], f(x) = 3.9990716407515072\n",
            "Iteration 31: x = [0.00024759 0.00024759], f(x) = 3.999257297276251\n",
            "Iteration 32: x = [0.00019807 0.00019807], f(x) = 3.999405828013029\n",
            "Iteration 33: x = [0.00015846 0.00015846], f(x) = 3.999524656133321\n",
            "Iteration 34: x = [0.00012677 0.00012677], f(x) = 3.9996197208893123\n",
            "Iteration 35: x = [0.00010141 0.00010141], f(x) = 3.9996957741403487\n",
            "Iteration 36: x = [8.11296384e-05 8.11296384e-05], f(x) = 3.999756617666774\n",
            "Iteration 37: x = [6.49037107e-05 6.49037107e-05], f(x) = 3.9998052930802968\n",
            "Iteration 38: x = [5.19229686e-05 5.19229686e-05], f(x) = 3.9998442337902382\n",
            "Iteration 39: x = [4.15383749e-05 4.15383749e-05], f(x) = 3.999875386600832\n",
            "Iteration 40: x = [3.32306999e-05 3.32306999e-05], f(x) = 3.999900309004595\n",
            "Iteration 41: x = [2.65845599e-05 2.65845599e-05], f(x) = 3.9999202470269917\n",
            "Iteration 42: x = [2.12676479e-05 2.12676479e-05], f(x) = 3.9999361975085153\n",
            "Iteration 43: x = [1.70141183e-05 1.70141183e-05], f(x) = 3.9999489579344427\n",
            "Iteration 44: x = [1.36112947e-05 1.36112947e-05], f(x) = 3.9999591663012364\n",
            "Iteration 45: x = [1.08890357e-05 1.08890357e-05], f(x) = 3.9999673330113463\n",
            "Iteration 46: x = [8.71122859e-06 8.71122859e-06], f(x) = 3.999973866390106\n",
            "Iteration 47: x = [6.96898287e-06 6.96898287e-06], f(x) = 3.999979093099943\n",
            "Iteration 48: x = [5.5751863e-06 5.5751863e-06], f(x) = 3.9999832744721844\n",
            "Iteration 49: x = [4.46014904e-06 4.46014904e-06], f(x) = 3.9999866195727742\n",
            "Iteration 50: x = [3.56811923e-06 3.56811923e-06], f(x) = 3.9999892956550367\n",
            "Iteration 51: x = [2.85449539e-06 2.85449539e-06], f(x) = 3.999991436521992\n",
            "Iteration 52: x = [2.28359631e-06 2.28359631e-06], f(x) = 3.9999931492162903\n",
            "Iteration 53: x = [1.82687705e-06 1.82687705e-06], f(x) = 3.999994519372197\n",
            "Iteration 54: x = [1.46150164e-06 1.46150164e-06], f(x) = 3.9999956154972245\n",
            "Iteration 55: x = [1.16920131e-06 1.16920131e-06], f(x) = 3.999996492397437\n",
            "Iteration 56: x = [9.35361048e-07 9.35361048e-07], f(x) = 3.999997193917731\n",
            "Iteration 57: x = [7.48288838e-07 7.48288838e-07], f(x) = 3.9999977551340447\n",
            "Iteration 58: x = [5.98631071e-07 5.98631071e-07], f(x) = 3.999998204107146\n",
            "Iteration 59: x = [4.78904857e-07 4.78904857e-07], f(x) = 3.99999856328566\n",
            "Iteration 60: x = [3.83123885e-07 3.83123885e-07], f(x) = 3.999998850628491\n",
            "Iteration 61: x = [3.06499108e-07 3.06499108e-07], f(x) = 3.99999908050277\n",
            "Iteration 62: x = [2.45199287e-07 2.45199287e-07], f(x) = 3.9999992644022\n",
            "Iteration 63: x = [1.96159429e-07 1.96159429e-07], f(x) = 3.999999411521751\n",
            "Iteration 64: x = [1.56927543e-07 1.56927543e-07], f(x) = 3.999999529217394\n",
            "Iteration 65: x = [1.25542035e-07 1.25542035e-07], f(x) = 3.999999623373911\n",
            "Iteration 66: x = [1.00433628e-07 1.00433628e-07], f(x) = 3.9999996986991273\n",
            "Iteration 67: x = [8.03469022e-08 8.03469022e-08], f(x) = 3.9999997589592997\n",
            "Iteration 68: x = [6.42775218e-08 6.42775218e-08], f(x) = 3.999999807167439\n",
            "Iteration 69: x = [5.14220174e-08 5.14220174e-08], f(x) = 3.9999998457339507\n",
            "Iteration 70: x = [4.1137614e-08 4.1137614e-08], f(x) = 3.9999998765871596\n",
            "Iteration 71: x = [3.29100912e-08 3.29100912e-08], f(x) = 3.9999999012697276\n",
            "Iteration 72: x = [2.63280729e-08 2.63280729e-08], f(x) = 3.9999999210157817\n",
            "Iteration 73: x = [2.10624583e-08 2.10624583e-08], f(x) = 3.999999936812625\n",
            "Iteration 74: x = [1.68499666e-08 1.68499666e-08], f(x) = 3.9999999494501\n",
            "Iteration 75: x = [1.34799733e-08 1.34799733e-08], f(x) = 3.9999999595600797\n",
            "Iteration 76: x = [1.07839786e-08 1.07839786e-08], f(x) = 3.999999967648064\n",
            "Iteration 77: x = [8.62718291e-09 8.62718291e-09], f(x) = 3.999999974118451\n",
            "Iteration 78: x = [6.90174631e-09 6.90174631e-09], f(x) = 3.999999979294761\n",
            "Iteration 79: x = [5.52139706e-09 5.52139706e-09], f(x) = 3.9999999834358086\n",
            "Iteration 80: x = [4.41711764e-09 4.41711764e-09], f(x) = 3.9999999867486475\n",
            "Iteration 81: x = [3.53369414e-09 3.53369414e-09], f(x) = 3.9999999893989173\n",
            "Iteration 82: x = [2.82695531e-09 2.82695531e-09], f(x) = 3.9999999915191338\n",
            "Iteration 83: x = [2.26156424e-09 2.26156424e-09], f(x) = 3.999999993215307\n",
            "Iteration 84: x = [1.80925139e-09 1.80925139e-09], f(x) = 3.9999999945722458\n",
            "Iteration 85: x = [1.44740112e-09 1.44740112e-09], f(x) = 3.999999995657797\n",
            "Iteration 86: x = [1.1579209e-09 1.1579209e-09], f(x) = 3.9999999965262374\n",
            "Iteration 87: x = [9.2633673e-10 9.2633673e-10], f(x) = 3.9999999972209896\n",
            "Iteration 88: x = [7.41069373e-10 7.41069373e-10], f(x) = 3.9999999977767917\n",
            "Iteration 89: x = [5.92855487e-10 5.92855487e-10], f(x) = 3.9999999982214334\n",
            "Iteration 90: x = [4.7428439e-10 4.7428439e-10], f(x) = 3.999999998577147\n",
            "Iteration 91: x = [3.79427517e-10 3.79427517e-10], f(x) = 3.999999998861717\n",
            "Iteration 92: x = [3.03541997e-10 3.03541997e-10], f(x) = 3.9999999990893738\n",
            "Iteration 93: x = [2.42833587e-10 2.42833587e-10], f(x) = 3.9999999992714996\n",
            "Iteration 94: x = [1.9426688e-10 1.9426688e-10], f(x) = 3.9999999994171995\n",
            "Iteration 95: x = [1.55413515e-10 1.55413515e-10], f(x) = 3.9999999995337596\n",
            "Iteration 96: x = [1.24330823e-10 1.24330823e-10], f(x) = 3.9999999996270077\n",
            "Iteration 97: x = [9.94646587e-11 9.94646587e-11], f(x) = 3.999999999701606\n",
            "Iteration 98: x = [7.95717381e-11 7.95717381e-11], f(x) = 3.999999999761285\n",
            "Iteration 99: x = [6.36574127e-11 6.36574127e-11], f(x) = 3.9999999998090274\n",
            "Iteration 100: x = [5.09259024e-11 5.09259024e-11], f(x) = 3.999999999847222\n",
            "\n",
            "Results:\n",
            "Minimum using alpha1 = 0.5: x = [1.11022302e-16 1.11022302e-16], f(x) = 4.0\n",
            "Minimum using alpha2 = 1 / (r + k): x = [5.09259024e-11 5.09259024e-11], f(x) = 3.999999999847222\n"
          ]
        }
      ],
      "source": [
        "import numpy as np\n",
        "\n",
        "# Define the objective function and its gradient\n",
        "def objective_function(x):\n",
        "    f = 0.5 * (x[0] - 2) ** 2 + 0.5 * (x[1] - 2) ** 2 + 0.5 * np.abs(x).sum()\n",
        "    return f\n",
        "\n",
        "def gradient(x):\n",
        "    grad = np.zeros(2)\n",
        "    grad[0] = x[0] - 2 + 0.5 * np.sign(x[0]) + 0.5 * np.sign(x[1])\n",
        "    grad[1] = x[1] - 2 + 0.5 * np.sign(x[1]) + 0.5 * np.sign(x[0])\n",
        "    return grad\n",
        "\n",
        "# Define proximal operator for the L1 regularization term\n",
        "def proximal_operator(x, alpha):\n",
        "    prox_x = np.zeros(2)\n",
        "    for i in range(2):\n",
        "        if x[i] > alpha:\n",
        "            prox_x[i] = x[i] - alpha\n",
        "        elif x[i] < -alpha:\n",
        "            prox_x[i] = x[i] + alpha\n",
        "        else:\n",
        "            prox_x[i] = 0\n",
        "    return prox_x\n",
        "\n",
        "# Proximal gradient descent algorithm\n",
        "def proximal_gradient_descent(initial_x, alpha, num_iterations):\n",
        "    x = initial_x\n",
        "    history = []\n",
        "\n",
        "    for k in range(num_iterations):\n",
        "        grad = gradient(x)\n",
        "        x = proximal_operator(x - alpha * grad, alpha)\n",
        "\n",
        "        # Calculate and store the objective function value\n",
        "        f_x = objective_function(x)\n",
        "        history.append(f_x)\n",
        "\n",
        "        print(f\"Iteration {k + 1}: x = {x}, f(x) = {f_x}\")\n",
        "\n",
        "    return x, history\n",
        "\n",
        "\n",
        "initial_x = np.array([0.0, 0.0])\n",
        "num_iterations = 100\n",
        "alpha1 = 0.5\n",
        "r = 4\n",
        "alpha2 = 1 / (r + np.arange(1, num_iterations + 1))\n",
        "\n",
        "\n",
        "print(\"Using alpha1 = 0.5:\")\n",
        "x1, history1 = proximal_gradient_descent(initial_x, alpha1, num_iterations)\n",
        "\n",
        "print(\"\\nUsing alpha2 = 1 / (r + k):\")\n",
        "x2, history2 = proximal_gradient_descent(initial_x, alpha2[0], num_iterations)\n",
        "\n",
        "# Print the final results\n",
        "print(\"\\nResults:\")\n",
        "print(f\"Minimum using alpha1 = 0.5: x = {x1}, f(x) = {history1[-1]}\")\n",
        "print(f\"Minimum using alpha2 = 1 / (r + k): x = {x2}, f(x) = {history2[-1]}\")\n"
      ]
    },
    {
      "cell_type": "markdown",
      "metadata": {
        "id": "NiLZuHmaJRE4"
      },
      "source": [
        "# Question-5"
      ]
    },
    {
      "cell_type": "markdown",
      "metadata": {
        "id": "BT1nDmYfKAHo"
      },
      "source": [
        "### Question-2 using l1 regularization"
      ]
    },
    {
      "cell_type": "code",
      "execution_count": null,
      "metadata": {
        "colab": {
          "base_uri": "https://localhost:8080/"
        },
        "id": "5gKjBem0J_ib",
        "outputId": "6c771e0b-ec4c-417c-8066-0e26be15080d"
      },
      "outputs": [
        {
          "data": {
            "text/plain": [
              "array([ 2310000,  4410000,  8080940,  7455000,  5565000,  4165000,\n",
              "        6300000,  4900000,  5110000,  3850000,  4900000,  2100000,\n",
              "        4270000,  2275000,  4095000,  6195000,  9681000,  6650000,\n",
              "        4200000,  6615000,  9240000,  3290000, 10850000,  4473000,\n",
              "        5460000,  5810000,  2380000,  7245000,  5803000,  5215000,\n",
              "        5740000,  6510000,  3640000,  3003000,  3920000,  3500000,\n",
              "        5250000,  5523000,  4235000,  3118850,  3290000,  9800000,\n",
              "        5460000,  4200000,  4340000,  8043000,  4305000,  3780000,\n",
              "        3675000,  5250000,  5530000,  3836000,  4060000,  4620000,\n",
              "        5810000,  4515000,  2485000,  8120000,  4200000,  8190000,\n",
              "        5250000,  4907000,  4760000,  7350000,  9100000,  3500000,\n",
              "        2520000,  3500000,  3010000,  3360000,  2940000,  3920000,\n",
              "        4340000,  3255000,  6930000,  4830000,  5320000,  4410000,\n",
              "        4550000,  7210000,  3920000,  2520000,  3500000,  3640000,\n",
              "        5390000,  3353000,  6720000,  5110000,  3773000,  3220000,\n",
              "        6125000,  2870000,  3500000,  3640000,  4690000,  5600000,\n",
              "        4830000,  6650000,  3430000,  3990000])"
            ]
          },
          "execution_count": 115,
          "metadata": {},
          "output_type": "execute_result"
        }
      ],
      "source": [
        "B=data4.values\n",
        "x=data4.iloc[:,[0,1,2]]\n",
        "x=x.values\n",
        "y=B[:,5]\n",
        "y"
      ]
    },
    {
      "cell_type": "code",
      "execution_count": null,
      "metadata": {
        "colab": {
          "base_uri": "https://localhost:8080/"
        },
        "id": "D3X1ci_zKREs",
        "outputId": "a808970b-34a1-44b9-e93f-18a81b3234fb"
      },
      "outputs": [
        {
          "name": "stdout",
          "output_type": "stream",
          "text": [
            "Hyperplane parameters (a): [2.93030219e+02 5.24895049e+05 1.56799047e+06]\n",
            "Bias term (β): -189031.8167416451\n"
          ]
        }
      ],
      "source": [
        "import numpy as np\n",
        "from scipy.optimize import minimize\n",
        "\n",
        "\n",
        "R = 4\n",
        "lambda_value = abs(R / 10 - 5)\n",
        "\n",
        "# Define the loss function with L1 regularization\n",
        "def loss_function(coefficients, A, y, lambda_value):\n",
        "    residuals = A @ coefficients - y\n",
        "    data_fit = 0.5 * np.dot(residuals, residuals)\n",
        "    regularization_term = lambda_value * np.linalg.norm(coefficients, ord=1)\n",
        "    return data_fit + regularization_term\n",
        "\n",
        "initial_guess = np.zeros(A.shape[1])\n",
        "\n",
        "result = minimize(loss_function, initial_guess, args=(A, y, lambda_value), method='L-BFGS-B')\n",
        "\n",
        "\n",
        "coefficients = result.x\n",
        "a = coefficients[:-1]\n",
        "beta = coefficients[-1]\n",
        "\n",
        "# Print the results\n",
        "print(\"Hyperplane parameters (a):\", a)\n",
        "print(\"Bias term (β):\", beta)\n"
      ]
    },
    {
      "cell_type": "code",
      "execution_count": null,
      "metadata": {
        "id": "fDzcCN1_QNJk"
      },
      "outputs": [],
      "source": []
    }
  ],
  "metadata": {
    "colab": {
      "collapsed_sections": [
        "roU1QtxPU3e5",
        "PazP4s2Kf8B1",
        "WfUMOdKpIPJp"
      ],
      "provenance": []
    },
    "kernelspec": {
      "display_name": "Python 3",
      "name": "python3"
    },
    "language_info": {
      "codemirror_mode": {
        "name": "ipython",
        "version": 3
      },
      "file_extension": ".py",
      "mimetype": "text/x-python",
      "name": "python",
      "nbconvert_exporter": "python",
      "pygments_lexer": "ipython3",
      "version": "3.10.11"
    }
  },
  "nbformat": 4,
  "nbformat_minor": 0
}
