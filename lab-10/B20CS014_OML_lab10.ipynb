{
  "nbformat": 4,
  "nbformat_minor": 0,
  "metadata": {
    "colab": {
      "provenance": []
    },
    "kernelspec": {
      "name": "python3",
      "display_name": "Python 3"
    },
    "language_info": {
      "name": "python"
    }
  },
  "cells": [
    {
      "cell_type": "code",
      "execution_count": 1,
      "metadata": {
        "id": "hHEbVAPPQvUy"
      },
      "outputs": [],
      "source": [
        "import numpy as np\n",
        "import pandas as pd\n",
        "from scipy.optimize import minimize\n",
        "from sklearn.svm import SVC\n",
        "from sklearn.impute import SimpleImputer\n",
        "from sklearn.preprocessing import StandardScaler"
      ]
    },
    {
      "cell_type": "markdown",
      "source": [
        "## Question-1"
      ],
      "metadata": {
        "id": "Yuz_0TBuRFo3"
      }
    },
    {
      "cell_type": "code",
      "source": [
        "data1=pd.read_csv('generated_test.csv')\n",
        "data1.columns=['x1','x2','y']\n",
        "X1=data1[['x1','x2']]\n",
        "Y1=data1['y']\n",
        "Y1=Y1.replace(0,-1)\n",
        "X1=X1.values\n",
        "Y1=Y1.values\n",
        "X1=X1[:-1,:]\n",
        "Y1=Y1[:-1]\n",
        "X1=X1.astype(float)\n",
        "Y1=Y1.astype(float)"
      ],
      "metadata": {
        "id": "XcAld-nvQ3ew"
      },
      "execution_count": 2,
      "outputs": []
    },
    {
      "cell_type": "markdown",
      "source": [
        "Primal"
      ],
      "metadata": {
        "id": "ZyM_S4LjZVIv"
      }
    },
    {
      "cell_type": "code",
      "source": [
        "def primal_svm(X, y, C, epochs, learning_rate):\n",
        "    n = X.shape[0]\n",
        "    d = X.shape[1]\n",
        "\n",
        "    w = np.zeros(d)\n",
        "    b = 0\n",
        "    for epoch in range(epochs):\n",
        "        for i in range(n):\n",
        "            condition = 1 - y[i] * (np.dot(w, X[i]) + b)\n",
        "            if condition >= 0:\n",
        "                w = w - learning_rate * (w - C * y[i] * X[i])\n",
        "                b = b + learning_rate * (C * y[i])\n",
        "            else:\n",
        "                w = w - learning_rate * w\n",
        "\n",
        "    return w, b"
      ],
      "metadata": {
        "id": "TEkGmmOURcbq"
      },
      "execution_count": 29,
      "outputs": []
    },
    {
      "cell_type": "code",
      "source": [
        "C = 2\n",
        "epochs = 100\n",
        "learning_rate = 0.01\n"
      ],
      "metadata": {
        "id": "q5DIGhdEmpxV"
      },
      "execution_count": 30,
      "outputs": []
    },
    {
      "cell_type": "code",
      "source": [
        "w_primal, b_primal = primal_svm(X1,Y1, C, epochs, learning_rate)\n",
        "\n",
        "print(\"Primal SVM weights:\", w_primal)\n",
        "print(\"Primal SVM bias:\", b_primal)"
      ],
      "metadata": {
        "colab": {
          "base_uri": "https://localhost:8080/"
        },
        "id": "z6LtXAsWmqth",
        "outputId": "04a16555-e232-46b2-e1fc-b5a063b07b9d"
      },
      "execution_count": 31,
      "outputs": [
        {
          "output_type": "stream",
          "name": "stdout",
          "text": [
            "Primal SVM weights: [ 0.02472236 -0.17547925 -0.19314024  0.20196934]\n",
            "Primal SVM bias: 1.720000000000001\n"
          ]
        }
      ]
    },
    {
      "cell_type": "markdown",
      "source": [
        "Dual"
      ],
      "metadata": {
        "id": "LvAaiFUjTTk2"
      }
    },
    {
      "cell_type": "code",
      "source": [
        "def dual_svm(X, y, C, epochs, learning_rate):\n",
        "    n = X.shape[0]\n",
        "    d = X.shape[1]\n",
        "\n",
        "    alpha = np.zeros(n)\n",
        "    b = 0\n",
        "    for epoch in range(epochs):\n",
        "        for i in range(n):\n",
        "            condition = 1 - y[i] * (sum(alpha[j] * y[j] * np.dot(X[j], X[i]) for j in range(n)) + b)\n",
        "            if condition >= 0:\n",
        "                alpha[i] = alpha[i] + learning_rate\n",
        "                b = b + learning_rate * y[i]\n",
        "\n",
        "    w = sum(alpha[i] * y[i] * X[i] for i in range(n))\n",
        "\n",
        "    return w, b"
      ],
      "metadata": {
        "id": "R1cevVrBTSsp"
      },
      "execution_count": 32,
      "outputs": []
    },
    {
      "cell_type": "code",
      "source": [
        "w_dual, b_dual = dual_svm(X1,Y1, C, epochs, learning_rate)\n",
        "\n",
        "print(\"Dual SVM weights:\", w_dual)\n",
        "print(\"Dual SVM bias:\", b_dual)"
      ],
      "metadata": {
        "colab": {
          "base_uri": "https://localhost:8080/"
        },
        "id": "JXgTmnsOTY-R",
        "outputId": "0adae601-88c3-43e1-9c57-6aa5cfb40339"
      },
      "execution_count": 33,
      "outputs": [
        {
          "output_type": "stream",
          "name": "stdout",
          "text": [
            "Dual SVM weights: [ 0.64443698 -0.23367358 -1.07070937 -0.20745409]\n",
            "Dual SVM bias: 1.370000000000001\n"
          ]
        }
      ]
    },
    {
      "cell_type": "markdown",
      "source": [
        "## Question-2"
      ],
      "metadata": {
        "id": "yoB9KMEDnbeg"
      }
    },
    {
      "cell_type": "code",
      "source": [
        "data2=pd.read_csv('4ColumnDataset (3).csv')\n",
        "data2.columns=['x1','x2','x3','x4','y']\n",
        "X2=data2[['x1','x2','x3','x4']]\n",
        "Y2=data2['y']\n",
        "X2=X2.values\n",
        "Y2=Y2.values\n",
        "X2=X2.astype(float)\n",
        "Y2=Y2.astype(float)"
      ],
      "metadata": {
        "id": "HVhqUVGUTdY9"
      },
      "execution_count": 34,
      "outputs": []
    },
    {
      "cell_type": "markdown",
      "source": [
        "primal"
      ],
      "metadata": {
        "id": "JsNYf7EYordD"
      }
    },
    {
      "cell_type": "code",
      "source": [
        "w_primal, b_primal = primal_svm(X2,Y2, C, epochs, learning_rate)\n",
        "\n",
        "print(\"Primal SVM weights:\", w_primal)\n",
        "print(\"Primal SVM bias:\", b_primal)"
      ],
      "metadata": {
        "colab": {
          "base_uri": "https://localhost:8080/"
        },
        "id": "ZKAg6uKon63H",
        "outputId": "abf7719d-f9a8-45fe-d357-8a8779b6dc49"
      },
      "execution_count": 35,
      "outputs": [
        {
          "output_type": "stream",
          "name": "stdout",
          "text": [
            "Primal SVM weights: [ 0.02210163 -0.13475305 -0.23039219  0.16735371]\n",
            "Primal SVM bias: 1.8000000000000012\n"
          ]
        }
      ]
    },
    {
      "cell_type": "markdown",
      "source": [
        "dual"
      ],
      "metadata": {
        "id": "I9IWbjPdoucG"
      }
    },
    {
      "cell_type": "code",
      "source": [
        "w_dual, b_dual = dual_svm(X2,Y2, C, epochs, learning_rate)\n",
        "\n",
        "print(\"Dual SVM weights:\", w_dual)\n",
        "print(\"Dual SVM bias:\", b_dual)"
      ],
      "metadata": {
        "colab": {
          "base_uri": "https://localhost:8080/"
        },
        "id": "jli3J-iBotmp",
        "outputId": "5f8889b7-dda6-448a-e714-ddbc66797c18"
      },
      "execution_count": 36,
      "outputs": [
        {
          "output_type": "stream",
          "name": "stdout",
          "text": [
            "Dual SVM weights: [ 0.64443698 -0.23367358 -1.07070937 -0.20745409]\n",
            "Dual SVM bias: 1.370000000000001\n"
          ]
        }
      ]
    },
    {
      "cell_type": "markdown",
      "source": [
        "### Question-3"
      ],
      "metadata": {
        "id": "OPvgPBtTpWIg"
      }
    },
    {
      "cell_type": "code",
      "source": [
        "data3=pd.read_csv('diabetes (1).csv')\n",
        "data3.columns=['x1','x2','x3','x4','x5','x6','x7','x8','y']\n",
        "X3=data3[['x1','x2','x3','x4','x5','x6','x7','x8']]\n",
        "Y3=data3['y']\n",
        "X3=X3.values\n",
        "Y3=Y3.values\n",
        "X3=X3.astype(float)\n",
        "Y3 = np.where(Y3 == True, 1, -1)\n",
        "imp = SimpleImputer(missing_values=0, strategy='mean')\n",
        "X3 = imp.fit_transform(X3)\n",
        "scaler = StandardScaler()\n",
        "X3 = scaler.fit_transform(X3)"
      ],
      "metadata": {
        "id": "--8zK2qsoxjT"
      },
      "execution_count": 39,
      "outputs": []
    },
    {
      "cell_type": "markdown",
      "source": [
        "primal"
      ],
      "metadata": {
        "id": "i4Yv_G9VqXKr"
      }
    },
    {
      "cell_type": "code",
      "source": [
        "\n",
        "w_primal, b_primal = primal_svm(X3, Y3, C, epochs, learning_rate)\n",
        "\n",
        "print(\"Primal SVM weights:\", w_primal)\n",
        "print(\"Primal SVM bias:\", b_primal)\n"
      ],
      "metadata": {
        "colab": {
          "base_uri": "https://localhost:8080/"
        },
        "id": "fAtgrUXcqA9d",
        "outputId": "8ee5d89d-6784-405f-f019-4e1a7a3320a5"
      },
      "execution_count": 40,
      "outputs": [
        {
          "output_type": "stream",
          "name": "stdout",
          "text": [
            "Primal SVM weights: [0.11709737 0.46501478 0.00058605 0.08955644 0.16147625 0.17201811\n",
            " 0.0341016  0.18204557]\n",
            "Primal SVM bias: -0.6400000000000002\n"
          ]
        }
      ]
    },
    {
      "cell_type": "markdown",
      "source": [
        "dual"
      ],
      "metadata": {
        "id": "jiD7H82-qduu"
      }
    },
    {
      "cell_type": "code",
      "source": [
        "\n",
        "# Calculate dual SVM\n",
        "w_dual, b_dual = dual_svm(X3, Y3, C, epochs, learning_rate)\n",
        "\n",
        "print(\"Dual SVM weights:\", w_dual)\n",
        "print(\"Dual SVM bias:\", b_dual)"
      ],
      "metadata": {
        "colab": {
          "base_uri": "https://localhost:8080/"
        },
        "id": "lTOjZ9PRqVuU",
        "outputId": "da0cadf2-9ad3-41d0-d5e5-f5fb78e0e32c"
      },
      "execution_count": 41,
      "outputs": [
        {
          "output_type": "stream",
          "name": "stdout",
          "text": [
            "Dual SVM weights: [ 0.35321645  1.00519896 -0.14074049  0.01250841 -0.02814571  0.42789486\n",
            "  0.22415604  0.24109083]\n",
            "Dual SVM bias: -0.7200000000000004\n"
          ]
        }
      ]
    },
    {
      "cell_type": "markdown",
      "source": [
        "## Question-4"
      ],
      "metadata": {
        "id": "MZFe8VfDqem-"
      }
    },
    {
      "cell_type": "code",
      "source": [
        "data4=pd.read_csv('breast-cancer.csv')\n",
        "data4['diagnosis'] = np.where(data4['diagnosis'] == 'M', 1, -1)  # Encoding M as 1 and B as -1\n",
        "X4 = data4.drop(['id', 'diagnosis'], axis=1)\n",
        "Y4= data4['diagnosis']\n",
        "scaler = StandardScaler()\n",
        "X4 = scaler.fit_transform(X4)\n"
      ],
      "metadata": {
        "id": "ZsIhjXomqboO"
      },
      "execution_count": 43,
      "outputs": []
    },
    {
      "cell_type": "markdown",
      "source": [
        "primal"
      ],
      "metadata": {
        "id": "XZ0sy5iFrUXP"
      }
    },
    {
      "cell_type": "code",
      "source": [
        "w_primal, b_primal = primal_svm(X4, Y4, C, epochs, learning_rate)\n",
        "\n",
        "print(\"Primal SVM weights:\", w_primal)\n",
        "print(\"Primal SVM bias:\", b_primal)"
      ],
      "metadata": {
        "colab": {
          "base_uri": "https://localhost:8080/"
        },
        "id": "eEYQiPgUrIjp",
        "outputId": "1e16dc36-25cf-443e-8848-6d2fc1e7a766"
      },
      "execution_count": 44,
      "outputs": [
        {
          "output_type": "stream",
          "name": "stdout",
          "text": [
            "Primal SVM weights: [ 0.1173729   0.0525216   0.11562448  0.11817456  0.00953667  0.01455527\n",
            "  0.13047284  0.13944675  0.09204788 -0.06192908  0.10597932  0.02631634\n",
            "  0.07142761  0.0994733   0.02033439 -0.03365129  0.0154106  -0.00510845\n",
            "  0.02674507 -0.05037338  0.12722405  0.09221036  0.11750187  0.12483012\n",
            "  0.06157111  0.02823111  0.09095074  0.10179537  0.09008984 -0.00136201]\n",
            "Primal SVM bias: -0.6400000000000002\n"
          ]
        }
      ]
    },
    {
      "cell_type": "markdown",
      "source": [
        "dual"
      ],
      "metadata": {
        "id": "Vt-mVgPAraJM"
      }
    },
    {
      "cell_type": "code",
      "source": [
        "w_dual, b_dual = dual_svm(X4, Y4, C, epochs, learning_rate)\n",
        "\n",
        "print(\"Dual SVM weights:\", w_dual)\n",
        "print(\"Dual SVM bias:\", b_dual)"
      ],
      "metadata": {
        "colab": {
          "base_uri": "https://localhost:8080/"
        },
        "id": "9jd06uz1rYHJ",
        "outputId": "8e27ca52-cdb0-4bcd-af1a-61015ff002c6"
      },
      "execution_count": 45,
      "outputs": [
        {
          "output_type": "stream",
          "name": "stdout",
          "text": [
            "Dual SVM weights: [ 0.2836103  -0.0873491   0.2488385   0.33435042  0.08227217 -0.84964994\n",
            "  0.86914644  0.93297592 -0.04610429 -0.4042067   1.23078058 -0.46616097\n",
            "  0.39608067  1.22098094  0.32498395 -0.59746394 -0.51389436  0.52427704\n",
            "  0.04956193 -0.73039556  0.83487168  1.43086043  0.52315747  1.00088317\n",
            "  0.63030991 -0.26237427  1.22912729  0.53554251  0.58912593  1.02526245]\n",
            "Dual SVM bias: 0.11000000000000001\n"
          ]
        }
      ]
    }
  ]
}