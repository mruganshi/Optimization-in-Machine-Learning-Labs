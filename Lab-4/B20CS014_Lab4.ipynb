{
  "nbformat": 4,
  "nbformat_minor": 0,
  "metadata": {
    "colab": {
      "provenance": []
    },
    "kernelspec": {
      "name": "python3",
      "display_name": "Python 3"
    },
    "language_info": {
      "name": "python"
    }
  },
  "cells": [
    {
      "cell_type": "markdown",
      "source": [
        "Mruganshi Gohel\n",
        "\n",
        "B20CS014"
      ],
      "metadata": {
        "id": "YsjmYYyczW04"
      }
    },
    {
      "cell_type": "code",
      "source": [
        "import imp\n",
        "import pandas as pd\n",
        "import numpy as np\n",
        "import matplotlib.pyplot as plt\n",
        "import cvxopt as cp\n",
        "import cvxpy as cvx"
      ],
      "metadata": {
        "id": "Cf0mQbuM--Q_"
      },
      "execution_count": 2,
      "outputs": []
    },
    {
      "cell_type": "markdown",
      "source": [
        "# Question-1"
      ],
      "metadata": {
        "id": "tolCMoh3-O4o"
      }
    },
    {
      "cell_type": "markdown",
      "source": [
        "min max{5x1 + 2x2 , 3x1 + 7x2}\n",
        "\n",
        "s.t. x1 + 2x2 ≤ 3\n",
        "\n",
        "4x1 + 3x2 ≥ 6\n",
        "\n",
        "3x1 + x2 = 3\n",
        "\n",
        "x1, x2 ≥ 0"
      ],
      "metadata": {
        "id": "YJBjt-Ph-RIo"
      }
    },
    {
      "cell_type": "code",
      "execution_count": 3,
      "metadata": {
        "colab": {
          "base_uri": "https://localhost:8080/"
        },
        "id": "71DJdDGX89zW",
        "outputId": "eeb526e6-a742-424d-ab8b-f9d580d67312"
      },
      "outputs": [
        {
          "output_type": "stream",
          "name": "stdout",
          "text": [
            "     pcost       dcost       gap    pres   dres   k/t\n",
            " 0:  6.3199e+00  1.0259e+01  2e+01  5e-01  1e+01  1e+00\n",
            " 1:  7.1245e+00  9.5250e+00  7e+00  2e-01  4e+00  1e+00\n",
            " 2:  9.5893e+00  1.0482e+01  3e+00  6e-02  1e+00  6e-01\n",
            " 3:  1.0185e+01  1.0198e+01  7e-02  1e-03  3e-02  6e-03\n",
            " 4:  1.0200e+01  1.0200e+01  7e-04  1e-05  3e-04  6e-05\n",
            " 5:  1.0200e+01  1.0200e+01  7e-06  1e-07  3e-06  6e-07\n",
            " 6:  1.0200e+01  1.0200e+01  7e-08  1e-09  3e-08  6e-09\n",
            "Optimal solution found.\n",
            "[ 6.00e-01]\n",
            "[ 1.20e+00]\n",
            "[ 1.02e+01]\n",
            "\n",
            "Minimum value of objective function is:  10.19999998544809\n"
          ]
        }
      ],
      "source": [
        "c = np.array([[0.0],[0.0],[1.0]])\n",
        "A = np.array([[5,2,-1],[3,7,-1],[1,2,0],[-4,-3,0],[3,1,0],[-3,-1,0],[-1,0,0],[0,-1,0]])\n",
        "b = np.array([[0],[0],[3],[-6],[3],[-3],[0],[0]])\n",
        "sol = cp.solvers.lp(cp.matrix(c,tc='d'), cp.matrix(A,tc='d'),cp.matrix(b,tc='d'))\n",
        "print(sol['x'])\n",
        "print(\"Minimum value of objective function is: \",sol['primal objective'])"
      ]
    },
    {
      "cell_type": "markdown",
      "source": [
        "# Question-2"
      ],
      "metadata": {
        "id": "hKS-VFS0RpSH"
      }
    },
    {
      "cell_type": "code",
      "source": [
        "import numpy as np\n",
        "from scipy.optimize import linprog\n",
        "\n",
        "n = 3\n",
        "m = 5\n",
        "\n",
        "A_eq = np.zeros((n + m, n * m))\n",
        "costs = np.array([\n",
        "    [4, 2, 3, 2, 6],\n",
        "    [5, 4, 5, 2, 1],\n",
        "    [6, 5, 4, 7, 7]\n",
        "])\n",
        "c = costs.flatten()\n",
        "supply = [8,12,14]\n",
        "\n",
        "for i in range(n):\n",
        "    for j in range(m):\n",
        "        A_eq[i, i * m + j] = 1\n",
        "        A_eq[n + j, i * m + j] = 1\n",
        "\n",
        "\n",
        "demand = [7, 5, 6, 8, 8]\n",
        "b_eq = np.hstack((supply, demand))\n",
        "\n",
        "bounds = [(0, None)] * (n * m)\n",
        "result = linprog(c, A_eq=A_eq, b_eq=b_eq, bounds=bounds, method='highs')\n",
        "print(result)\n",
        "solution_matrix = np.reshape(result.x, (n, m))\n",
        "\n",
        "print(\"Optimal solution:\")\n",
        "print(solution_matrix)\n",
        "print(\"The optimal value of objective function is: \",result.fun)"
      ],
      "metadata": {
        "colab": {
          "base_uri": "https://localhost:8080/"
        },
        "id": "feLQTKQeGQ_X",
        "outputId": "9949f84a-7232-4bba-dd59-e29822dfa31f"
      },
      "execution_count": 5,
      "outputs": [
        {
          "output_type": "stream",
          "name": "stdout",
          "text": [
            "        message: Optimization terminated successfully. (HiGHS Status 7: Optimal)\n",
            "        success: True\n",
            "         status: 0\n",
            "            fun: 103.0\n",
            "              x: [ 0.000e+00  4.000e+00 ...  0.000e+00  0.000e+00]\n",
            "            nit: 11\n",
            "          lower:  residual: [ 0.000e+00  4.000e+00 ...  0.000e+00\n",
            "                              0.000e+00]\n",
            "                 marginals: [ 1.000e+00  0.000e+00 ...  2.000e+00\n",
            "                              3.000e+00]\n",
            "          upper:  residual: [       inf        inf ...        inf\n",
            "                                    inf]\n",
            "                 marginals: [ 0.000e+00  0.000e+00 ...  0.000e+00\n",
            "                              0.000e+00]\n",
            "          eqlin:  residual: [ 0.000e+00  0.000e+00  0.000e+00  0.000e+00\n",
            "                              0.000e+00  0.000e+00  0.000e+00  0.000e+00]\n",
            "                 marginals: [-3.000e+00 -3.000e+00 -0.000e+00  6.000e+00\n",
            "                              5.000e+00  4.000e+00  5.000e+00  4.000e+00]\n",
            "        ineqlin:  residual: []\n",
            "                 marginals: []\n",
            " mip_node_count: 0\n",
            " mip_dual_bound: 0.0\n",
            "        mip_gap: 0.0\n",
            "Optimal solution:\n",
            "[[0. 4. 0. 4. 0.]\n",
            " [0. 0. 0. 4. 8.]\n",
            " [7. 1. 6. 0. 0.]]\n",
            "The optimal value of objective function is:  103.0\n"
          ]
        }
      ]
    },
    {
      "cell_type": "markdown",
      "source": [
        "# Question-3"
      ],
      "metadata": {
        "id": "dTW8Iry2_v3E"
      }
    },
    {
      "cell_type": "markdown",
      "source": [
        "objective function- 2t12 + 3t13 + 3t15 + 2t23+ 4t24 + t34 + 2t35+ 3t46 + t56  \n",
        "\n",
        "t12 + t13 + t15 = 1 (node 1)\n",
        "\n",
        "t12 - t24 - t23 = -3 (node 2)\n",
        "\n",
        "t13 + t23 - t34 - t35 = 0 (node 3)\n",
        "\n",
        "t24 + t34 - t46 = 0 (node 4)\n",
        "\n",
        "t15 + t35 - t56 = 0 (node 5)\n",
        "\n",
        "t46 + t56 = 4 (node 6)\n",
        "\n",
        "t12, t13, t15, t23, t24, t34, t35, t46, t56 >= 0"
      ],
      "metadata": {
        "id": "FCRMdbOMAAeC"
      }
    },
    {
      "cell_type": "code",
      "source": [
        "c = np.array([[2.0],[3.0],[3.0],[2.0],[4.0],[1.0],[2.0],[3.0],[1.0]])\n",
        "A = np.array([[1,1,1,0,0,0,0,0,0],[-1,-1,-1,0,0,0,0,0,0],[1,0,0,-1,-1,0,0,0,0],[-1,0,0,1,1,0,0,0,0],[0,1,0,1,0,-1,-1,0,0],[0,-1,0,-1,0,1,1,0,0],[0,0,0,0,1,1,0,-1,0],[0,0,0,0,-1,-1,0,1,0],[0,0,1,0,0,0,1,0,-1],[0,0,-1,0,0,0,-1,0,1],[0,0,0,0,0,0,0,1,1],[0,0,0,0,0,0,0,-1,-1],[-1,0,0,0,0,0,0,0,0],[0,-1,0,0,0,0,0,0,0],[0,0,-1,0,0,0,0,0,0],[0,0,0,-1,0,0,0,0,0],[0,0,0,0,-1,0,0,0,0],[0,0,0,0,0,-1,0,0,0],[0,0,0,0,0,0,-1,0,0],[0,0,0,0,0,0,0,-1,0],[0,0,0,0,0,0,0,0,-1]])\n",
        "b = np.array([[1],[-1],[-3],[3],[0],[0],[0],[0],[0],[0],[4],[-4],[0],[0],[0],[0],[0],[0],[0],[0],[0]])\n",
        "sol = cp.solvers.lp(cp.matrix(c,tc='d'), cp.matrix(A,tc='d'),cp.matrix(b,tc='d'))\n",
        "print(sol['x'])\n",
        "print(\"Minimum value of objective function is: \",sol['primal objective'])"
      ],
      "metadata": {
        "colab": {
          "base_uri": "https://localhost:8080/"
        },
        "id": "5Mg9f1Im_hq2",
        "outputId": "da96195c-02d3-4c43-b514-b3474c52c375"
      },
      "execution_count": 6,
      "outputs": [
        {
          "output_type": "stream",
          "name": "stdout",
          "text": [
            "     pcost       dcost       gap    pres   dres   k/t\n",
            " 0:  1.6755e+01  1.6755e+01  1e+02  1e+00  9e-01  1e+00\n",
            " 1:  1.9879e+01  2.0379e+01  1e+01  2e-01  1e-01  7e-01\n",
            " 2:  1.9159e+01  1.9241e+01  2e+00  3e-02  2e-02  1e-01\n",
            " 3:  1.9002e+01  1.9003e+01  2e-02  3e-04  3e-04  1e-03\n",
            " 4:  1.9000e+01  1.9000e+01  2e-04  3e-06  3e-06  1e-05\n",
            " 5:  1.9000e+01  1.9000e+01  2e-06  3e-08  3e-08  1e-07\n",
            "Optimal solution found.\n",
            "[-8.62e-09]\n",
            "[ 1.27e-08]\n",
            "[ 1.00e+00]\n",
            "[ 3.00e+00]\n",
            "[-1.26e-08]\n",
            "[ 2.48e-07]\n",
            "[ 3.00e+00]\n",
            "[ 2.36e-07]\n",
            "[ 4.00e+00]\n",
            "\n",
            "Minimum value of objective function is:  19.000000160934924\n"
          ]
        }
      ]
    },
    {
      "cell_type": "markdown",
      "source": [
        "# Question-4\n"
      ],
      "metadata": {
        "id": "3nAxwDlQqBiB"
      }
    },
    {
      "cell_type": "code",
      "source": [
        "c = np.array([[5.0],[1.0],[1.0],[2.0],[4.0]])\n",
        "A= np.array([[-1, 0, 0, 0, 0],[0, -1, 0, 0, 0],[0, 0, -1, 0, 0],[0, 0, 0, -1, 0],[0, 0, 0, 0, -1],[1, 0, 0, 0, 0],[0, 1, 0, 0, 0],[0, 0, 1, 0, 0],[0, 0, 0, 1, 0],[0, 0, 0, 0, 1]])\n",
        "b = np.array([[0],[0],[0],[0],[0],[3],[1],[2],[3],[2]])\n",
        "Aeq = np.array([[ 1 ,  1,  0 ,  0,  0],\n",
        "              [ 0 , -1,  1 ,  0,  1],\n",
        "              [-1 ,  0, -1 ,  1,  0],\n",
        "              [ 0 ,  0,  0 , -1, -1]])\n",
        "beq = np.array([[2],[2],[-2],[-2]])\n",
        "\n",
        "sol = cp.solvers.lp(cp.matrix(c,tc='d'), cp.matrix(A,tc='d'),cp.matrix(b,tc='d'),cp.matrix(Aeq,tc='d'),cp.matrix(beq,tc='d'), solver = 'glpk')\n",
        "\n",
        "print(sol['x'])\n",
        "print(\"Minimum value of objective function is: \",sol['primal objective'])"
      ],
      "metadata": {
        "id": "U5Dh6I-IUjkj",
        "colab": {
          "base_uri": "https://localhost:8080/"
        },
        "outputId": "9e1b4287-76c7-41af-8f8c-1b3f19be90b6"
      },
      "execution_count": 7,
      "outputs": [
        {
          "output_type": "stream",
          "name": "stdout",
          "text": [
            "[ 1.00e+00]\n",
            "[ 1.00e+00]\n",
            "[ 2.00e+00]\n",
            "[ 1.00e+00]\n",
            "[ 1.00e+00]\n",
            "\n",
            "Minimum value of objective function is:  14.0\n"
          ]
        }
      ]
    },
    {
      "cell_type": "markdown",
      "source": [
        "# Question-5"
      ],
      "metadata": {
        "id": "bJNTXvXZsig9"
      }
    },
    {
      "cell_type": "code",
      "source": [
        "c=np.array([[4.0],[6.0],[6.0],[6.0],[8.0],[9.0],[5.0],[4.0],[6.0],[5.0],[5.0],[7.0],[6.0],[8.0],[4.0],[9.0],[3.0],[7.0],[9.0],[6.0]])\n",
        "b=np.zeros((20, 1))\n",
        "A=np.negative(np.identity(20,dtype='int'))\n",
        "Aeq=np.array([[ 1 ,  1,  1 ,  0,  0,  0,  0,  0,  0, 0, 0 ,  0,  0 ,  0,  0,  0,  0,  0,  0, 0],\n",
        "              [-1 ,  0,  0 ,  1,  1,  1,  0,  0,  0, 0, 0 ,  0,  0 ,  0,  0,  0,  0,  0,  0, 0],\n",
        "              [ 0 , -1,  0 ,  0,  0,  0,  1,  1,  1, 0, 0 ,  0,  0 ,  0,  0,  0,  0,  0,  0, 0],\n",
        "              [ 0 ,  0, -1 ,  0,  0,  0,  0,  0,  0, 1, 1 ,  1,  0 ,  0,  0,  0,  0,  0,  0, 0],\n",
        "              [ 0 ,  0,  0 , -1,  0,  0, -1,  0,  0,-1, 0 ,  0,  1 ,  1,  0,  0,  0,  0,  0, 0],\n",
        "              [ 0 ,  0,  0 ,  0, -1,  0,  0, -1,  0, 0,-1 ,  0,  0 ,  0,  1,  1,  0,  0,  0, 0],\n",
        "              [ 0 ,  0,  0 ,  0,  0, -1,  0,  0, -1, 0, 0 , -1,  0 ,  0,  0,  0,  1,  1,  0, 0],\n",
        "              [ 0 ,  0,  0 ,  0,  0,  0,  0,  0,  0, 0, 0 ,  0, -1 ,  0, -1,  0, -1,  0,  1, 0],\n",
        "              [ 0 ,  0,  0 ,  0,  0,  0,  0,  0,  0, 0, 0 ,  0,  0 , -1,  0, -1,  0, -1,  0, 1],\n",
        "              [ 0 ,  0,  0 ,  0,  0,  0,  0,  0,  0, 0, 0 ,  0,  0 ,  0,  0,  0,  0,  0, -1,-1],\n",
        "              ])\n",
        "beq=np.array([[1],\n",
        "              [0],\n",
        "              [0],\n",
        "              [0],\n",
        "              [0],\n",
        "              [0],\n",
        "              [0],\n",
        "              [0],\n",
        "              [0],\n",
        "              [-1]\n",
        "              ])\n",
        "sol =cp.solvers.lp(cp.matrix(c,tc='d'),cp.matrix(A,tc='d'),cp.matrix(b,tc='d'), cp.matrix(Aeq,tc='d'),cp.matrix(beq,tc='d'),solver='glpk')\n",
        "\n",
        "print(sol['x'])\n",
        "print(\"Minimum value of objective function is: \",sol['primal objective'])"
      ],
      "metadata": {
        "colab": {
          "base_uri": "https://localhost:8080/"
        },
        "id": "zaPwiUtvsNR8",
        "outputId": "765f9456-639f-4f00-ca36-74a0a2d2c790"
      },
      "execution_count": 8,
      "outputs": [
        {
          "output_type": "stream",
          "name": "stdout",
          "text": [
            "[ 0.00e+00]\n",
            "[ 1.00e+00]\n",
            "[ 0.00e+00]\n",
            "[ 0.00e+00]\n",
            "[ 0.00e+00]\n",
            "[ 0.00e+00]\n",
            "[ 0.00e+00]\n",
            "[ 1.00e+00]\n",
            "[ 0.00e+00]\n",
            "[ 0.00e+00]\n",
            "[ 0.00e+00]\n",
            "[ 0.00e+00]\n",
            "[ 0.00e+00]\n",
            "[ 0.00e+00]\n",
            "[ 1.00e+00]\n",
            "[ 0.00e+00]\n",
            "[ 0.00e+00]\n",
            "[ 0.00e+00]\n",
            "[ 1.00e+00]\n",
            "[ 0.00e+00]\n",
            "\n",
            "Minimum value of objective function is:  23.0\n"
          ]
        }
      ]
    },
    {
      "cell_type": "markdown",
      "source": [
        "# Question-6"
      ],
      "metadata": {
        "id": "PZ9ldpM2srft"
      }
    },
    {
      "cell_type": "code",
      "source": [
        "\n",
        "c=np.array([20,28,19,13,15,30,31,28,40,21,20,17,21,28,26,12])\n",
        "b=np.zeros((16, 1))\n",
        "A=np.negative(np.identity(16,dtype='int'))\n",
        "beq=np.array([[1],[1],[1],[1],[-1],[-1],[-1],[-1]])\n",
        "Aeq=np.array([[1,0,0,0,1,0,0,0,1,0,0,0,1,0,0,0],\n",
        "            [0,1,0,0,0,1,0,0,0,1,0,0,0,1,0,0],\n",
        "            [0,0,1,0,0,0,1,0,0,0,1,0,0,0,1,0],\n",
        "            [0,0,0,1,0,0,0,1,0,0,0,1,0,0,0,1],\n",
        "            [-1,-1,-1,-1,0,0,0,0,0,0,0,0,0,0,0,0],\n",
        "            [0,0,0,0,-1,-1,-1,-1,0,0,0,0,0,0,0,0],\n",
        "            [0,0,0,0,0,0,0,0,-1,-1,-1,-1,0,0,0,0],\n",
        "            [0,0,0,0,0,0,0,0,0,0,0,0,-1,-1,-1,-1]])\n",
        "\n",
        "sol = cp.solvers.lp(cp.matrix(c, tc = 'd'), cp.matrix(A, tc = 'd'), cp.matrix(b, tc = 'd'), cp.matrix(Aeq, tc = 'd'), cp.matrix(beq, tc = 'd'), solver = 'glpk')\n",
        "print(sol['x'])\n",
        "print(\"Minimum value of objective function is: \",sol['primal objective'])"
      ],
      "metadata": {
        "colab": {
          "base_uri": "https://localhost:8080/"
        },
        "id": "L4PQA1mxsoiI",
        "outputId": "bf18bf34-96ff-4ba9-d18d-951665b58a97"
      },
      "execution_count": 9,
      "outputs": [
        {
          "output_type": "stream",
          "name": "stdout",
          "text": [
            "[ 0.00e+00]\n",
            "[ 0.00e+00]\n",
            "[ 1.00e+00]\n",
            "[ 0.00e+00]\n",
            "[ 1.00e+00]\n",
            "[ 0.00e+00]\n",
            "[ 0.00e+00]\n",
            "[ 0.00e+00]\n",
            "[ 0.00e+00]\n",
            "[ 1.00e+00]\n",
            "[ 0.00e+00]\n",
            "[ 0.00e+00]\n",
            "[ 0.00e+00]\n",
            "[ 0.00e+00]\n",
            "[ 0.00e+00]\n",
            "[ 1.00e+00]\n",
            "\n",
            "Minimum value of objective function is:  67.0\n"
          ]
        }
      ]
    },
    {
      "cell_type": "markdown",
      "source": [
        "# Question-7"
      ],
      "metadata": {
        "id": "GYAe2G0Gs2p8"
      }
    },
    {
      "cell_type": "code",
      "source": [
        "c=np.array([37.7,32.9,33.8,37.0,35.4,43.4,33.1,42.2,34.7,41.8,33.3,28.5,38.9,30.4,33.6,29.2,26.4,29.6,28.5,31.1,0,0,0,0,0])\n",
        "b=np.zeros((25, 1))\n",
        "A=np.negative(np.identity(25,dtype='int'))\n",
        "beq=np.array([[1],[1],[1],[1],[1],[-1],[-1],[-1],[-1],[-1]])\n",
        "\n",
        "Aeq=np.array([\n",
        "              [1,0,0,0,0,1,0,0,0,0,1,0,0,0,0,1,0,0,0,0,1,0,0,0,0],\n",
        "              [0,1,0,0,0,0,1,0,0,0,0,1,0,0,0,0,1,0,0,0,0,1,0,0,0],\n",
        "              [0,0,1,0,0,0,0,1,0,0,0,0,1,0,0,0,0,1,0,0,0,0,1,0,0],\n",
        "              [0,0,0,1,0,0,0,0,1,0,0,0,0,1,0,0,0,0,1,0,0,0,0,1,0],\n",
        "              [0,0,0,0,1,0,0,0,0,1,0,0,0,0,1,0,0,0,0,1,0,0,0,0,1],\n",
        "              [-1,-1,-1,-1,-1,0,0,0,0,0,0,0,0,0,0,0,0,0,0,0,0,0,0,0,0],\n",
        "              [0,0,0,0,0,-1,-1,-1,-1,-1,0,0,0,0,0,0,0,0,0,0,0,0,0,0,0],\n",
        "              [0,0,0,0,0,0,0,0,0,0,-1,-1,-1,-1,-1,0,0,0,0,0,0,0,0,0,0],\n",
        "              [0,0,0,0,0,0,0,0,0,0,0,0,0,0,0,-1,-1,-1,-1,-1,0,0,0,0,0],\n",
        "              [0,0,0,0,0,0,0,0,0,0,0,0,0,0,0,0,0,0,0,0,-1,-1,-1,-1,-1]\n",
        "])\n",
        "\n",
        "\n",
        "sol =cp.solvers.lp(cp.matrix(c,tc='d'),cp.matrix(A,tc='d'),cp.matrix(b,tc='d'), cp.matrix(Aeq,tc='d'),cp.matrix(beq,tc='d'),solver='glpk')\n",
        "\n",
        "print(sol['x'])\n",
        "print(\"Minimum value of objective function is: \",sol['primal objective'])"
      ],
      "metadata": {
        "colab": {
          "base_uri": "https://localhost:8080/"
        },
        "id": "p-zSw1xasvaN",
        "outputId": "d8b864eb-f71d-4c22-e405-293aaabd3399"
      },
      "execution_count": 10,
      "outputs": [
        {
          "output_type": "stream",
          "name": "stdout",
          "text": [
            "[ 0.00e+00]\n",
            "[ 0.00e+00]\n",
            "[ 1.00e+00]\n",
            "[ 0.00e+00]\n",
            "[ 0.00e+00]\n",
            "[ 0.00e+00]\n",
            "[ 0.00e+00]\n",
            "[ 0.00e+00]\n",
            "[ 1.00e+00]\n",
            "[ 0.00e+00]\n",
            "[ 0.00e+00]\n",
            "[ 1.00e+00]\n",
            "[ 0.00e+00]\n",
            "[ 0.00e+00]\n",
            "[ 0.00e+00]\n",
            "[ 1.00e+00]\n",
            "[ 0.00e+00]\n",
            "[ 0.00e+00]\n",
            "[ 0.00e+00]\n",
            "[ 0.00e+00]\n",
            "[ 0.00e+00]\n",
            "[ 0.00e+00]\n",
            "[ 0.00e+00]\n",
            "[ 0.00e+00]\n",
            "[ 1.00e+00]\n",
            "\n",
            "Minimum value of objective function is:  126.2\n"
          ]
        }
      ]
    },
    {
      "cell_type": "code",
      "source": [],
      "metadata": {
        "id": "IUZYhyYgvxwl"
      },
      "execution_count": 10,
      "outputs": []
    }
  ]
}