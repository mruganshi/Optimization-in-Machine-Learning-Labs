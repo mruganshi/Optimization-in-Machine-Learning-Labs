{
  "nbformat": 4,
  "nbformat_minor": 0,
  "metadata": {
    "colab": {
      "provenance": []
    },
    "kernelspec": {
      "name": "python3",
      "display_name": "Python 3"
    },
    "language_info": {
      "name": "python"
    }
  },
  "cells": [
    {
      "cell_type": "markdown",
      "source": [
        "Mruganshi Gohel\n",
        "\n",
        "B20CS014"
      ],
      "metadata": {
        "id": "tm2djZd18f-R"
      }
    },
    {
      "cell_type": "code",
      "source": [
        "import numpy as np\n",
        "from cvxopt import matrix, solvers\n",
        "import random\n",
        "from pandas.core.common import flatten"
      ],
      "metadata": {
        "id": "RpQDdwXN7kVQ"
      },
      "execution_count": 155,
      "outputs": []
    },
    {
      "cell_type": "markdown",
      "source": [
        "# Question -1"
      ],
      "metadata": {
        "id": "bUgkfiDO7GhJ"
      }
    },
    {
      "cell_type": "markdown",
      "source": [
        "*Step -1: Function define*"
      ],
      "metadata": {
        "id": "ZIhJO5V_xGp5"
      }
    },
    {
      "cell_type": "code",
      "execution_count": 156,
      "metadata": {
        "id": "AcQfmhcF4Z6Z"
      },
      "outputs": [],
      "source": [
        "def f(x):\n",
        "    return (x[0] - 4)**2 + (x[1]- 4)**2"
      ]
    },
    {
      "cell_type": "code",
      "source": [
        "x0 = np.array([-0.5 * 4, 1.5 * 4])\n",
        "f(x0)"
      ],
      "metadata": {
        "colab": {
          "base_uri": "https://localhost:8080/"
        },
        "id": "fyuc525X7D2V",
        "outputId": "d15cfdee-3c20-41ff-e120-bbd7150348ba"
      },
      "execution_count": 157,
      "outputs": [
        {
          "output_type": "execute_result",
          "data": {
            "text/plain": [
              "40.0"
            ]
          },
          "metadata": {},
          "execution_count": 157
        }
      ]
    },
    {
      "cell_type": "markdown",
      "source": [
        "*Step-2: Find Gredient and hessian of the given function*"
      ],
      "metadata": {
        "id": "-bLqbG4nxPQ_"
      }
    },
    {
      "cell_type": "code",
      "source": [
        "def grad_hess_f(x):\n",
        "  f0=f(x)\n",
        "  n=len(x)\n",
        "  h= 10**(-5)\n",
        "  b=np.zeros(n)\n",
        "  g=np.zeros(n)\n",
        "  H=np.zeros((n,n))\n",
        "  for i in range(0,n):\n",
        "    x1=x.copy()\n",
        "    x1[i]=x1[i]+h\n",
        "    b[i]=f(x1)\n",
        "    g[i]=(f(x1)-f0)/h\n",
        "  for i in range(0,n):\n",
        "    for j in range(0,n):\n",
        "      x2=x.copy()\n",
        "      x2[i]=x2[i]+h\n",
        "      x2[j]=x2[j]+h\n",
        "      H[i][j]=(f(x2)-b[i]-b[j]+f0)/h**2\n",
        "  return g,H"
      ],
      "metadata": {
        "id": "AK3ubPG-EkCU"
      },
      "execution_count": 158,
      "outputs": []
    },
    {
      "cell_type": "code",
      "source": [
        "g,h = grad_hess_f(x0)\n",
        "print(g)\n",
        "print(h)"
      ],
      "metadata": {
        "colab": {
          "base_uri": "https://localhost:8080/"
        },
        "id": "G0vJHawEFz8w",
        "outputId": "b57dc168-ff41-4918-c97b-5706d8b85ce2"
      },
      "execution_count": 159,
      "outputs": [
        {
          "output_type": "stream",
          "name": "stdout",
          "text": [
            "[-11.99999   4.00001]\n",
            "[[1.99982253 0.        ]\n",
            " [0.         1.99996464]]\n"
          ]
        }
      ]
    },
    {
      "cell_type": "markdown",
      "source": [
        "*Step-3: Find Eigen values of hessian matrix*"
      ],
      "metadata": {
        "id": "uH1nb92RxVr2"
      }
    },
    {
      "cell_type": "code",
      "source": [
        "np.linalg.eig(h)"
      ],
      "metadata": {
        "colab": {
          "base_uri": "https://localhost:8080/"
        },
        "id": "oGzDFzQ59BDr",
        "outputId": "99a5f1a9-d936-4d13-a361-fd993e5ce4d4"
      },
      "execution_count": 160,
      "outputs": [
        {
          "output_type": "execute_result",
          "data": {
            "text/plain": [
              "(array([1.99982253, 1.99996464]),\n",
              " array([[1., 0.],\n",
              "        [0., 1.]]))"
            ]
          },
          "metadata": {},
          "execution_count": 160
        }
      ]
    },
    {
      "cell_type": "markdown",
      "source": [
        "***Eigen values are positive and hence it is positive definite and function is convex function***"
      ],
      "metadata": {
        "id": "mhqpkWRAxZ-j"
      }
    },
    {
      "cell_type": "markdown",
      "source": [
        "*Step-5: if hessian matrix is positive definite then find optimal solution*"
      ],
      "metadata": {
        "id": "xS5ml4Nhx4Em"
      }
    },
    {
      "cell_type": "code",
      "source": [
        "A=np.vstack((-np.identity(2),np.identity(2)))\n",
        "lb=[-2*4,-2*4]\n",
        "ub=[2*4,2*4]\n",
        "b=np.append(x0-lb,ub-x0)"
      ],
      "metadata": {
        "id": "LZvkz55ZQ0Md"
      },
      "execution_count": 161,
      "outputs": []
    },
    {
      "cell_type": "code",
      "source": [
        "soln= solvers.qp(matrix(h),matrix(g),matrix(A),matrix(b))\n",
        "print(np.round_(soln['x'],decimals=5),soln['primal objective'])\n",
        "v1_11=np.round_(soln['x'],decimals=5)"
      ],
      "metadata": {
        "colab": {
          "base_uri": "https://localhost:8080/"
        },
        "id": "2qzrmop2WZCi",
        "outputId": "844cb63f-4276-42c0-d643-acf07a3a7e56"
      },
      "execution_count": 162,
      "outputs": [
        {
          "output_type": "stream",
          "name": "stdout",
          "text": [
            "     pcost       dcost       gap    pres   dres\n",
            " 0: -3.2002e+01 -1.1201e+02  8e+01  5e-17  0e+00\n",
            " 1: -3.9813e+01 -4.5444e+01  6e+00  4e-16  2e-16\n",
            " 2: -4.0003e+01 -4.0075e+01  7e-02  1e-16  6e-17\n",
            " 3: -4.0003e+01 -4.0004e+01  7e-04  1e-16  4e-17\n",
            " 4: -4.0003e+01 -4.0003e+01  7e-06  1e-16  9e-17\n",
            "Optimal solution found.\n",
            "[[ 6.00053]\n",
            " [-2.00004]] -40.00322546304221\n"
          ]
        }
      ]
    },
    {
      "cell_type": "markdown",
      "source": [
        "*Solution Correctness Check: if **dot product of gradient and optimal solution** is coming out **negative** then solution is correct (as said in the lab lecture by sir)*"
      ],
      "metadata": {
        "id": "DJhRbMz9yQrQ"
      }
    },
    {
      "cell_type": "code",
      "source": [
        "v1_11=list(flatten(v1_11))\n",
        "v2_11=list(g)\n",
        "np.dot(v2_11,v1_11)"
      ],
      "metadata": {
        "colab": {
          "base_uri": "https://localhost:8080/"
        },
        "id": "URVn2wUfypY8",
        "outputId": "b752faf8-3563-4402-cc41-42b9608d4099"
      },
      "execution_count": 163,
      "outputs": [
        {
          "output_type": "execute_result",
          "data": {
            "text/plain": [
              "-80.0064799913572"
            ]
          },
          "metadata": {},
          "execution_count": 163
        }
      ]
    },
    {
      "cell_type": "markdown",
      "source": [
        "# Question -2"
      ],
      "metadata": {
        "id": "XRIijUin__vq"
      }
    },
    {
      "cell_type": "markdown",
      "source": [
        "*Step-1: function defining as per question and taking dimension as 10 in input*"
      ],
      "metadata": {
        "id": "X13ya5CrzOfI"
      }
    },
    {
      "cell_type": "code",
      "source": [
        "import numpy as np\n",
        "\n",
        "#function f1\n",
        "def f1_1(x):\n",
        "    n = len(x)\n",
        "    I1 = [i for i in range(2, n+1) if i % 2 == 1]\n",
        "    denominator = len(I1)\n",
        "    result = x[0]\n",
        "    for i in I1:\n",
        "        result += ((x[i-1] - np.sin(6 * np.pi * x[0] + (i * np.pi / n)))**2 )*(2/(denominator))\n",
        "    return result\n",
        "\n",
        "#function f2\n",
        "def f2_1(x):\n",
        "    n = len(x)\n",
        "    I2 = [i for i in range(2, n+1) if i % 2 == 0]\n",
        "    denominator = len(I2)\n",
        "    result = 1 - np.sqrt(x[0])\n",
        "    for i in I2:\n",
        "        result += ((x[i-1] - np.sin(6 * np.pi * x[0] + (i * np.pi / n)))**2 )*(2/(denominator))\n",
        "    return result\n",
        "\n",
        "# taking random 10 values for input in the range given in the question\n",
        "x1=[]\n",
        "x1.append(random.uniform(0.001, 1))\n",
        "for i in range(9):\n",
        "  x1.append(random.uniform(-1, 1))\n",
        "print(\"f1:\", f1_1(x1))\n",
        "print(\"f2:\", f2_1(x1))\n"
      ],
      "metadata": {
        "id": "kUTeBNBS_r5Q",
        "colab": {
          "base_uri": "https://localhost:8080/"
        },
        "outputId": "30b89565-43a1-45bb-875a-df3ccf389df5"
      },
      "execution_count": 164,
      "outputs": [
        {
          "output_type": "stream",
          "name": "stdout",
          "text": [
            "f1: 2.213232820817811\n",
            "f2: 3.384556157104867\n"
          ]
        }
      ]
    },
    {
      "cell_type": "markdown",
      "source": [
        "**Optimal Solution Procedure for F1**"
      ],
      "metadata": {
        "id": "aQNOK-RUArba"
      }
    },
    {
      "cell_type": "markdown",
      "source": [
        "*Step-2: gradient and hessian find for f1*"
      ],
      "metadata": {
        "id": "LzXyhMjHzuPb"
      }
    },
    {
      "cell_type": "code",
      "source": [
        "def grad_hess_f1_1(x):\n",
        "  f0=f1_1(x)\n",
        "  n=len(x)\n",
        "  h= 10**(-5)\n",
        "  b=np.zeros(n)\n",
        "  g=np.zeros(n)\n",
        "  H=np.zeros((n,n))\n",
        "  for i in range(0,n):\n",
        "    x1=x.copy()\n",
        "    x1[i]=x1[i]+h\n",
        "    b[i]=f1_1(x1)\n",
        "    g[i]=(f1_1(x1)-f0)/h\n",
        "  for i in range(0,n):\n",
        "    for j in range(0,n):\n",
        "      x2=x.copy()\n",
        "      x2[i]=x2[i]+h\n",
        "      x2[j]=x2[j]+h\n",
        "      H[i][j]=(f1_1(x2)-b[i]-b[j]+f0)/h**2\n",
        "  # solver.qp()\n",
        "  return g,H"
      ],
      "metadata": {
        "id": "UgLx_DfZAlZo"
      },
      "execution_count": 165,
      "outputs": []
    },
    {
      "cell_type": "code",
      "source": [
        "g1_1,h1_1 = grad_hess_f1_1(x1)\n",
        "print(g1_1)\n",
        "print(h1_1)"
      ],
      "metadata": {
        "id": "uSb9TarZNJ6W",
        "colab": {
          "base_uri": "https://localhost:8080/"
        },
        "outputId": "0b2b1cf0-27d4-46a3-f876-14cd71657b50"
      },
      "execution_count": 166,
      "outputs": [
        {
          "output_type": "stream",
          "name": "stdout",
          "text": [
            "[12.75821308  0.          1.6379952   0.          0.12064833  0.\n",
            " -0.14896497  0.          0.13511519  0.        ]\n",
            "[[ 78.27261506   0.           7.73600739   0.          -3.84485332\n",
            "    0.         -13.95710214   0.         -18.73821986   0.        ]\n",
            " [  0.           0.           0.           0.           0.\n",
            "    0.           0.           0.           0.           0.        ]\n",
            " [  7.73600739   0.           1.00000008   0.           0.\n",
            "    0.           0.           0.           0.           0.        ]\n",
            " [  0.           0.           0.           0.           0.\n",
            "    0.           0.           0.           0.           0.        ]\n",
            " [ -3.84485332   0.           0.           0.           1.00000008\n",
            "    0.           0.           0.           0.           0.        ]\n",
            " [  0.           0.           0.           0.           0.\n",
            "    0.           0.           0.           0.           0.        ]\n",
            " [-13.95710214   0.           0.           0.           0.\n",
            "    0.           1.00000452   0.           0.           0.        ]\n",
            " [  0.           0.           0.           0.           0.\n",
            "    0.           0.           0.           0.           0.        ]\n",
            " [-18.73821986   0.           0.           0.           0.\n",
            "    0.           0.           0.           1.00000008   0.        ]\n",
            " [  0.           0.           0.           0.           0.\n",
            "    0.           0.           0.           0.           0.        ]]\n"
          ]
        }
      ]
    },
    {
      "cell_type": "markdown",
      "source": [
        "*Step-3: Eigen value finding for hessian matrix of f1 and check if all are positive or not if positive find optimal solution else make hessian positive and find optimal solution*"
      ],
      "metadata": {
        "id": "0F-RAt-iz2xA"
      }
    },
    {
      "cell_type": "code",
      "source": [
        "v1_1,u1_1=np.linalg.eig(h1_1)\n",
        "v1_1"
      ],
      "metadata": {
        "colab": {
          "base_uri": "https://localhost:8080/"
        },
        "id": "elo1BLKc75c_",
        "outputId": "992e3128-b61f-4aad-d9ac-b7c7a2487c16"
      },
      "execution_count": 167,
      "outputs": [
        {
          "output_type": "execute_result",
          "data": {
            "text/plain": [
              "array([85.60710871, -6.33449218,  1.00000313,  1.00000008,  1.00000008,\n",
              "        0.        ,  0.        ,  0.        ,  0.        ,  0.        ])"
            ]
          },
          "metadata": {},
          "execution_count": 167
        }
      ]
    },
    {
      "cell_type": "markdown",
      "source": [
        "*Hessian is not positive definite and hence to find optimal solution we have to make it positive definite by following below formula*"
      ],
      "metadata": {
        "id": "hji-Z09b0EsW"
      }
    },
    {
      "cell_type": "markdown",
      "source": [
        "Step-4: New Heassian FInding"
      ],
      "metadata": {
        "id": "5vPOQwQI0SnD"
      }
    },
    {
      "cell_type": "code",
      "source": [
        "newH1_1 = h1_1@h1_1 + (0.001-min(v1_1))*np.identity(10, dtype = float)"
      ],
      "metadata": {
        "id": "XcbmAfcW97TL"
      },
      "execution_count": 168,
      "outputs": []
    },
    {
      "cell_type": "code",
      "source": [
        "np.linalg.eig(newH1_1)"
      ],
      "metadata": {
        "colab": {
          "base_uri": "https://localhost:8080/"
        },
        "id": "t-pnCs93_Dcw",
        "outputId": "5e20eaa9-ff62-44b5-f0e2-7f3b42b7ec0f"
      },
      "execution_count": 169,
      "outputs": [
        {
          "output_type": "execute_result",
          "data": {
            "text/plain": [
              "(array([7.33491255e+03, 4.64612834e+01, 7.33549844e+00, 7.33549234e+00,\n",
              "        7.33549234e+00, 6.33549218e+00, 6.33549218e+00, 6.33549218e+00,\n",
              "        6.33549218e+00, 6.33549218e+00]),\n",
              " array([[-9.59284423e-01,  2.82441844e-01, -8.27326687e-08,\n",
              "         -5.25073162e-17,  6.24045890e-17,  0.00000000e+00,\n",
              "          0.00000000e+00,  0.00000000e+00,  0.00000000e+00,\n",
              "          0.00000000e+00],\n",
              "        [ 0.00000000e+00,  0.00000000e+00,  0.00000000e+00,\n",
              "          0.00000000e+00,  0.00000000e+00,  1.00000000e+00,\n",
              "          0.00000000e+00,  0.00000000e+00,  0.00000000e+00,\n",
              "          0.00000000e+00],\n",
              "        [-8.77116771e-02, -2.97903674e-01, -2.10061450e-01,\n",
              "          5.16002592e-01, -7.74439565e-01,  0.00000000e+00,\n",
              "          0.00000000e+00,  0.00000000e+00,  0.00000000e+00,\n",
              "          0.00000000e+00],\n",
              "        [ 0.00000000e+00,  0.00000000e+00,  0.00000000e+00,\n",
              "          0.00000000e+00,  0.00000000e+00,  0.00000000e+00,\n",
              "          1.00000000e+00,  0.00000000e+00,  0.00000000e+00,\n",
              "          0.00000000e+00],\n",
              "        [ 4.35933572e-02,  1.48060346e-01,  1.04402104e-01,\n",
              "          8.55768559e-01, -6.01416049e-01,  0.00000000e+00,\n",
              "          0.00000000e+00,  0.00000000e+00,  0.00000000e+00,\n",
              "          0.00000000e+00],\n",
              "        [ 0.00000000e+00,  0.00000000e+00,  0.00000000e+00,\n",
              "          0.00000000e+00,  0.00000000e+00,  0.00000000e+00,\n",
              "          0.00000000e+00,  1.00000000e+00,  0.00000000e+00,\n",
              "          0.00000000e+00],\n",
              "        [ 1.58247121e-01,  5.37469689e-01, -8.28301987e-01,\n",
              "         -2.10327920e-10,  5.49500039e-10,  0.00000000e+00,\n",
              "          0.00000000e+00,  0.00000000e+00,  0.00000000e+00,\n",
              "          0.00000000e+00],\n",
              "        [ 0.00000000e+00,  0.00000000e+00,  0.00000000e+00,\n",
              "          0.00000000e+00,  0.00000000e+00,  0.00000000e+00,\n",
              "          0.00000000e+00,  0.00000000e+00,  1.00000000e+00,\n",
              "          0.00000000e+00],\n",
              "        [ 2.12455936e-01,  7.21584696e-01,  5.08812545e-01,\n",
              "          3.74366021e-02, -1.96321408e-01,  0.00000000e+00,\n",
              "          0.00000000e+00,  0.00000000e+00,  0.00000000e+00,\n",
              "          0.00000000e+00],\n",
              "        [ 0.00000000e+00,  0.00000000e+00,  0.00000000e+00,\n",
              "          0.00000000e+00,  0.00000000e+00,  0.00000000e+00,\n",
              "          0.00000000e+00,  0.00000000e+00,  0.00000000e+00,\n",
              "          1.00000000e+00]]))"
            ]
          },
          "metadata": {},
          "execution_count": 169
        }
      ]
    },
    {
      "cell_type": "markdown",
      "source": [
        "*As we can see above for new hessian matrix eigen values are coming out positive and hence we have positive definite hessian matrix and using this we will find optimal solution*"
      ],
      "metadata": {
        "id": "GaWVUDCt0YsC"
      }
    },
    {
      "cell_type": "markdown",
      "source": [
        "Step-6: FInd Optimal Solution"
      ],
      "metadata": {
        "id": "PQU3TXu20pIz"
      }
    },
    {
      "cell_type": "code",
      "source": [
        "A1_1=np.vstack((-np.identity(10),np.identity(10)))\n",
        "lb1_1=[0.001,-1,-1,-1,-1,-1,-1,-1,-1,-1]\n",
        "ub1_1=[1,1,1,1,1,1,1,1,1,1]\n",
        "lb1_1 = np.array(lb1_1)\n",
        "ub1_1 = np.array(ub1_1)\n",
        "b1_1=np.append(x1-lb1_1,ub1_1-x1)\n",
        "soln_1= solvers.qp(matrix(newH1_1),matrix(g1_1),matrix(A1_1),matrix(b1_1))\n",
        "print(np.round_(soln_1['x'],decimals=5),soln_1['primal objective'])\n",
        "v1_11 = np.round_(soln_1['x'],decimals=5)"
      ],
      "metadata": {
        "colab": {
          "base_uri": "https://localhost:8080/"
        },
        "id": "KlVl_OCA6pLs",
        "outputId": "2d7089b8-70b4-475d-8c40-7dc3a5f1491f"
      },
      "execution_count": 170,
      "outputs": [
        {
          "output_type": "stream",
          "name": "stdout",
          "text": [
            "     pcost       dcost       gap    pres   dres\n",
            " 0:  2.7966e-01 -2.8647e+01  3e+01  5e-17  4e-16\n",
            " 1: -2.0599e-01 -1.4280e+00  1e+00  2e-16  4e-15\n",
            " 2: -2.8175e-01 -3.2816e-01  5e-02  2e-16  1e-15\n",
            " 3: -2.8789e-01 -2.9038e-01  2e-03  2e-16  6e-16\n",
            " 4: -2.8864e-01 -2.8895e-01  3e-04  1e-16  9e-16\n",
            " 5: -2.8872e-01 -2.8875e-01  4e-05  2e-16  2e-15\n",
            " 6: -2.8872e-01 -2.8872e-01  2e-06  1e-16  1e-15\n",
            " 7: -2.8872e-01 -2.8872e-01  2e-08  2e-16  2e-15\n",
            "Optimal solution found.\n",
            "[[-0.02077]\n",
            " [-0.     ]\n",
            " [-0.18327]\n",
            " [-0.     ]\n",
            " [-0.03634]\n",
            " [-0.     ]\n",
            " [-0.05192]\n",
            " [-0.     ]\n",
            " [-0.11538]\n",
            " [ 0.     ]] -0.28872108539681524\n"
          ]
        }
      ]
    },
    {
      "cell_type": "markdown",
      "source": [
        "***Solution Correctness check***"
      ],
      "metadata": {
        "id": "XbBU9_T60suF"
      }
    },
    {
      "cell_type": "code",
      "source": [
        "v1_11 = list(flatten(v1_11))\n",
        "v2_11= list(g1_1)\n",
        "np.dot(v2_11,v1_11)"
      ],
      "metadata": {
        "colab": {
          "base_uri": "https://localhost:8080/"
        },
        "id": "f0bD3LagoDPr",
        "outputId": "d82d66c7-541a-46a6-f1ac-793660a86515"
      },
      "execution_count": 171,
      "outputs": [
        {
          "output_type": "execute_result",
          "data": {
            "text/plain": [
              "-0.5774231554908237"
            ]
          },
          "metadata": {},
          "execution_count": 171
        }
      ]
    },
    {
      "cell_type": "markdown",
      "source": [
        "*Now onwards I will be following same steps as above*"
      ],
      "metadata": {
        "id": "49qMgf8V00Yv"
      }
    },
    {
      "cell_type": "markdown",
      "source": [
        "**Optimal Solution Procedure for F2**"
      ],
      "metadata": {
        "id": "SBzaLkP4Bpow"
      }
    },
    {
      "cell_type": "markdown",
      "source": [
        "*Step-2: Gradient and Hessian finding*"
      ],
      "metadata": {
        "id": "t19mpOab1Dsh"
      }
    },
    {
      "cell_type": "code",
      "source": [
        "def grad_hess_f2_1(x):\n",
        "  f0=f2_1(x)\n",
        "  n=len(x)\n",
        "  h= 10**(-5)\n",
        "  b=np.zeros(n)\n",
        "  g=np.zeros(n)\n",
        "  H=np.zeros((n,n))\n",
        "  for i in range(0,n):\n",
        "    x1=x.copy()\n",
        "    x1[i]=x1[i]+h\n",
        "    b[i]=f2_1(x1)\n",
        "    g[i]=(f2_1(x1)-f0)/h\n",
        "  for i in range(0,n):\n",
        "    for j in range(0,n):\n",
        "      x2=x.copy()\n",
        "      x2[i]=x2[i]+h\n",
        "      x2[j]=x2[j]+h\n",
        "      H[i][j]=(f2_1(x2)-b[i]-b[j]+f0)/h**2\n",
        "  # solver.qp()\n",
        "  return g,H"
      ],
      "metadata": {
        "id": "9LMjPBkaBo4g"
      },
      "execution_count": 172,
      "outputs": []
    },
    {
      "cell_type": "code",
      "source": [
        "g2_1,h2_1 = grad_hess_f2_1(x1)\n",
        "print(g2_1)\n",
        "print(h2_1)"
      ],
      "metadata": {
        "colab": {
          "base_uri": "https://localhost:8080/"
        },
        "id": "nwjNiGUOB1g-",
        "outputId": "38189f2b-7889-43c3-a430-82c2b2e3ef1a"
      },
      "execution_count": 173,
      "outputs": [
        {
          "output_type": "stream",
          "name": "stdout",
          "text": [
            "[ 5.17517771  0.76888687  0.          1.59227843  0.          1.10589064\n",
            "  0.          0.61936656  0.         -0.74315433]\n",
            "[[-5.39008838e+02  1.01352438e+01  0.00000000e+00  1.63656644e+00\n",
            "   0.00000000e+00 -7.48723306e+00  0.00000000e+00 -1.37511602e+01\n",
            "   0.00000000e+00 -1.47626089e+01]\n",
            " [ 1.01352438e+01  8.00000066e-01  0.00000000e+00  0.00000000e+00\n",
            "   0.00000000e+00  0.00000000e+00  0.00000000e+00  0.00000000e+00\n",
            "   0.00000000e+00  0.00000000e+00]\n",
            " [ 0.00000000e+00  0.00000000e+00  0.00000000e+00  0.00000000e+00\n",
            "   0.00000000e+00  0.00000000e+00  0.00000000e+00  0.00000000e+00\n",
            "   0.00000000e+00  0.00000000e+00]\n",
            " [ 1.63656644e+00  0.00000000e+00  0.00000000e+00  8.00008948e-01\n",
            "   0.00000000e+00  0.00000000e+00  0.00000000e+00  0.00000000e+00\n",
            "   0.00000000e+00  4.44089210e-06]\n",
            " [ 0.00000000e+00  0.00000000e+00  0.00000000e+00  0.00000000e+00\n",
            "   0.00000000e+00  0.00000000e+00  0.00000000e+00  0.00000000e+00\n",
            "   0.00000000e+00  0.00000000e+00]\n",
            " [-7.48723306e+00  0.00000000e+00  0.00000000e+00  0.00000000e+00\n",
            "   0.00000000e+00  8.00000066e-01  0.00000000e+00  0.00000000e+00\n",
            "   0.00000000e+00  0.00000000e+00]\n",
            " [ 0.00000000e+00  0.00000000e+00  0.00000000e+00  0.00000000e+00\n",
            "   0.00000000e+00  0.00000000e+00  0.00000000e+00  0.00000000e+00\n",
            "   0.00000000e+00  0.00000000e+00]\n",
            " [-1.37511602e+01  0.00000000e+00  0.00000000e+00  0.00000000e+00\n",
            "   0.00000000e+00  0.00000000e+00  0.00000000e+00  8.00000066e-01\n",
            "   0.00000000e+00  0.00000000e+00]\n",
            " [ 0.00000000e+00  0.00000000e+00  0.00000000e+00  0.00000000e+00\n",
            "   0.00000000e+00  0.00000000e+00  0.00000000e+00  0.00000000e+00\n",
            "   0.00000000e+00  0.00000000e+00]\n",
            " [-1.47626089e+01  0.00000000e+00  0.00000000e+00  4.44089210e-06\n",
            "   0.00000000e+00  0.00000000e+00  0.00000000e+00  0.00000000e+00\n",
            "   0.00000000e+00  8.00004507e-01]]\n"
          ]
        }
      ]
    },
    {
      "cell_type": "markdown",
      "source": [
        "*Step-3: Eigen values find*"
      ],
      "metadata": {
        "id": "2mEqnFEU2dAk"
      }
    },
    {
      "cell_type": "code",
      "source": [
        "v2_1,u2_1=np.linalg.eig(h2_1)\n",
        "v2_1"
      ],
      "metadata": {
        "colab": {
          "base_uri": "https://localhost:8080/"
        },
        "id": "tFYleBq6B5B1",
        "outputId": "4c203e3a-6fbe-4d9b-e84d-0242a6cc8f96"
      },
      "execution_count": 174,
      "outputs": [
        {
          "output_type": "execute_result",
          "data": {
            "text/plain": [
              "array([-540.05992155,    1.85108542,    0.80001091,    0.80000118,\n",
              "          0.80000007,    0.80000007,    0.        ,    0.        ,\n",
              "          0.        ,    0.        ])"
            ]
          },
          "metadata": {},
          "execution_count": 174
        }
      ]
    },
    {
      "cell_type": "markdown",
      "source": [
        "not positive deifnite matrix"
      ],
      "metadata": {
        "id": "eDdjRSRB2lBL"
      }
    },
    {
      "cell_type": "markdown",
      "source": [
        "*Step-4: Find transformed hessian and its eigen values*"
      ],
      "metadata": {
        "id": "5XisWJi02n82"
      }
    },
    {
      "cell_type": "code",
      "source": [
        "newH2_1 = h2_1@h2_1 + (0.001-min(v2_1))*np.identity(10, dtype = float)"
      ],
      "metadata": {
        "id": "Rgp7gHLrCC_h"
      },
      "execution_count": 175,
      "outputs": []
    },
    {
      "cell_type": "code",
      "source": [
        "np.linalg.eig(newH2_1)"
      ],
      "metadata": {
        "colab": {
          "base_uri": "https://localhost:8080/"
        },
        "id": "7fEXm0PJCHRL",
        "outputId": "4edd58fa-56b5-4137-9071-0f8ac4a7c783"
      },
      "execution_count": 176,
      "outputs": [
        {
          "output_type": "execute_result",
          "data": {
            "text/plain": [
              "(array([292204.77978523,    543.48743878,    540.700939  ,    540.70092344,\n",
              "           540.70092166,    540.70092166,    540.06092155,    540.06092155,\n",
              "           540.06092155,    540.06092155]),\n",
              " array([[-9.99029735e-01, -4.40407517e-02,  1.18530699e-07,\n",
              "          3.51267728e-08, -3.42796966e-15, -1.56415552e-15,\n",
              "          0.00000000e+00,  0.00000000e+00,  0.00000000e+00,\n",
              "          0.00000000e+00],\n",
              "        [ 1.87209469e-02, -4.24669370e-01,  1.10795623e-01,\n",
              "          3.19869125e-01, -8.30067803e-01, -6.92834893e-02,\n",
              "          0.00000000e+00,  0.00000000e+00,  0.00000000e+00,\n",
              "          0.00000000e+00],\n",
              "        [ 0.00000000e+00,  0.00000000e+00,  0.00000000e+00,\n",
              "          0.00000000e+00,  0.00000000e+00,  0.00000000e+00,\n",
              "          1.00000000e+00,  0.00000000e+00,  0.00000000e+00,\n",
              "          0.00000000e+00],\n",
              "        [ 3.02292435e-03, -6.85705287e-02,  9.10957775e-01,\n",
              "         -4.06749159e-01,  1.89747894e-08,  6.69723463e-09,\n",
              "          0.00000000e+00,  0.00000000e+00,  0.00000000e+00,\n",
              "          0.00000000e+00],\n",
              "        [ 0.00000000e+00,  0.00000000e+00,  0.00000000e+00,\n",
              "          0.00000000e+00,  0.00000000e+00,  0.00000000e+00,\n",
              "          0.00000000e+00,  1.00000000e+00,  0.00000000e+00,\n",
              "          0.00000000e+00],\n",
              "        [-1.38297703e-02,  3.13717027e-01, -8.18483212e-02,\n",
              "         -2.36297772e-01, -1.25847708e-01,  8.53812762e-01,\n",
              "          0.00000000e+00,  0.00000000e+00,  0.00000000e+00,\n",
              "          0.00000000e+00],\n",
              "        [ 0.00000000e+00,  0.00000000e+00,  0.00000000e+00,\n",
              "          0.00000000e+00,  0.00000000e+00,  0.00000000e+00,\n",
              "          0.00000000e+00,  0.00000000e+00,  1.00000000e+00,\n",
              "          0.00000000e+00],\n",
              "        [-2.53999555e-02,  5.76177217e-01, -1.50323808e-01,\n",
              "         -4.33987920e-01, -5.43276906e-01, -5.15949189e-01,\n",
              "          0.00000000e+00,  0.00000000e+00,  0.00000000e+00,\n",
              "          0.00000000e+00],\n",
              "        [ 0.00000000e+00,  0.00000000e+00,  0.00000000e+00,\n",
              "          0.00000000e+00,  0.00000000e+00,  0.00000000e+00,\n",
              "          0.00000000e+00,  0.00000000e+00,  0.00000000e+00,\n",
              "          1.00000000e+00],\n",
              "        [-2.72682160e-02,  6.18559506e-01,  3.58585927e-01,\n",
              "          6.98610559e-01, -4.06440188e-08, -1.41892708e-08,\n",
              "          0.00000000e+00,  0.00000000e+00,  0.00000000e+00,\n",
              "          0.00000000e+00]]))"
            ]
          },
          "metadata": {},
          "execution_count": 176
        }
      ]
    },
    {
      "cell_type": "markdown",
      "source": [
        "*All eigen values are positive and so now we have positive definite hessian to find optimal solution*"
      ],
      "metadata": {
        "id": "cLKrClOH2xwv"
      }
    },
    {
      "cell_type": "markdown",
      "source": [
        "*Step-5: Optimal solution*"
      ],
      "metadata": {
        "id": "oq4Id4DP263J"
      }
    },
    {
      "cell_type": "code",
      "source": [
        "A2_1=np.vstack((-np.identity(10),np.identity(10)))\n",
        "lb2_1=[0.001,-1,-1,-1,-1,-1,-1,-1,-1,-1]\n",
        "ub2_1=[1,1,1,1,1,1,1,1,1,1]\n",
        "lb2_1 = np.array(lb2_1)\n",
        "ub2_1 = np.array(ub2_1)\n",
        "b2_1=np.append(x1-lb2_1,ub2_1-x1)\n",
        "soln2_1= solvers.qp(matrix(newH2_1),matrix(g2_1),matrix(A2_1),matrix(b2_1))\n",
        "print(np.round_(soln2_1['x'],decimals=5),soln2_1['primal objective'])\n",
        "v1_12=np.round_(soln2_1['x'],decimals=5)"
      ],
      "metadata": {
        "colab": {
          "base_uri": "https://localhost:8080/"
        },
        "id": "AsfNLBYHCLy1",
        "outputId": "57154679-3e2e-47ed-dcf7-083d4fccf791"
      },
      "execution_count": 177,
      "outputs": [
        {
          "output_type": "stream",
          "name": "stdout",
          "text": [
            "     pcost       dcost       gap    pres   dres\n",
            " 0:  9.2610e-03 -3.0330e+01  3e+01  4e-17  3e-16\n",
            " 1: -4.9405e-03 -3.2050e-01  3e-01  2e-16  2e-16\n",
            " 2: -5.0610e-03 -8.2536e-03  3e-03  2e-16  2e-16\n",
            " 3: -5.0611e-03 -5.0930e-03  3e-05  2e-16  5e-16\n",
            " 4: -5.0611e-03 -5.0614e-03  3e-07  1e-16  6e-16\n",
            " 5: -5.0611e-03 -5.0611e-03  3e-09  2e-16  3e-16\n",
            "Optimal solution found.\n",
            "[[-5.00e-05]\n",
            " [-1.60e-03]\n",
            " [-0.00e+00]\n",
            " [-2.97e-03]\n",
            " [ 0.00e+00]\n",
            " [-1.91e-03]\n",
            " [ 0.00e+00]\n",
            " [-9.10e-04]\n",
            " [-0.00e+00]\n",
            " [ 1.63e-03]] -0.005061054748060722\n"
          ]
        }
      ]
    },
    {
      "cell_type": "markdown",
      "source": [
        "***Solution Correctness***"
      ],
      "metadata": {
        "id": "8b6MTyIC4Lph"
      }
    },
    {
      "cell_type": "code",
      "source": [
        "v1_12 = list(flatten(v1_12))\n",
        "v2_12= list(g2_1)\n",
        "np.dot(v2_12,v1_12)"
      ],
      "metadata": {
        "colab": {
          "base_uri": "https://localhost:8080/"
        },
        "id": "OY5qGTFrpbTr",
        "outputId": "7feba5c5-3224-4703-87b2-eef2935960b3"
      },
      "execution_count": 178,
      "outputs": [
        {
          "output_type": "execute_result",
          "data": {
            "text/plain": [
              "-0.010105261045008973"
            ]
          },
          "metadata": {},
          "execution_count": 178
        }
      ]
    },
    {
      "cell_type": "markdown",
      "source": [
        "# Question-3"
      ],
      "metadata": {
        "id": "NB0jXRvN_PdB"
      }
    },
    {
      "cell_type": "markdown",
      "source": [
        "*Function Definition*"
      ],
      "metadata": {
        "id": "m-uL3bfK3nLU"
      }
    },
    {
      "cell_type": "code",
      "source": [
        "import numpy as np\n",
        "\n",
        "def yi_3(i,x):\n",
        "  n=len(x)\n",
        "  if(i%2==1):\n",
        "    return x[i-1]-((0.3* ((x[0]**2)*np.cos((24 * np.pi * x[0])+(4*i*np.pi / n))) + 0.6*x[0])*(np.cos((6 * np.pi * x[0]) + (i* np.pi / n))))\n",
        "  else:\n",
        "    return x[i-1]-((0.3* ((x[0]**2)*np.cos((24 * np.pi * x[0])+(4*i*np.pi / n))) + 0.6*x[0])*(np.sin((6 * np.pi * x[0]) + (i* np.pi / n))))\n",
        "\n",
        "\n",
        "def f1_3(x):\n",
        "    n = len(x)\n",
        "    I1 = [i for i in range(2, n+1) if i % 2 == 1]\n",
        "    denominator = len(I1)\n",
        "    result = x[0]\n",
        "    for i in I1:\n",
        "        result += (yi_3(i,x)**2)*(2/(denominator))\n",
        "    return result\n",
        "\n",
        "def f2_3(x):\n",
        "    n = len(x)\n",
        "    I2 = [i for i in range(2, n+1) if i % 2 == 0]\n",
        "    denominator = len(I2)\n",
        "    result = 1 - np.sqrt(x[0])\n",
        "    for i in I2:\n",
        "        result += (yi_3(i,x)**2)*(2/(denominator))\n",
        "    return result\n",
        "\n",
        "\n",
        "x3=[]\n",
        "x3.append(random.uniform(0.001, 1))\n",
        "for i in range(9):\n",
        "  x3.append(random.uniform(-1, 1))\n",
        "print(\"f1:\", f1_3(x3))\n",
        "print(\"f2:\", f2_3(x3))\n"
      ],
      "metadata": {
        "id": "w1uemYR67OIX",
        "colab": {
          "base_uri": "https://localhost:8080/"
        },
        "outputId": "008f8ce1-fb26-419b-d43b-0ab480f388e0"
      },
      "execution_count": 179,
      "outputs": [
        {
          "output_type": "stream",
          "name": "stdout",
          "text": [
            "f1: 1.4393328820658566\n",
            "f2: 1.2420404137674013\n"
          ]
        }
      ]
    },
    {
      "cell_type": "markdown",
      "source": [
        "***F1 Solution Finding***"
      ],
      "metadata": {
        "id": "ppNkC-kLLVtM"
      }
    },
    {
      "cell_type": "markdown",
      "source": [
        "*Gradient and Hessian Finding*"
      ],
      "metadata": {
        "id": "X7Q59ktj4q5f"
      }
    },
    {
      "cell_type": "code",
      "source": [
        "def grad_hess_f1_3(x):\n",
        "  f0=f1_3(x)\n",
        "  n=len(x)\n",
        "  h= 10**(-5)\n",
        "  b=np.zeros(n)\n",
        "  g=np.zeros(n)\n",
        "  H=np.zeros((n,n))\n",
        "  for i in range(0,n):\n",
        "    x1=x.copy()\n",
        "    x1[i]=x1[i]+h\n",
        "    b[i]=f1_3(x1)\n",
        "    g[i]=(f1_3(x1)-f0)/h\n",
        "  for i in range(0,n):\n",
        "    for j in range(0,n):\n",
        "      x2=x.copy()\n",
        "      x2[i]=x2[i]+h\n",
        "      x2[j]=x2[j]+h\n",
        "      H[i][j]=(f1_3(x2)-b[i]-b[j]+f0)/h**2\n",
        "  # solver.qp()\n",
        "  return g,H"
      ],
      "metadata": {
        "id": "kLYoebBnGZZE"
      },
      "execution_count": 180,
      "outputs": []
    },
    {
      "cell_type": "code",
      "source": [
        "g1_3,h1_3 = grad_hess_f1_3(x3)\n",
        "print(g1_3)\n",
        "print(h1_3)"
      ],
      "metadata": {
        "colab": {
          "base_uri": "https://localhost:8080/"
        },
        "id": "GbAX5OwlLgy3",
        "outputId": "abb3b727-e022-40a6-9a06-6496a118649b"
      },
      "execution_count": 181,
      "outputs": [
        {
          "output_type": "stream",
          "name": "stdout",
          "text": [
            "[ 2.19812926  0.         -0.53326055  0.          0.68097653  0.\n",
            " -0.6168184   0.         -0.24393033  0.        ]\n",
            "[[ 1.22008889e+03  0.00000000e+00 -2.09057216e+00  0.00000000e+00\n",
            "  -9.12485865e+00  0.00000000e+00 -7.10873138e+00  0.00000000e+00\n",
            "  -7.83502374e+00  0.00000000e+00]\n",
            " [ 0.00000000e+00  0.00000000e+00  0.00000000e+00  0.00000000e+00\n",
            "   0.00000000e+00  0.00000000e+00  0.00000000e+00  0.00000000e+00\n",
            "   0.00000000e+00  0.00000000e+00]\n",
            " [-2.09057216e+00  0.00000000e+00  1.00000008e+00  0.00000000e+00\n",
            "  -4.44089210e-06  0.00000000e+00  0.00000000e+00  0.00000000e+00\n",
            "   0.00000000e+00  0.00000000e+00]\n",
            " [ 0.00000000e+00  0.00000000e+00  0.00000000e+00  0.00000000e+00\n",
            "   0.00000000e+00  0.00000000e+00  0.00000000e+00  0.00000000e+00\n",
            "   0.00000000e+00  0.00000000e+00]\n",
            " [-9.12485865e+00  0.00000000e+00 -4.44089210e-06  0.00000000e+00\n",
            "   9.99995642e-01  0.00000000e+00 -2.22044605e-06  0.00000000e+00\n",
            "   0.00000000e+00  0.00000000e+00]\n",
            " [ 0.00000000e+00  0.00000000e+00  0.00000000e+00  0.00000000e+00\n",
            "   0.00000000e+00  0.00000000e+00  0.00000000e+00  0.00000000e+00\n",
            "   0.00000000e+00  0.00000000e+00]\n",
            " [-7.10873138e+00  0.00000000e+00  0.00000000e+00  0.00000000e+00\n",
            "  -2.22044605e-06  0.00000000e+00  1.00000008e+00  0.00000000e+00\n",
            "   0.00000000e+00  0.00000000e+00]\n",
            " [ 0.00000000e+00  0.00000000e+00  0.00000000e+00  0.00000000e+00\n",
            "   0.00000000e+00  0.00000000e+00  0.00000000e+00  0.00000000e+00\n",
            "   0.00000000e+00  0.00000000e+00]\n",
            " [-7.83502374e+00  0.00000000e+00  0.00000000e+00  0.00000000e+00\n",
            "   0.00000000e+00  0.00000000e+00  0.00000000e+00  0.00000000e+00\n",
            "   9.99997862e-01  0.00000000e+00]\n",
            " [ 0.00000000e+00  0.00000000e+00  0.00000000e+00  0.00000000e+00\n",
            "   0.00000000e+00  0.00000000e+00  0.00000000e+00  0.00000000e+00\n",
            "   0.00000000e+00  0.00000000e+00]]\n"
          ]
        }
      ]
    },
    {
      "cell_type": "markdown",
      "source": [
        "*Eigen values Finding*"
      ],
      "metadata": {
        "id": "7DxLaucI4vUh"
      }
    },
    {
      "cell_type": "code",
      "source": [
        "v1_3,u1_3=np.linalg.eig(h1_3)\n",
        "v1_3"
      ],
      "metadata": {
        "colab": {
          "base_uri": "https://localhost:8080/"
        },
        "id": "r8nYucdRLrdg",
        "outputId": "3ee338a8-2cc1-4c9e-fd3b-5a54b356bce7"
      },
      "execution_count": 182,
      "outputs": [
        {
          "output_type": "execute_result",
          "data": {
            "text/plain": [
              "array([1.22025256e+03, 8.36325149e-01, 1.00000328e+00, 9.99999519e-01,\n",
              "       9.99995613e-01, 0.00000000e+00, 0.00000000e+00, 0.00000000e+00,\n",
              "       0.00000000e+00, 0.00000000e+00])"
            ]
          },
          "metadata": {},
          "execution_count": 182
        }
      ]
    },
    {
      "cell_type": "markdown",
      "source": [
        "not a positive deifinite matrix"
      ],
      "metadata": {
        "id": "4JGiF--B4ymX"
      }
    },
    {
      "cell_type": "markdown",
      "source": [
        "*New Hessian*"
      ],
      "metadata": {
        "id": "7_WsnI9b47tM"
      }
    },
    {
      "cell_type": "code",
      "source": [
        "newH1_3 = h1_3@h1_3 + (0.001-min(v1_3))*np.identity(10, dtype = float)"
      ],
      "metadata": {
        "id": "-njpBCEiL476"
      },
      "execution_count": 183,
      "outputs": []
    },
    {
      "cell_type": "code",
      "source": [
        "np.linalg.eig(newH1_3)"
      ],
      "metadata": {
        "colab": {
          "base_uri": "https://localhost:8080/"
        },
        "id": "9i9I7IcUMAxw",
        "outputId": "bb4031f9-0516-4b59-e7fe-0c033751ee66"
      },
      "execution_count": 184,
      "outputs": [
        {
          "output_type": "execute_result",
          "data": {
            "text/plain": [
              "(array([1.48901632e+06, 7.00439755e-01, 1.00099123e+00, 1.00099904e+00,\n",
              "        1.00100657e+00, 1.00000000e-03, 1.00000000e-03, 1.00000000e-03,\n",
              "        1.00000000e-03, 1.00000000e-03]),\n",
              " array([[-9.99932888e-01, -1.15853376e-02,  2.03066965e-07,\n",
              "         -9.24153857e-08,  2.38047492e-08,  0.00000000e+00,\n",
              "          0.00000000e+00,  0.00000000e+00,  0.00000000e+00,\n",
              "          0.00000000e+00],\n",
              "        [ 0.00000000e+00,  0.00000000e+00,  0.00000000e+00,\n",
              "          0.00000000e+00,  0.00000000e+00,  1.00000000e+00,\n",
              "          0.00000000e+00,  0.00000000e+00,  0.00000000e+00,\n",
              "          0.00000000e+00],\n",
              "        [ 1.71451911e-03, -1.47993661e-01, -4.46849688e-01,\n",
              "          4.76813785e-01, -7.42340156e-01,  0.00000000e+00,\n",
              "          0.00000000e+00,  0.00000000e+00,  0.00000000e+00,\n",
              "          0.00000000e+00],\n",
              "        [ 0.00000000e+00,  0.00000000e+00,  0.00000000e+00,\n",
              "          0.00000000e+00,  0.00000000e+00,  0.00000000e+00,\n",
              "          1.00000000e+00,  0.00000000e+00,  0.00000000e+00,\n",
              "          0.00000000e+00],\n",
              "        [ 7.48347510e-03, -6.45909599e-01, -5.45385166e-01,\n",
              "          1.04038051e-01,  5.23904469e-01,  0.00000000e+00,\n",
              "          0.00000000e+00,  0.00000000e+00,  0.00000000e+00,\n",
              "          0.00000000e+00],\n",
              "        [ 0.00000000e+00,  0.00000000e+00,  0.00000000e+00,\n",
              "          0.00000000e+00,  0.00000000e+00,  0.00000000e+00,\n",
              "          0.00000000e+00,  1.00000000e+00,  0.00000000e+00,\n",
              "          0.00000000e+00],\n",
              "        [ 5.83000970e-03, -5.03183262e-01,  5.20232824e-02,\n",
              "         -7.55509389e-01, -4.16259242e-01,  0.00000000e+00,\n",
              "          0.00000000e+00,  0.00000000e+00,  0.00000000e+00,\n",
              "          0.00000000e+00],\n",
              "        [ 0.00000000e+00,  0.00000000e+00,  0.00000000e+00,\n",
              "          0.00000000e+00,  0.00000000e+00,  0.00000000e+00,\n",
              "          0.00000000e+00,  0.00000000e+00,  1.00000000e+00,\n",
              "          0.00000000e+00],\n",
              "        [ 6.42565628e-03, -5.54590886e-01,  7.07229775e-01,\n",
              "          4.37070087e-01, -3.44012236e-02,  0.00000000e+00,\n",
              "          0.00000000e+00,  0.00000000e+00,  0.00000000e+00,\n",
              "          0.00000000e+00],\n",
              "        [ 0.00000000e+00,  0.00000000e+00,  0.00000000e+00,\n",
              "          0.00000000e+00,  0.00000000e+00,  0.00000000e+00,\n",
              "          0.00000000e+00,  0.00000000e+00,  0.00000000e+00,\n",
              "          1.00000000e+00]]))"
            ]
          },
          "metadata": {},
          "execution_count": 184
        }
      ]
    },
    {
      "cell_type": "markdown",
      "source": [
        "All eigen values are positive"
      ],
      "metadata": {
        "id": "lm9wK7V04-gM"
      }
    },
    {
      "cell_type": "markdown",
      "source": [
        "*Optimal Solution*"
      ],
      "metadata": {
        "id": "SyC9IEOM5B_l"
      }
    },
    {
      "cell_type": "code",
      "source": [
        "A1_3=np.vstack((-np.identity(10),np.identity(10)))\n",
        "lb1_3=[0.001,-1,-1,-1,-1,-1,-1,-1,-1,-1]\n",
        "ub1_3=[1,1,1,1,1,1,1,1,1,1]\n",
        "lb1_3 = np.array(lb1_3)\n",
        "ub1_3 = np.array(ub1_3)\n",
        "b1_3=np.append(x3-lb1_3,ub1_3-x3)\n",
        "soln1_3= solvers.qp(matrix(newH1_3),matrix(g1_3),matrix(A1_3),matrix(b1_3))\n",
        "print(np.round_(soln1_3['x'],decimals=5),soln1_3['primal objective'])\n",
        "v1_3=np.round_(soln1_3['x'],decimals=5)"
      ],
      "metadata": {
        "colab": {
          "base_uri": "https://localhost:8080/"
        },
        "id": "DPCZq42NMN8q",
        "outputId": "405503bb-8e0a-446b-da6a-360eb887c4b4"
      },
      "execution_count": 185,
      "outputs": [
        {
          "output_type": "stream",
          "name": "stdout",
          "text": [
            "     pcost       dcost       gap    pres   dres\n",
            " 0: -4.6508e-01 -2.3620e+01  2e+01  5e-17  7e-13\n",
            " 1: -5.4418e-01 -2.0920e+00  2e+00  2e-16  3e-13\n",
            " 2: -5.8949e-01 -6.4186e-01  5e-02  2e-16  4e-13\n",
            " 3: -5.9188e-01 -5.9750e-01  6e-03  2e-16  3e-13\n",
            " 4: -5.9232e-01 -5.9259e-01  3e-04  2e-16  3e-13\n",
            " 5: -5.9236e-01 -5.9237e-01  2e-05  2e-16  1e-13\n",
            " 6: -5.9236e-01 -5.9236e-01  8e-07  1e-16  4e-14\n",
            " 7: -5.9236e-01 -5.9236e-01  1e-08  1e-16  3e-13\n",
            "Optimal solution found.\n",
            "[[ 9.8000e-04]\n",
            " [ 0.0000e+00]\n",
            " [ 5.3271e-01]\n",
            " [ 0.0000e+00]\n",
            " [-6.8033e-01]\n",
            " [-1.0000e-05]\n",
            " [ 6.1617e-01]\n",
            " [-8.0000e-05]\n",
            " [ 2.4366e-01]\n",
            " [-0.0000e+00]] -0.5923572343181047\n"
          ]
        }
      ]
    },
    {
      "cell_type": "markdown",
      "source": [
        "***Solution Correctness***"
      ],
      "metadata": {
        "id": "4kzHOJZa5J6Q"
      }
    },
    {
      "cell_type": "code",
      "source": [
        "v1_3 = list(flatten(v1_3))\n",
        "v2_3= list(g1_3)\n",
        "np.dot(v2_3,v1_3)"
      ],
      "metadata": {
        "colab": {
          "base_uri": "https://localhost:8080/"
        },
        "id": "LGcZzvcGMmKf",
        "outputId": "d229e0c6-3b18-4456-b7de-9681a13d3744"
      },
      "execution_count": 186,
      "outputs": [
        {
          "output_type": "execute_result",
          "data": {
            "text/plain": [
              "-1.184708879857571"
            ]
          },
          "metadata": {},
          "execution_count": 186
        }
      ]
    },
    {
      "cell_type": "markdown",
      "source": [
        "***F2 Solution Finding***"
      ],
      "metadata": {
        "id": "RDYtYj_CNyaF"
      }
    },
    {
      "cell_type": "code",
      "source": [
        "def grad_hess_f2_3(x):\n",
        "  f0=f2_3(x)\n",
        "  n=len(x)\n",
        "  h= 10**(-5)\n",
        "  b=np.zeros(n)\n",
        "  g=np.zeros(n)\n",
        "  H=np.zeros((n,n))\n",
        "  for i in range(0,n):\n",
        "    x1=x.copy()\n",
        "    x1[i]=x1[i]+h\n",
        "    b[i]=f2_3(x1)\n",
        "    g[i]=(f2_3(x1)-f0)/h\n",
        "  for i in range(0,n):\n",
        "    for j in range(0,n):\n",
        "      x2=x.copy()\n",
        "      x2[i]=x2[i]+h\n",
        "      x2[j]=x2[j]+h\n",
        "      H[i][j]=(f2_3(x2)-b[i]-b[j]+f0)/h**2\n",
        "  # solver.qp()\n",
        "  return g,H"
      ],
      "metadata": {
        "id": "OXms-9GuNtH0"
      },
      "execution_count": 187,
      "outputs": []
    },
    {
      "cell_type": "code",
      "source": [
        "g2_3,h2_3 = grad_hess_f2_3(x3)\n",
        "print(g2_3)\n",
        "print(h2_3)"
      ],
      "metadata": {
        "colab": {
          "base_uri": "https://localhost:8080/"
        },
        "id": "yzdHQO5aN6o2",
        "outputId": "78759dc3-35d8-4dbd-8a06-061254af8121"
      },
      "execution_count": 188,
      "outputs": [
        {
          "output_type": "stream",
          "name": "stdout",
          "text": [
            "[-18.65398943   0.10261125   0.           0.13593831   0.\n",
            "   0.9239708    0.           0.87389968   0.           0.46032055]\n",
            "[[ 6.46162190e+02  5.68698200e+00  0.00000000e+00  6.26801722e+00\n",
            "   0.00000000e+00 -1.20169230e+01  0.00000000e+00 -1.67245995e+00\n",
            "   0.00000000e+00 -7.29988514e+00]\n",
            " [ 5.68698200e+00  7.99997846e-01  0.00000000e+00 -2.22044605e-06\n",
            "   0.00000000e+00  0.00000000e+00  0.00000000e+00 -2.22044605e-06\n",
            "   0.00000000e+00  2.22044605e-06]\n",
            " [ 0.00000000e+00  0.00000000e+00  0.00000000e+00  0.00000000e+00\n",
            "   0.00000000e+00  0.00000000e+00  0.00000000e+00  0.00000000e+00\n",
            "   0.00000000e+00  0.00000000e+00]\n",
            " [ 6.26801722e+00 -2.22044605e-06  0.00000000e+00  7.99997846e-01\n",
            "   0.00000000e+00  0.00000000e+00  0.00000000e+00 -2.22044605e-06\n",
            "   0.00000000e+00  2.22044605e-06]\n",
            " [ 0.00000000e+00  0.00000000e+00  0.00000000e+00  0.00000000e+00\n",
            "   0.00000000e+00  0.00000000e+00  0.00000000e+00  0.00000000e+00\n",
            "   0.00000000e+00  0.00000000e+00]\n",
            " [-1.20169230e+01  0.00000000e+00  0.00000000e+00  0.00000000e+00\n",
            "   0.00000000e+00  8.00004507e-01  0.00000000e+00  0.00000000e+00\n",
            "   0.00000000e+00  0.00000000e+00]\n",
            " [ 0.00000000e+00  0.00000000e+00  0.00000000e+00  0.00000000e+00\n",
            "   0.00000000e+00  0.00000000e+00  0.00000000e+00  0.00000000e+00\n",
            "   0.00000000e+00  0.00000000e+00]\n",
            " [-1.67245995e+00 -2.22044605e-06  0.00000000e+00 -2.22044605e-06\n",
            "   0.00000000e+00  0.00000000e+00  0.00000000e+00  7.99997846e-01\n",
            "   0.00000000e+00  2.22044605e-06]\n",
            " [ 0.00000000e+00  0.00000000e+00  0.00000000e+00  0.00000000e+00\n",
            "   0.00000000e+00  0.00000000e+00  0.00000000e+00  0.00000000e+00\n",
            "   0.00000000e+00  0.00000000e+00]\n",
            " [-7.29988514e+00  2.22044605e-06  0.00000000e+00  2.22044605e-06\n",
            "   0.00000000e+00  0.00000000e+00  0.00000000e+00  2.22044605e-06\n",
            "   0.00000000e+00  8.00002287e-01]]\n"
          ]
        }
      ]
    },
    {
      "cell_type": "markdown",
      "source": [
        "*Eigen values Finding for f2*"
      ],
      "metadata": {
        "id": "6WFy4jvD5ams"
      }
    },
    {
      "cell_type": "code",
      "source": [
        "v2_3,u2_3=np.linalg.eig(h2_3)\n",
        "v2_3"
      ],
      "metadata": {
        "colab": {
          "base_uri": "https://localhost:8080/"
        },
        "id": "h1ud5t5xOJLO",
        "outputId": "3e6367e2-8b4d-4689-b12a-65504ac65d64"
      },
      "execution_count": 189,
      "outputs": [
        {
          "output_type": "execute_result",
          "data": {
            "text/plain": [
              "array([6.46583573e+02, 3.78618592e-01, 7.99994665e-01, 8.00000995e-01,\n",
              "       8.00003835e-01, 8.00000066e-01, 0.00000000e+00, 0.00000000e+00,\n",
              "       0.00000000e+00, 0.00000000e+00])"
            ]
          },
          "metadata": {},
          "execution_count": 189
        }
      ]
    },
    {
      "cell_type": "markdown",
      "source": [
        "*not positive definite matrix*"
      ],
      "metadata": {
        "id": "MxgLpe8Y5ecD"
      }
    },
    {
      "cell_type": "markdown",
      "source": [
        "*New hessian calculation*"
      ],
      "metadata": {
        "id": "VXtCYy0h5ghB"
      }
    },
    {
      "cell_type": "code",
      "source": [
        "newH2_3 = h2_3@h2_3 + (0.001-min(v2_3))*np.identity(10, dtype = float)"
      ],
      "metadata": {
        "id": "YFgcrmV2OSQ4"
      },
      "execution_count": 190,
      "outputs": []
    },
    {
      "cell_type": "code",
      "source": [
        "np.linalg.eig(newH2_3)"
      ],
      "metadata": {
        "colab": {
          "base_uri": "https://localhost:8080/"
        },
        "id": "J6laHMdzPJxR",
        "outputId": "ddc30c74-da5e-4484-812a-36cffea55ef7"
      },
      "execution_count": 191,
      "outputs": [
        {
          "output_type": "execute_result",
          "data": {
            "text/plain": [
              "(array([4.18070317e+05, 1.44352038e-01, 6.40991463e-01, 6.41006136e-01,\n",
              "        6.41001593e-01, 6.41000106e-01, 1.00000000e-03, 1.00000000e-03,\n",
              "        1.00000000e-03, 1.00000000e-03]),\n",
              " array([[-9.99673903e-01,  2.55360041e-02,  2.86516942e-07,\n",
              "          2.20160504e-08,  1.28088280e-07,  6.54086704e-16,\n",
              "          0.00000000e+00,  0.00000000e+00,  0.00000000e+00,\n",
              "          0.00000000e+00],\n",
              "        [-8.80345625e-03, -3.44640594e-01,  3.77385230e-01,\n",
              "         -1.63902134e-01,  4.18909383e-01,  7.32377478e-01,\n",
              "          0.00000000e+00,  0.00000000e+00,  0.00000000e+00,\n",
              "          0.00000000e+00],\n",
              "        [ 0.00000000e+00,  0.00000000e+00,  0.00000000e+00,\n",
              "          0.00000000e+00,  0.00000000e+00,  0.00000000e+00,\n",
              "          1.00000000e+00,  0.00000000e+00,  0.00000000e+00,\n",
              "          0.00000000e+00],\n",
              "        [-9.70289961e-03, -3.79851724e-01,  3.46565008e-01,\n",
              "         -1.60507694e-01,  4.98996238e-01, -6.78786599e-01,\n",
              "          0.00000000e+00,  0.00000000e+00,  0.00000000e+00,\n",
              "          0.00000000e+00],\n",
              "        [ 0.00000000e+00,  0.00000000e+00,  0.00000000e+00,\n",
              "          0.00000000e+00,  0.00000000e+00,  0.00000000e+00,\n",
              "          0.00000000e+00,  1.00000000e+00,  0.00000000e+00,\n",
              "          0.00000000e+00],\n",
              "        [ 1.86022143e-02,  7.28226039e-01,  3.49817464e-01,\n",
              "          3.93495717e-01,  4.38325971e-01,  2.69059192e-09,\n",
              "          0.00000000e+00,  0.00000000e+00,  0.00000000e+00,\n",
              "          0.00000000e+00],\n",
              "        [ 0.00000000e+00,  0.00000000e+00,  0.00000000e+00,\n",
              "          0.00000000e+00,  0.00000000e+00,  0.00000000e+00,\n",
              "          0.00000000e+00,  0.00000000e+00,  1.00000000e+00,\n",
              "          0.00000000e+00],\n",
              "        [ 2.58897051e-03,  1.01346596e-01,  7.67756809e-01,\n",
              "         -2.06896384e-01, -5.95477583e-01, -5.35908783e-02,\n",
              "          0.00000000e+00,  0.00000000e+00,  0.00000000e+00,\n",
              "          0.00000000e+00],\n",
              "        [ 0.00000000e+00,  0.00000000e+00,  0.00000000e+00,\n",
              "          0.00000000e+00,  0.00000000e+00,  0.00000000e+00,\n",
              "          0.00000000e+00,  0.00000000e+00,  0.00000000e+00,\n",
              "          1.00000000e+00],\n",
              "        [ 1.13002327e-02,  4.42378961e-01, -1.60157135e-01,\n",
              "         -8.65868568e-01,  1.69689349e-01,  7.58074916e-10,\n",
              "          0.00000000e+00,  0.00000000e+00,  0.00000000e+00,\n",
              "          0.00000000e+00]]))"
            ]
          },
          "metadata": {},
          "execution_count": 191
        }
      ]
    },
    {
      "cell_type": "markdown",
      "source": [
        "*All eigen values are positive*\n"
      ],
      "metadata": {
        "id": "c1Rl94Nu5jyP"
      }
    },
    {
      "cell_type": "markdown",
      "source": [
        "*Optimal Solution Find*"
      ],
      "metadata": {
        "id": "IysyWDL-5mdj"
      }
    },
    {
      "cell_type": "code",
      "source": [
        "A2_3=np.vstack((-np.identity(10),np.identity(10)))\n",
        "lb2_3=[0.001,-1,-1,-1,-1,-1,-1,-1,-1,-1]\n",
        "ub2_3=[1,1,1,1,1,1,1,1,1,1]\n",
        "lb2_3 = np.array(lb2_3)\n",
        "ub2_3 = np.array(ub2_3)\n",
        "b2_3=np.append(x3-lb2_3,ub2_3-x3)\n",
        "soln2_3= solvers.qp(matrix(newH2_3),matrix(g2_3),matrix(A2_3),matrix(b2_3))\n",
        "print(np.round_(soln2_3['x'],decimals=5),soln2_3['primal objective'])\n",
        "v1_32 = np.round_(soln2_3['x'],decimals=5)"
      ],
      "metadata": {
        "colab": {
          "base_uri": "https://localhost:8080/"
        },
        "id": "4_IyOFgBPM9k",
        "outputId": "b0e91947-a898-44d5-e024-1be4e9334283"
      },
      "execution_count": 192,
      "outputs": [
        {
          "output_type": "stream",
          "name": "stdout",
          "text": [
            "     pcost       dcost       gap    pres   dres\n",
            " 0: -1.0368e+00 -2.4147e+01  2e+01  4e-17  2e-13\n",
            " 1: -1.1831e+00 -3.0421e+00  2e+00  2e-16  1e-13\n",
            " 2: -1.3335e+00 -1.4534e+00  1e-01  1e-16  3e-14\n",
            " 3: -1.3566e+00 -1.3663e+00  1e-02  1e-16  1e-14\n",
            " 4: -1.3594e+00 -1.3599e+00  4e-04  1e-16  8e-14\n",
            " 5: -1.3595e+00 -1.3595e+00  3e-05  1e-16  1e-13\n",
            " 6: -1.3595e+00 -1.3595e+00  8e-07  1e-16  4e-14\n",
            "Optimal solution found.\n",
            "[[-5.20700e-02]\n",
            " [ 1.28530e-01]\n",
            " [ 5.40000e-04]\n",
            " [ 1.06020e-01]\n",
            " [-3.05000e-03]\n",
            " [-1.82186e+00]\n",
            " [ 2.00000e-05]\n",
            " [-1.44822e+00]\n",
            " [-3.00000e-05]\n",
            " [-1.08858e+00]] -1.3594932932967887\n"
          ]
        }
      ]
    },
    {
      "cell_type": "markdown",
      "source": [
        "***Solution Correctness***"
      ],
      "metadata": {
        "id": "_t6xETAH5tCK"
      }
    },
    {
      "cell_type": "code",
      "source": [
        "v1_32 = list(flatten(v1_32))\n",
        "v2_32= list(g2_3)\n",
        "np.dot(v2_32,v1_32)"
      ],
      "metadata": {
        "colab": {
          "base_uri": "https://localhost:8080/"
        },
        "id": "-9qiGJAmPjpi",
        "outputId": "13202128-6c55-4fe0-e539-9b9ffa03a9a4"
      },
      "execution_count": 193,
      "outputs": [
        {
          "output_type": "execute_result",
          "data": {
            "text/plain": [
              "-2.4511261516133804"
            ]
          },
          "metadata": {},
          "execution_count": 193
        }
      ]
    },
    {
      "cell_type": "markdown",
      "source": [
        "# Question-4"
      ],
      "metadata": {
        "id": "GR8JuvVLSBM5"
      }
    },
    {
      "cell_type": "markdown",
      "source": [
        "Function definition"
      ],
      "metadata": {
        "id": "700-idMn58bR"
      }
    },
    {
      "cell_type": "code",
      "source": [
        "import numpy as np\n",
        "\n",
        "def yi_4(i,x):\n",
        "  n=len(x)\n",
        "  return x[i-1] - x[0]**(0.5*(1 + (3*((i-2)/(n-2)))))\n",
        "\n",
        "\n",
        "def f1_4(x):\n",
        "    n = len(x)\n",
        "    I1 = [i for i in range(2, n+1) if i % 2 == 1]\n",
        "    denominator = len(I1)\n",
        "    result = x[0]\n",
        "    y_values = [yi_4(i, x) for i in I1]\n",
        "    sum_y_squared = sum([y ** 2 for y in y_values])\n",
        "    cos_multiplication=1\n",
        "    for i in I1:\n",
        "      cos_multiplication = cos_multiplication * np.cos((20 * yi_4(i,x) * np.pi)/ np.sqrt(i))\n",
        "    result = result + (2/denominator)*(4*sum_y_squared - 2*cos_multiplication + 2)\n",
        "    return result\n",
        "\n",
        "def f2_4(x):\n",
        "    n = len(x)\n",
        "    I2 = [i for i in range(2, n+1) if i % 2 == 0]\n",
        "    denominator = len(I2)\n",
        "    result = 1 - np.sqrt(x[0])\n",
        "    y_values = [yi_4(i, x) for i in I2]\n",
        "    sum_y_squared = sum([y ** 2 for y in y_values])\n",
        "    cos_multiplication=1\n",
        "    for i in I2:\n",
        "      cos_multiplication = cos_multiplication * np.cos((20 * yi_4(i,x) * np.pi)/ np.sqrt(i))\n",
        "    result = result + (2/denominator)*(4*sum_y_squared - 2*cos_multiplication + 2)\n",
        "    return result\n",
        "\n",
        "# Example usage\n",
        "x4=[]\n",
        "x4.append(random.uniform(0.001, 1))\n",
        "for i in range(9):\n",
        "  x4.append(random.uniform(-1, 1))\n",
        "print(\"f1:\", f1_4(x4))\n",
        "print(\"f2:\", f2_4(x4))\n"
      ],
      "metadata": {
        "id": "pcvCmrz_QAxz",
        "colab": {
          "base_uri": "https://localhost:8080/"
        },
        "outputId": "5aece566-6419-49e0-b19d-5a4d1b4eb71e"
      },
      "execution_count": 194,
      "outputs": [
        {
          "output_type": "stream",
          "name": "stdout",
          "text": [
            "f1: 9.65613792929019\n",
            "f2: 8.132580569897769\n"
          ]
        }
      ]
    },
    {
      "cell_type": "markdown",
      "source": [
        "***F1 Solution***"
      ],
      "metadata": {
        "id": "EoGOC8KZuFuu"
      }
    },
    {
      "cell_type": "markdown",
      "source": [
        "*Gradient and hessian*"
      ],
      "metadata": {
        "id": "ohW1HIf0612R"
      }
    },
    {
      "cell_type": "code",
      "source": [
        "def grad_hess_f1_4(x):\n",
        "  f0=f1_4(x)\n",
        "  n=len(x)\n",
        "  h= 10**(-5)\n",
        "  b=np.zeros(n)\n",
        "  g=np.zeros(n)\n",
        "  H=np.zeros((n,n))\n",
        "  for i in range(0,n):\n",
        "    x1=x.copy()\n",
        "    x1[i]=x1[i]+h\n",
        "    b[i]=f1_4(x1)\n",
        "    g[i]=(f1_4(x1)-f0)/h\n",
        "  for i in range(0,n):\n",
        "    for j in range(0,n):\n",
        "      x2=x.copy()\n",
        "      x2[i]=x2[i]+h\n",
        "      x2[j]=x2[j]+h\n",
        "      H[i][j]=(f1_4(x2)-b[i]-b[j]+f0)/h**2\n",
        "  # solver.qp()\n",
        "  return g,H"
      ],
      "metadata": {
        "id": "5-TFE7fPtJn8"
      },
      "execution_count": 195,
      "outputs": []
    },
    {
      "cell_type": "code",
      "source": [
        "g1_4,h1_4 = grad_hess_f1_4(x4)\n",
        "print(g1_4)\n",
        "print(h1_4)"
      ],
      "metadata": {
        "colab": {
          "base_uri": "https://localhost:8080/"
        },
        "id": "Ug0qyFXhuhHc",
        "outputId": "57cee32e-9722-41d2-f1a4-a92205f919b3"
      },
      "execution_count": 196,
      "outputs": [
        {
          "output_type": "stream",
          "name": "stdout",
          "text": [
            "[-1.36302355  0.         -6.24061788  0.         10.66977826  0.\n",
            " -4.67556627  0.          1.29900568  0.        ]\n",
            "[[ 1.10746942e+03  0.00000000e+00 -9.10906337e+02  0.00000000e+00\n",
            "  -5.05946538e+02  0.00000000e+00  3.79805698e+01  0.00000000e+00\n",
            "   4.12611811e+01  0.00000000e+00]\n",
            " [ 0.00000000e+00  0.00000000e+00  0.00000000e+00  0.00000000e+00\n",
            "   0.00000000e+00  0.00000000e+00  0.00000000e+00  0.00000000e+00\n",
            "   0.00000000e+00  0.00000000e+00]\n",
            " [-9.10906337e+02  0.00000000e+00  2.43261589e+01  0.00000000e+00\n",
            "   8.46041939e+02  0.00000000e+00  3.59612784e+00  0.00000000e+00\n",
            "   3.77069043e+00  0.00000000e+00]\n",
            " [ 0.00000000e+00  0.00000000e+00  0.00000000e+00  0.00000000e+00\n",
            "   0.00000000e+00  0.00000000e+00  0.00000000e+00  0.00000000e+00\n",
            "   0.00000000e+00  0.00000000e+00]\n",
            " [-5.05946538e+02  0.00000000e+00  8.46041939e+02  0.00000000e+00\n",
            "   1.60775926e+01  0.00000000e+00 -5.41868594e+01  0.00000000e+00\n",
            "  -5.68173064e+01  0.00000000e+00]\n",
            " [ 0.00000000e+00  0.00000000e+00  0.00000000e+00  0.00000000e+00\n",
            "   0.00000000e+00  0.00000000e+00  0.00000000e+00  0.00000000e+00\n",
            "   0.00000000e+00  0.00000000e+00]\n",
            " [ 3.79805698e+01  0.00000000e+00  3.59612784e+00  0.00000000e+00\n",
            "  -5.41868594e+01  0.00000000e+00  1.27056410e+01  0.00000000e+00\n",
            "  -2.41477949e-01  0.00000000e+00]\n",
            " [ 0.00000000e+00  0.00000000e+00  0.00000000e+00  0.00000000e+00\n",
            "   0.00000000e+00  0.00000000e+00  0.00000000e+00  0.00000000e+00\n",
            "   0.00000000e+00  0.00000000e+00]\n",
            " [ 4.12611811e+01  0.00000000e+00  3.77069043e+00  0.00000000e+00\n",
            "  -5.68173064e+01  0.00000000e+00 -2.41477949e-01  0.00000000e+00\n",
            "   1.07710463e+01  0.00000000e+00]\n",
            " [ 0.00000000e+00  0.00000000e+00  0.00000000e+00  0.00000000e+00\n",
            "   0.00000000e+00  0.00000000e+00  0.00000000e+00  0.00000000e+00\n",
            "   0.00000000e+00  0.00000000e+00]]\n"
          ]
        }
      ]
    },
    {
      "cell_type": "markdown",
      "source": [
        "*Eigen values*"
      ],
      "metadata": {
        "id": "Kb8UUtzg659V"
      }
    },
    {
      "cell_type": "code",
      "source": [
        "v1_4,u1_4=np.linalg.eig(h1_4)\n",
        "v1_4"
      ],
      "metadata": {
        "colab": {
          "base_uri": "https://localhost:8080/"
        },
        "id": "hvWLf_VXuqUV",
        "outputId": "3cb358f3-2c87-4b0b-9d06-2321ac06b167"
      },
      "execution_count": 197,
      "outputs": [
        {
          "output_type": "execute_result",
          "data": {
            "text/plain": [
              "array([ 2.01520182e+03, -8.87212551e+02,  3.16238712e+01, -2.34729500e-01,\n",
              "        1.19714485e+01,  0.00000000e+00,  0.00000000e+00,  0.00000000e+00,\n",
              "        0.00000000e+00,  0.00000000e+00])"
            ]
          },
          "metadata": {},
          "execution_count": 197
        }
      ]
    },
    {
      "cell_type": "markdown",
      "source": [
        "*not positive definite matrix*"
      ],
      "metadata": {
        "id": "6txG3vCs68US"
      }
    },
    {
      "cell_type": "markdown",
      "source": [
        "*New hessian*"
      ],
      "metadata": {
        "id": "u_ctLg_V6_BP"
      }
    },
    {
      "cell_type": "code",
      "source": [
        "newH1_4 = h1_4@h1_4 + (0.001-min(v1_4))*np.identity(10, dtype = float)"
      ],
      "metadata": {
        "id": "NZuh3nVvuzmC"
      },
      "execution_count": 198,
      "outputs": []
    },
    {
      "cell_type": "code",
      "source": [
        "np.linalg.eig(newH1_4)"
      ],
      "metadata": {
        "colab": {
          "base_uri": "https://localhost:8080/"
        },
        "id": "SpoJCHK8u6ut",
        "outputId": "98ed4047-0f22-4f09-b099-1e05b5fa3a72"
      },
      "execution_count": 199,
      "outputs": [
        {
          "output_type": "execute_result",
          "data": {
            "text/plain": [
              "(array([4.06192560e+06, 7.88033324e+05, 1.88728278e+03, 8.87268649e+02,\n",
              "        1.03052913e+03, 8.87213551e+02, 8.87213551e+02, 8.87213551e+02,\n",
              "        8.87213551e+02, 8.87213551e+02]),\n",
              " array([[-0.75011902, -0.19545195, -0.48607773,  0.4017311 , -0.03821729,\n",
              "          0.        ,  0.        ,  0.        ,  0.        ,  0.        ],\n",
              "        [ 0.        ,  0.        ,  0.        ,  0.        ,  0.        ,\n",
              "          1.        ,  0.        ,  0.        ,  0.        ,  0.        ],\n",
              "        [ 0.51744921, -0.76340653, -0.2400796 ,  0.30227965, -0.02110876,\n",
              "          0.        ,  0.        ,  0.        ,  0.        ,  0.        ],\n",
              "        [ 0.        ,  0.        ,  0.        ,  0.        ,  0.        ,\n",
              "          0.        ,  1.        ,  0.        ,  0.        ,  0.        ],\n",
              "        [ 0.4102338 ,  0.61163769, -0.52941909,  0.41910233, -0.04094175,\n",
              "          0.        ,  0.        ,  0.        ,  0.        ,  0.        ],\n",
              "        [ 0.        ,  0.        ,  0.        ,  0.        ,  0.        ,\n",
              "          0.        ,  0.        ,  1.        ,  0.        ,  0.        ],\n",
              "        [-0.02439561,  0.04814182,  0.48939379,  0.50240084, -0.71075617,\n",
              "          0.        ,  0.        ,  0.        ,  0.        ,  0.        ],\n",
              "        [ 0.        ,  0.        ,  0.        ,  0.        ,  0.        ,\n",
              "          0.        ,  0.        ,  0.        ,  1.        ,  0.        ],\n",
              "        [-0.02609327,  0.0508989 ,  0.43162411,  0.56496528,  0.70088751,\n",
              "          0.        ,  0.        ,  0.        ,  0.        ,  0.        ],\n",
              "        [ 0.        ,  0.        ,  0.        ,  0.        ,  0.        ,\n",
              "          0.        ,  0.        ,  0.        ,  0.        ,  1.        ]]))"
            ]
          },
          "metadata": {},
          "execution_count": 199
        }
      ]
    },
    {
      "cell_type": "markdown",
      "source": [
        "*All eigens are positive*"
      ],
      "metadata": {
        "id": "qRAJNLCi7CRd"
      }
    },
    {
      "cell_type": "markdown",
      "source": [
        "*Optimal Solution*"
      ],
      "metadata": {
        "id": "eEQr3Hed7EMG"
      }
    },
    {
      "cell_type": "code",
      "source": [
        "A1_4=np.vstack((-np.identity(10),np.identity(10)))\n",
        "lb1_4=[0.001,-1,-1,-1,-1,-1,-1,-1,-1,-1]\n",
        "ub1_4=[1,1,1,1,1,1,1,1,1,1]\n",
        "lb1_4 = np.array(lb1_4)\n",
        "ub1_4 = np.array(ub1_4)\n",
        "b1_4=np.append(x4-lb1_4,ub1_4-x4)\n",
        "soln1_4= solvers.qp(matrix(newH1_4),matrix(g1_4),matrix(A1_4),matrix(b1_4))\n",
        "print(np.round_(soln1_4['x'],decimals=5),soln1_4['primal objective'])\n",
        "v1_41=np.round_(soln1_4['x'],decimals=5)"
      ],
      "metadata": {
        "colab": {
          "base_uri": "https://localhost:8080/"
        },
        "id": "pHS7GaM-u-_P",
        "outputId": "de4725d3-eda9-4fa9-e529-d540c2d89127"
      },
      "execution_count": 200,
      "outputs": [
        {
          "output_type": "stream",
          "name": "stdout",
          "text": [
            "     pcost       dcost       gap    pres   dres\n",
            " 0: -7.5576e-03 -2.8751e+01  3e+01  4e-17  1e-14\n",
            " 1: -1.5077e-02 -3.0367e-01  3e-01  3e-16  3e-14\n",
            " 2: -1.5078e-02 -1.7964e-02  3e-03  1e-16  3e-14\n",
            " 3: -1.5078e-02 -1.5107e-02  3e-05  1e-16  3e-14\n",
            " 4: -1.5078e-02 -1.5079e-02  3e-07  2e-16  1e-14\n",
            " 5: -1.5078e-02 -1.5078e-02  3e-09  2e-16  3e-14\n",
            "Optimal solution found.\n",
            "[[-0.00138]\n",
            " [-0.     ]\n",
            " [-0.00072]\n",
            " [-0.     ]\n",
            " [-0.00151]\n",
            " [ 0.     ]\n",
            " [ 0.00386]\n",
            " [ 0.     ]\n",
            " [-0.00178]\n",
            " [ 0.     ]] -0.015078244504678925\n"
          ]
        }
      ]
    },
    {
      "cell_type": "markdown",
      "source": [
        "***Solution Correctness***"
      ],
      "metadata": {
        "id": "_8ixi70y7RA6"
      }
    },
    {
      "cell_type": "code",
      "source": [
        "v1_41 = list(flatten(v1_41))\n",
        "v2_41= list(g1_4)\n",
        "np.dot(v2_41,v1_41)"
      ],
      "metadata": {
        "colab": {
          "base_uri": "https://localhost:8080/"
        },
        "id": "_BeveR75vOQ3",
        "outputId": "d372dcce-7c8b-44f8-fefa-1144b07bae00"
      },
      "execution_count": 201,
      "outputs": [
        {
          "output_type": "execute_result",
          "data": {
            "text/plain": [
              "-0.030097063709987992"
            ]
          },
          "metadata": {},
          "execution_count": 201
        }
      ]
    },
    {
      "cell_type": "markdown",
      "source": [
        "***F2 Solution***"
      ],
      "metadata": {
        "id": "foKfA6ZtvdIt"
      }
    },
    {
      "cell_type": "markdown",
      "source": [
        "*Gradient and Hessian*"
      ],
      "metadata": {
        "id": "WLqEawGX7YKk"
      }
    },
    {
      "cell_type": "code",
      "source": [
        "def grad_hess_f2_4(x):\n",
        "  f0=f2_4(x)\n",
        "  n=len(x)\n",
        "  h= 10**(-5)\n",
        "  b=np.zeros(n)\n",
        "  g=np.zeros(n)\n",
        "  H=np.zeros((n,n))\n",
        "  for i in range(0,n):\n",
        "    x1=x.copy()\n",
        "    x1[i]=x1[i]+h\n",
        "    b[i]=f2_4(x1)\n",
        "    g[i]=(f2_4(x1)-f0)/h\n",
        "  for i in range(0,n):\n",
        "    for j in range(0,n):\n",
        "      x2=x.copy()\n",
        "      x2[i]=x2[i]+h\n",
        "      x2[j]=x2[j]+h\n",
        "      H[i][j]=(f2_4(x2)-b[i]-b[j]+f0)/h**2\n",
        "  # solver.qp()\n",
        "  return g,H"
      ],
      "metadata": {
        "id": "6pAmUQv0vZ3D"
      },
      "execution_count": 202,
      "outputs": []
    },
    {
      "cell_type": "code",
      "source": [
        "g2_4,h2_4 = grad_hess_f2_4(x4)\n",
        "print(g2_4)\n",
        "print(h2_4)"
      ],
      "metadata": {
        "colab": {
          "base_uri": "https://localhost:8080/"
        },
        "id": "zGoCfivKvrDz",
        "outputId": "1c23e439-06c6-4ee2-8f1c-dd646908ec1f"
      },
      "execution_count": 203,
      "outputs": [
        {
          "output_type": "stream",
          "name": "stdout",
          "text": [
            "[10.35567587 -0.84100555  0.         -0.35570674  0.         -4.07056099\n",
            "  0.         -5.39096169  0.          1.25985665]\n",
            "[[-1257.78512938   213.06428621     0.           137.20516279\n",
            "      0.            68.62453716     0.           183.51999032\n",
            "      0.           461.79936319]\n",
            " [  213.06428621   -27.7253065      0.            18.32228591\n",
            "      0.             9.05647113     0.            23.89104026\n",
            "      0.          -172.25756821]\n",
            " [    0.             0.             0.             0.\n",
            "      0.             0.             0.             0.\n",
            "      0.             0.        ]\n",
            " [  137.20516279    18.32228591     0.           -12.26503343\n",
            "      0.             5.79523984     0.            15.28787763\n",
            "      0.          -110.22766699]\n",
            " [    0.             0.             0.             0.\n",
            "      0.             0.             0.             0.\n",
            "      0.             0.        ]\n",
            " [   68.62453716     9.05647113     0.             5.79523984\n",
            "      0.            -7.11146697     0.             7.55660423\n",
            "      0.           -54.48416829]\n",
            " [    0.             0.             0.             0.\n",
            "      0.             0.             0.             0.\n",
            "      0.             0.        ]\n",
            " [  183.51999032    23.89104026     0.            15.28787763\n",
            "      0.             7.55660423     0.            -4.53184157\n",
            "      0.          -143.72936619]\n",
            " [    0.             0.             0.             0.\n",
            "      0.             0.             0.             0.\n",
            "      0.             0.        ]\n",
            " [  461.79936319  -172.25756821     0.          -110.22766699\n",
            "      0.           -54.48416829     0.          -143.72936619\n",
            "      0.            -3.00362402]]\n"
          ]
        }
      ]
    },
    {
      "cell_type": "markdown",
      "source": [
        "*Eigen values*"
      ],
      "metadata": {
        "id": "w2bF90ag7dvG"
      }
    },
    {
      "cell_type": "code",
      "source": [
        "v2_4,u2_4=np.linalg.eig(h2_4)\n",
        "v2_4"
      ],
      "metadata": {
        "colab": {
          "base_uri": "https://localhost:8080/"
        },
        "id": "9liJIKl0vwMR",
        "outputId": "ac4109b8-f1dc-4e37-aa8f-7c35c5e5e842"
      },
      "execution_count": 204,
      "outputs": [
        {
          "output_type": "execute_result",
          "data": {
            "text/plain": [
              "array([-1.50655092e+03,  2.75241595e+02, -4.59387039e+01,  6.91148398e-01,\n",
              "       -1.16781103e+01, -2.41874085e+01,  0.00000000e+00,  0.00000000e+00,\n",
              "        0.00000000e+00,  0.00000000e+00])"
            ]
          },
          "metadata": {},
          "execution_count": 204
        }
      ]
    },
    {
      "cell_type": "markdown",
      "source": [
        "Not positive definite"
      ],
      "metadata": {
        "id": "8LUCUDQq7hkN"
      }
    },
    {
      "cell_type": "markdown",
      "source": [
        "*FInd new hessian*"
      ],
      "metadata": {
        "id": "FVhvPzQZ7jFE"
      }
    },
    {
      "cell_type": "code",
      "source": [
        "newH2_4 = h2_4@h2_4 + (0.001-min(v2_4))*np.identity(10, dtype = float)"
      ],
      "metadata": {
        "id": "OBnYSk6Hv1NQ"
      },
      "execution_count": 205,
      "outputs": []
    },
    {
      "cell_type": "code",
      "source": [
        "np.linalg.eig(newH2_4)"
      ],
      "metadata": {
        "colab": {
          "base_uri": "https://localhost:8080/"
        },
        "id": "gumYdKIWv79m",
        "outputId": "e015c074-1e14-4764-96e7-4068f9af2070"
      },
      "execution_count": 206,
      "outputs": [
        {
          "output_type": "execute_result",
          "data": {
            "text/plain": [
              "(array([2.27120223e+06, 7.72644874e+04, 3.61691644e+03, 1.50702961e+03,\n",
              "        1.64293018e+03, 2.09158265e+03, 1.50655192e+03, 1.50655192e+03,\n",
              "        1.50655192e+03, 1.50655192e+03]),\n",
              " array([[-0.91428169,  0.088953  ,  0.11593965,  0.36691686, -0.08941894,\n",
              "          0.0105177 ,  0.        ,  0.        ,  0.        ,  0.        ],\n",
              "        [ 0.16544974, -0.41628951,  0.86154413,  0.2168467 , -0.09990104,\n",
              "         -0.00827248,  0.        ,  0.        ,  0.        ,  0.        ],\n",
              "        [ 0.        ,  0.        ,  0.        ,  0.        ,  0.        ,\n",
              "          0.        ,  1.        ,  0.        ,  0.        ,  0.        ],\n",
              "        [ 0.10409344, -0.29494222, -0.26628218,  0.33360915, -0.23828627,\n",
              "          0.81436603,  0.        ,  0.        ,  0.        ,  0.        ],\n",
              "        [ 0.        ,  0.        ,  0.        ,  0.        ,  0.        ,\n",
              "          0.        ,  0.        ,  1.        ,  0.        ,  0.        ],\n",
              "        [ 0.05146255, -0.15269783, -0.08292947,  0.40924184,  0.89423358,\n",
              "          0.00501024,  0.        ,  0.        ,  0.        ,  0.        ],\n",
              "        [ 0.        ,  0.        ,  0.        ,  0.        ,  0.        ,\n",
              "          0.        ,  0.        ,  0.        ,  1.        ,  0.        ],\n",
              "        [ 0.13862062, -0.3826035 , -0.37983545,  0.49405279, -0.33138766,\n",
              "         -0.57984306,  0.        ,  0.        ,  0.        ,  0.        ],\n",
              "        [ 0.        ,  0.        ,  0.        ,  0.        ,  0.        ,\n",
              "          0.        ,  0.        ,  0.        ,  0.        ,  1.        ],\n",
              "        [ 0.32251489,  0.74973157,  0.14913501,  0.54358754, -0.12558748,\n",
              "          0.01964258,  0.        ,  0.        ,  0.        ,  0.        ]]))"
            ]
          },
          "metadata": {},
          "execution_count": 206
        }
      ]
    },
    {
      "cell_type": "markdown",
      "source": [
        "*All eigen values are positive and hence find optimal solution*"
      ],
      "metadata": {
        "id": "LV9scTyQ7mWa"
      }
    },
    {
      "cell_type": "code",
      "source": [
        "A2_4=np.vstack((-np.identity(10),np.identity(10)))\n",
        "lb2_4=[0.001,-1,-1,-1,-1,-1,-1,-1,-1,-1]\n",
        "ub2_4=[1,1,1,1,1,1,1,1,1,1]\n",
        "lb2_4 = np.array(lb2_4)\n",
        "ub2_4 = np.array(ub2_4)\n",
        "b2_4=np.append(x4-lb2_4,ub2_4-x4)\n",
        "soln2_4= solvers.qp(matrix(newH2_4),matrix(g2_4),matrix(A2_4),matrix(b2_4))\n",
        "print(np.round_(soln2_4['x'],decimals=5),soln2_4['primal objective'])\n",
        "v1_42=np.round_(soln2_4['x'],decimals=5)"
      ],
      "metadata": {
        "colab": {
          "base_uri": "https://localhost:8080/"
        },
        "id": "pD1InPKfv_0j",
        "outputId": "45e59055-f602-43ac-902c-6d1f12c5e4c1"
      },
      "execution_count": 207,
      "outputs": [
        {
          "output_type": "stream",
          "name": "stdout",
          "text": [
            "     pcost       dcost       gap    pres   dres\n",
            " 0: -2.2034e-03 -2.8772e+01  3e+01  5e-17  2e-14\n",
            " 1: -5.9809e-03 -2.9403e-01  3e-01  2e-16  8e-15\n",
            " 2: -5.9813e-03 -8.8618e-03  3e-03  2e-16  5e-15\n",
            " 3: -5.9813e-03 -6.0101e-03  3e-05  1e-16  2e-15\n",
            " 4: -5.9813e-03 -5.9816e-03  3e-07  2e-16  4e-15\n",
            " 5: -5.9813e-03 -5.9813e-03  3e-09  1e-16  1e-14\n",
            "Optimal solution found.\n",
            "[[-0.00024]\n",
            " [-0.00086]\n",
            " [ 0.     ]\n",
            " [-0.00127]\n",
            " [ 0.     ]\n",
            " [ 0.00162]\n",
            " [ 0.     ]\n",
            " [ 0.00066]\n",
            " [-0.     ]\n",
            " [-0.00036]] -0.0059813083999579585\n"
          ]
        }
      ]
    },
    {
      "cell_type": "markdown",
      "source": [
        "**Solution Correctness**"
      ],
      "metadata": {
        "id": "mxjffYI27vJa"
      }
    },
    {
      "cell_type": "code",
      "source": [
        "v1_42 = list(flatten(v1_42))\n",
        "v2_42= list(g2_4)\n",
        "np.dot(v2_42,v1_42)"
      ],
      "metadata": {
        "colab": {
          "base_uri": "https://localhost:8080/"
        },
        "id": "w43cYGoaw55A",
        "outputId": "53140411-d47d-4665-d91f-e249394c35ee"
      },
      "execution_count": 208,
      "outputs": [
        {
          "output_type": "execute_result",
          "data": {
            "text/plain": [
              "-0.011916241792194526"
            ]
          },
          "metadata": {},
          "execution_count": 208
        }
      ]
    },
    {
      "cell_type": "code",
      "source": [],
      "metadata": {
        "id": "COorYIgA7yDQ"
      },
      "execution_count": 208,
      "outputs": []
    }
  ]
}