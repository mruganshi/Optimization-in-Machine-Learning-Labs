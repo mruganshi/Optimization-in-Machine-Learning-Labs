{
  "cells": [
    {
      "cell_type": "markdown",
      "metadata": {
        "id": "VnhzdP8oudEw"
      },
      "source": [
        "## Question-1"
      ]
    },
    {
      "cell_type": "code",
      "execution_count": 3,
      "metadata": {
        "colab": {
          "base_uri": "https://localhost:8080/"
        },
        "id": "Tr342EFCuKAU",
        "outputId": "3abdbb73-f060-4b9e-efba-21b480e9b26f"
      },
      "outputs": [
        {
          "name": "stdout",
          "output_type": "stream",
          "text": [
            "A\n",
            "[[ 6.  3.  5.  2.]\n",
            " [ 1.  0.  0.  1.]\n",
            " [-1.  0.  1.  0.]\n",
            " [ 0. -1.  0.  1.]]\n",
            "b\n",
            "[[10.  1.  0.  0.]]\n",
            " ----------------------------------------------------------------\n",
            " APMonitor, Version 1.0.0\n",
            " APMonitor Optimization Suite\n",
            " ----------------------------------------------------------------\n",
            " \n",
            " \n",
            " --------- APM Model Size ------------\n",
            " Each time step contains\n",
            "   Objects      :  2\n",
            "   Constants    :  0\n",
            "   Variables    :  4\n",
            "   Intermediates:  0\n",
            "   Connections  :  8\n",
            "   Equations    :  0\n",
            "   Residuals    :  0\n",
            " \n",
            " Number of state variables:    4\n",
            " Number of total equations: -  4\n",
            " Number of slack variables: -  0\n",
            " ---------------------------------------\n",
            " Degrees of freedom       :    0\n",
            " \n",
            " ----------------------------------------------\n",
            " Steady State Optimization with APOPT Solver\n",
            " ----------------------------------------------\n",
            "Iter:     1 I:  0 Tm:      0.01 NLPi:    1 Dpth:    0 Lvs:    3 Obj: -1.52E+01 Gap:       NaN\n",
            "--Integer Solution:  -1.40E+01 Lowest Leaf:  -1.52E+01 Gap:   7.90E-02\n",
            "Iter:     2 I:  0 Tm:     -0.00 NLPi:    1 Dpth:    1 Lvs:    2 Obj: -1.40E+01 Gap:  7.90E-02\n",
            "Iter:     3 I: -1 Tm:     -0.00 NLPi:    3 Dpth:    1 Lvs:    1 Obj: -1.52E+01 Gap:  7.90E-02\n",
            "--Integer Solution:  -1.40E+01 Lowest Leaf:  -1.40E+01 Gap:   0.00E+00\n",
            "Iter:     4 I:  0 Tm:     -0.00 NLPi:    1 Dpth:    1 Lvs:    1 Obj: -1.40E+01 Gap:  0.00E+00\n",
            " Successful solution\n",
            " \n",
            " ---------------------------------------------------\n",
            " Solver         :  APOPT (v1.0)\n",
            " Solution time  :  0.024599999999999997 sec\n",
            " Objective      :  -14.\n",
            " Successful solution\n",
            " ---------------------------------------------------\n",
            " \n",
            "\n",
            "Objective:  -14.0\n",
            "[[1.0] [1.0] [0.0] [0.0]]\n"
          ]
        }
      ],
      "source": [
        "from gekko import GEKKO\n",
        "from numpy import *\n",
        "m = GEKKO(remote=False)\n",
        "c = array([[9],[5],[6],[4]])\n",
        "A = array([[6,3,5,2],[1,0,0,1],[-1,0,1,0],[0,-1,0,1]])\n",
        "b = array([[10],[1],[0],[0]])\n",
        "z = m.Array(m.Var,4,integer=True,lb=0,ub=1)\n",
        "m.qobj(c,x=z,otype='max')\n",
        "m.axb(A,b,x=z,etype='<=')\n",
        "m.options.SOLVER = 1\n",
        "m.solve()\n",
        "print('Objective: ', m.options.OBJFCNVAL)\n",
        "print(z)"
      ]
    },
    {
      "cell_type": "markdown",
      "metadata": {
        "id": "jtsKuGHMu_n7"
      },
      "source": [
        "## Question-2"
      ]
    },
    {
      "cell_type": "code",
      "execution_count": 4,
      "metadata": {
        "colab": {
          "base_uri": "https://localhost:8080/"
        },
        "id": "k6lrlYqBucOg",
        "outputId": "fcb86ed8-fe72-4c7d-f827-fd229710a0ea"
      },
      "outputs": [
        {
          "name": "stdout",
          "output_type": "stream",
          "text": [
            "int_v1 v2 [1, 1]\n",
            "A\n",
            "[[ 5.  7.]\n",
            " [ 4.  1.]\n",
            " [ 3. -2.]\n",
            " [-1.  0.]\n",
            " [ 0. -1.]]\n",
            "b\n",
            "[[27. 14.  9.  0.  0.]]\n",
            " ----------------------------------------------------------------\n",
            " APMonitor, Version 1.0.0\n",
            " APMonitor Optimization Suite\n",
            " ----------------------------------------------------------------\n",
            " \n",
            " \n",
            " --------- APM Model Size ------------\n",
            " Each time step contains\n",
            "   Objects      :  2\n",
            "   Constants    :  0\n",
            "   Variables    :  2\n",
            "   Intermediates:  0\n",
            "   Connections  :  4\n",
            "   Equations    :  0\n",
            "   Residuals    :  0\n",
            " \n",
            " Number of state variables:    2\n",
            " Number of total equations: -  5\n",
            " Number of slack variables: -  0\n",
            " ---------------------------------------\n",
            " Degrees of freedom       :    -3\n",
            " \n",
            " * Warning: DOF <= 0\n",
            " ----------------------------------------------\n",
            " Steady State Optimization with APOPT Solver\n",
            " ----------------------------------------------\n",
            "Iter:     1 I:  0 Tm:     -0.00 NLPi:    3 Dpth:    0 Lvs:    0 Obj: -1.64E+01 Gap:  0.00E+00\n",
            " Successful solution\n",
            " \n",
            " ---------------------------------------------------\n",
            " Solver         :  APOPT (v1.0)\n",
            " Solution time  :  0.015 sec\n",
            " Objective      :  -16.428571428571427\n",
            " Successful solution\n",
            " ---------------------------------------------------\n",
            " \n",
            "\n",
            "Objective:  -16.428571429\n",
            "[[1.0], [3.1428571429]]\n",
            "x:  1.0\n",
            "y:  3.1428571429\n"
          ]
        }
      ],
      "source": [
        "import numpy as np\n",
        "import math\n",
        "\n",
        "\n",
        "m = GEKKO(remote=False)\n",
        "A = np.array([[5,7],[4,1],[3,-2],[-1, 0],[0, -1]], dtype=np.float64)\n",
        "b = np.array([[27],[14],[9],[0],[0]],dtype=np.float64)\n",
        "c = np.array([[7],[3]],dtype=np.float64)\n",
        "\n",
        "z1=m.Var(1,integer=True,lb=0,ub=1)\n",
        "z2=m.Var(1,integer=False,lb=0,ub=100)\n",
        "z=[z1,z2]\n",
        "print(z1,z2,z)\n",
        "\n",
        "m.qobj(c,x=z,otype='max')\n",
        "m.axb(A,b,x=z,etype='<=')\n",
        "m.options.SOLVER = 1\n",
        "m.solve()\n",
        "print('Objective: ', m.options.OBJFCNVAL)\n",
        "print(z)\n",
        "print('x: ', z[0].value[0])\n",
        "print('y: ', z[1].value[0])"
      ]
    },
    {
      "cell_type": "markdown",
      "metadata": {
        "id": "3Yxxi1w2vUgg"
      },
      "source": [
        "## Question-3"
      ]
    },
    {
      "cell_type": "code",
      "execution_count": 5,
      "metadata": {
        "colab": {
          "base_uri": "https://localhost:8080/"
        },
        "id": "mPFarGvlvMlC",
        "outputId": "f5d628cd-0927-46c8-e763-af6b20df4c8b"
      },
      "outputs": [
        {
          "name": "stdout",
          "output_type": "stream",
          "text": [
            "v1 int_v2 [1, 1]\n",
            "A\n",
            "[[ 3. -2.]\n",
            " [-8. 10.]\n",
            " [-1.  0.]]\n",
            "b\n",
            "[[-1.  10.  -0.3]]\n",
            " ----------------------------------------------------------------\n",
            " APMonitor, Version 1.0.0\n",
            " APMonitor Optimization Suite\n",
            " ----------------------------------------------------------------\n",
            " \n",
            " \n",
            " --------- APM Model Size ------------\n",
            " Each time step contains\n",
            "   Objects      :  2\n",
            "   Constants    :  0\n",
            "   Variables    :  2\n",
            "   Intermediates:  0\n",
            "   Connections  :  4\n",
            "   Equations    :  0\n",
            "   Residuals    :  0\n",
            " \n",
            " Number of state variables:    2\n",
            " Number of total equations: -  3\n",
            " Number of slack variables: -  0\n",
            " ---------------------------------------\n",
            " Degrees of freedom       :    -1\n",
            " \n",
            " * Warning: DOF <= 0\n",
            " ----------------------------------------------\n",
            " Steady State Optimization with APOPT Solver\n",
            " ----------------------------------------------\n",
            "Iter:     1 I:  0 Tm:     -0.00 NLPi:    2 Dpth:    0 Lvs:    2 Obj:  1.25E+00 Gap:       NaN\n",
            "--Integer Solution:   1.30E+00 Lowest Leaf:   1.25E+00 Gap:   3.92E-02\n",
            "Iter:     2 I:  0 Tm:     -0.00 NLPi:    1 Dpth:    1 Lvs:    1 Obj:  1.30E+00 Gap:  3.92E-02\n",
            "Iter:     3 I: -1 Tm:     -0.00 NLPi:    0 Dpth:    1 Lvs:    0 Obj:  1.25E+00 Gap:  3.92E-02\n",
            " No additional trial points, returning the best integer solution\n",
            " Successful solution\n",
            " \n",
            " ---------------------------------------------------\n",
            " Solver         :  APOPT (v1.0)\n",
            " Solution time  :  0.040300000000000016 sec\n",
            " Objective      :  1.3\n",
            " Successful solution\n",
            " ---------------------------------------------------\n",
            " \n",
            "\n",
            "Objective:  1.3\n",
            "[[0.3], [1.0]]\n",
            "x:  0.3\n",
            "y:  1.0\n"
          ]
        }
      ],
      "source": [
        "m = GEKKO(remote=False)\n",
        "A = np.array([[3,-2],[-8,10],[-1, 0]], dtype=np.float64)\n",
        "b = np.array([[-1],[10],[-0.3]],dtype=np.float64)\n",
        "c = np.array([[1],[1]],dtype=np.float64)\n",
        "\n",
        "z1=m.Var(1,integer=False,lb=0.3,ub=1000)\n",
        "z2=m.Var(1,integer=True,lb=0,ub=1)\n",
        "z=[z1,z2]\n",
        "print(z1,z2,z)\n",
        "\n",
        "m.qobj(c,x=z,otype='min')\n",
        "m.axb(A,b,x=z,etype='<=')\n",
        "m.options.SOLVER = 1\n",
        "m.solve()\n",
        "print('Objective: ', m.options.OBJFCNVAL)\n",
        "print(z)\n",
        "print('x: ', z[0].value[0])\n",
        "print('y: ', z[1].value[0])"
      ]
    },
    {
      "cell_type": "markdown",
      "metadata": {
        "id": "ZRCUOvPPvg_l"
      },
      "source": [
        "## Question-4"
      ]
    },
    {
      "cell_type": "code",
      "execution_count": 6,
      "metadata": {
        "colab": {
          "base_uri": "https://localhost:8080/"
        },
        "id": "T8oLNyMLvfu0",
        "outputId": "d8f6c062-50d6-442f-c546-26a61a1dc4c4"
      },
      "outputs": [
        {
          "name": "stdout",
          "output_type": "stream",
          "text": [
            "A\n",
            "[[55. 45. 60. 50. 30.]\n",
            " [40. 35. 25. 35. 30.]\n",
            " [25. 20.  0. 30.  0.]\n",
            " [ 0.  0.  1.  1.  0.]]\n",
            "b\n",
            "[[150. 110.  60.   1.]]\n",
            " ----------------------------------------------------------------\n",
            " APMonitor, Version 1.0.0\n",
            " APMonitor Optimization Suite\n",
            " ----------------------------------------------------------------\n",
            " \n",
            " \n",
            " --------- APM Model Size ------------\n",
            " Each time step contains\n",
            "   Objects      :  2\n",
            "   Constants    :  0\n",
            "   Variables    :  5\n",
            "   Intermediates:  0\n",
            "   Connections  :  10\n",
            "   Equations    :  0\n",
            "   Residuals    :  0\n",
            " \n",
            " Number of state variables:    5\n",
            " Number of total equations: -  4\n",
            " Number of slack variables: -  0\n",
            " ---------------------------------------\n",
            " Degrees of freedom       :    1\n",
            " \n",
            " ----------------------------------------------\n",
            " Steady State Optimization with APOPT Solver\n",
            " ----------------------------------------------\n",
            "Iter:     1 I:  0 Tm:      0.01 NLPi:    2 Dpth:    0 Lvs:    3 Obj: -3.42E+02 Gap:       NaN\n",
            "--Integer Solution:  -3.30E+02 Lowest Leaf:  -3.42E+02 Gap:   3.72E-02\n",
            "Iter:     2 I:  0 Tm:      0.00 NLPi:    1 Dpth:    1 Lvs:    2 Obj: -3.30E+02 Gap:  3.72E-02\n",
            "Iter:     3 I:  0 Tm:      0.00 NLPi:    2 Dpth:    1 Lvs:    4 Obj: -3.34E+02 Gap:  3.72E-02\n",
            "--Integer Solution:  -3.30E+02 Lowest Leaf:  -3.34E+02 Gap:   1.15E-02\n",
            "Iter:     4 I:  0 Tm:      0.00 NLPi:    2 Dpth:    1 Lvs:    3 Obj: -3.30E+02 Gap:  1.15E-02\n",
            "Iter:     5 I:  0 Tm:      0.00 NLPi:    2 Dpth:    2 Lvs:    4 Obj: -3.42E+02 Gap:  1.15E-02\n",
            "Iter:     6 I: -1 Tm:      0.00 NLPi:    0 Dpth:    3 Lvs:    3 Obj: -3.42E+02 Gap:  1.15E-02\n",
            "--Integer Solution:  -3.30E+02 Lowest Leaf:  -3.34E+02 Gap:   1.15E-02\n",
            "Iter:     7 I:  0 Tm:      0.00 NLPi:    1 Dpth:    3 Lvs:    2 Obj: -3.30E+02 Gap:  1.15E-02\n",
            "Iter:     8 I:  0 Tm:      0.00 NLPi:    2 Dpth:    2 Lvs:    1 Obj: -3.25E+02 Gap:  1.15E-02\n",
            "Iter:     9 I:  0 Tm:      0.00 NLPi:    3 Dpth:    2 Lvs:    0 Obj: -3.20E+02 Gap:  1.15E-02\n",
            " No additional trial points, returning the best integer solution\n",
            " Successful solution\n",
            " \n",
            " ---------------------------------------------------\n",
            " Solver         :  APOPT (v1.0)\n",
            " Solution time  :  0.02220000000000001 sec\n",
            " Objective      :  -330.\n",
            " Successful solution\n",
            " ---------------------------------------------------\n",
            " \n",
            "\n",
            "Objective:  -330.0\n",
            "[[1.0] [0.0] [0.0] [1.0] [1.0]]\n"
          ]
        }
      ],
      "source": [
        "m = GEKKO(remote=False)\n",
        "A = np.array([[55,45,60,50,30],[40,35,25,35,30],[25,20,0,30,0],[0,0,1,1,0]], dtype=np.float64)\n",
        "b = np.array([[150],[110],[60],[1]],dtype=np.float64)\n",
        "c = np.array([[120],[85],[105],[140],[70]],dtype=np.float64)\n",
        "\n",
        "z = m.Array(m.Var,5,integer=True,lb=0,ub=1)\n",
        "m.qobj(c,x=z,otype='max')\n",
        "m.axb(A,b,x=z,etype='<=')\n",
        "m.options.SOLVER = 1\n",
        "m.solve()\n",
        "print('Objective: ', m.options.OBJFCNVAL)\n",
        "print(z)"
      ]
    },
    {
      "cell_type": "code",
      "execution_count": 25,
      "metadata": {
        "id": "znv43_63DSdx"
      },
      "outputs": [],
      "source": []
    }
  ],
  "metadata": {
    "colab": {
      "provenance": []
    },
    "kernelspec": {
      "display_name": "Python 3",
      "name": "python3"
    },
    "language_info": {
      "codemirror_mode": {
        "name": "ipython",
        "version": 3
      },
      "file_extension": ".py",
      "mimetype": "text/x-python",
      "name": "python",
      "nbconvert_exporter": "python",
      "pygments_lexer": "ipython3",
      "version": "3.10.11"
    }
  },
  "nbformat": 4,
  "nbformat_minor": 0
}
