{
  "cells": [
    {
      "cell_type": "markdown",
      "metadata": {
        "id": "txa_38trnOr1"
      },
      "source": [
        "## Question-1"
      ]
    },
    {
      "cell_type": "code",
      "execution_count": 1,
      "metadata": {
        "colab": {
          "base_uri": "https://localhost:8080/"
        },
        "id": "hAKVVM3EmmmI",
        "outputId": "53834048-569d-4f24-d06e-0fccac0789f2"
      },
      "outputs": [
        {
          "ename": "FileNotFoundError",
          "evalue": "[Errno 2] No such file or directory: '2_column_dataset[linear].csv'",
          "output_type": "error",
          "traceback": [
            "\u001b[1;31m---------------------------------------------------------------------------\u001b[0m",
            "\u001b[1;31mFileNotFoundError\u001b[0m                         Traceback (most recent call last)",
            "\u001b[1;32md:\\oml\\My labs\\lab-8\\Lab_8_B20CS014.ipynb Cell 2\u001b[0m line \u001b[0;36m5\n\u001b[0;32m     <a href='vscode-notebook-cell:/d%3A/oml/My%20labs/lab-8/Lab_8_B20CS014.ipynb#W1sZmlsZQ%3D%3D?line=48'>49</a>\u001b[0m r \u001b[39m=\u001b[39m \u001b[39m0.5\u001b[39m\n\u001b[0;32m     <a href='vscode-notebook-cell:/d%3A/oml/My%20labs/lab-8/Lab_8_B20CS014.ipynb#W1sZmlsZQ%3D%3D?line=49'>50</a>\u001b[0m w_0 \u001b[39m=\u001b[39m np\u001b[39m.\u001b[39marray([[\u001b[39m0\u001b[39m],[\u001b[39m0\u001b[39m]], dtype\u001b[39m=\u001b[39mnp\u001b[39m.\u001b[39mfloat64)\n\u001b[1;32m---> <a href='vscode-notebook-cell:/d%3A/oml/My%20labs/lab-8/Lab_8_B20CS014.ipynb#W1sZmlsZQ%3D%3D?line=50'>51</a>\u001b[0m data \u001b[39m=\u001b[39m pd\u001b[39m.\u001b[39;49mread_csv(\u001b[39m\"\u001b[39;49m\u001b[39m2_column_dataset[linear].csv\u001b[39;49m\u001b[39m\"\u001b[39;49m)\n\u001b[0;32m     <a href='vscode-notebook-cell:/d%3A/oml/My%20labs/lab-8/Lab_8_B20CS014.ipynb#W1sZmlsZQ%3D%3D?line=51'>52</a>\u001b[0m data \u001b[39m=\u001b[39m np\u001b[39m.\u001b[39marray(data)\n\u001b[0;32m     <a href='vscode-notebook-cell:/d%3A/oml/My%20labs/lab-8/Lab_8_B20CS014.ipynb#W1sZmlsZQ%3D%3D?line=52'>53</a>\u001b[0m x \u001b[39m=\u001b[39m data[:,:\u001b[39m-\u001b[39m\u001b[39m1\u001b[39m]\n",
            "File \u001b[1;32m~\\AppData\\Local\\Packages\\PythonSoftwareFoundation.Python.3.10_qbz5n2kfra8p0\\LocalCache\\local-packages\\Python310\\site-packages\\pandas\\io\\parsers\\readers.py:948\u001b[0m, in \u001b[0;36mread_csv\u001b[1;34m(filepath_or_buffer, sep, delimiter, header, names, index_col, usecols, dtype, engine, converters, true_values, false_values, skipinitialspace, skiprows, skipfooter, nrows, na_values, keep_default_na, na_filter, verbose, skip_blank_lines, parse_dates, infer_datetime_format, keep_date_col, date_parser, date_format, dayfirst, cache_dates, iterator, chunksize, compression, thousands, decimal, lineterminator, quotechar, quoting, doublequote, escapechar, comment, encoding, encoding_errors, dialect, on_bad_lines, delim_whitespace, low_memory, memory_map, float_precision, storage_options, dtype_backend)\u001b[0m\n\u001b[0;32m    935\u001b[0m kwds_defaults \u001b[39m=\u001b[39m _refine_defaults_read(\n\u001b[0;32m    936\u001b[0m     dialect,\n\u001b[0;32m    937\u001b[0m     delimiter,\n\u001b[1;32m   (...)\u001b[0m\n\u001b[0;32m    944\u001b[0m     dtype_backend\u001b[39m=\u001b[39mdtype_backend,\n\u001b[0;32m    945\u001b[0m )\n\u001b[0;32m    946\u001b[0m kwds\u001b[39m.\u001b[39mupdate(kwds_defaults)\n\u001b[1;32m--> 948\u001b[0m \u001b[39mreturn\u001b[39;00m _read(filepath_or_buffer, kwds)\n",
            "File \u001b[1;32m~\\AppData\\Local\\Packages\\PythonSoftwareFoundation.Python.3.10_qbz5n2kfra8p0\\LocalCache\\local-packages\\Python310\\site-packages\\pandas\\io\\parsers\\readers.py:611\u001b[0m, in \u001b[0;36m_read\u001b[1;34m(filepath_or_buffer, kwds)\u001b[0m\n\u001b[0;32m    608\u001b[0m _validate_names(kwds\u001b[39m.\u001b[39mget(\u001b[39m\"\u001b[39m\u001b[39mnames\u001b[39m\u001b[39m\"\u001b[39m, \u001b[39mNone\u001b[39;00m))\n\u001b[0;32m    610\u001b[0m \u001b[39m# Create the parser.\u001b[39;00m\n\u001b[1;32m--> 611\u001b[0m parser \u001b[39m=\u001b[39m TextFileReader(filepath_or_buffer, \u001b[39m*\u001b[39m\u001b[39m*\u001b[39mkwds)\n\u001b[0;32m    613\u001b[0m \u001b[39mif\u001b[39;00m chunksize \u001b[39mor\u001b[39;00m iterator:\n\u001b[0;32m    614\u001b[0m     \u001b[39mreturn\u001b[39;00m parser\n",
            "File \u001b[1;32m~\\AppData\\Local\\Packages\\PythonSoftwareFoundation.Python.3.10_qbz5n2kfra8p0\\LocalCache\\local-packages\\Python310\\site-packages\\pandas\\io\\parsers\\readers.py:1448\u001b[0m, in \u001b[0;36mTextFileReader.__init__\u001b[1;34m(self, f, engine, **kwds)\u001b[0m\n\u001b[0;32m   1445\u001b[0m     \u001b[39mself\u001b[39m\u001b[39m.\u001b[39moptions[\u001b[39m\"\u001b[39m\u001b[39mhas_index_names\u001b[39m\u001b[39m\"\u001b[39m] \u001b[39m=\u001b[39m kwds[\u001b[39m\"\u001b[39m\u001b[39mhas_index_names\u001b[39m\u001b[39m\"\u001b[39m]\n\u001b[0;32m   1447\u001b[0m \u001b[39mself\u001b[39m\u001b[39m.\u001b[39mhandles: IOHandles \u001b[39m|\u001b[39m \u001b[39mNone\u001b[39;00m \u001b[39m=\u001b[39m \u001b[39mNone\u001b[39;00m\n\u001b[1;32m-> 1448\u001b[0m \u001b[39mself\u001b[39m\u001b[39m.\u001b[39m_engine \u001b[39m=\u001b[39m \u001b[39mself\u001b[39;49m\u001b[39m.\u001b[39;49m_make_engine(f, \u001b[39mself\u001b[39;49m\u001b[39m.\u001b[39;49mengine)\n",
            "File \u001b[1;32m~\\AppData\\Local\\Packages\\PythonSoftwareFoundation.Python.3.10_qbz5n2kfra8p0\\LocalCache\\local-packages\\Python310\\site-packages\\pandas\\io\\parsers\\readers.py:1705\u001b[0m, in \u001b[0;36mTextFileReader._make_engine\u001b[1;34m(self, f, engine)\u001b[0m\n\u001b[0;32m   1703\u001b[0m     \u001b[39mif\u001b[39;00m \u001b[39m\"\u001b[39m\u001b[39mb\u001b[39m\u001b[39m\"\u001b[39m \u001b[39mnot\u001b[39;00m \u001b[39min\u001b[39;00m mode:\n\u001b[0;32m   1704\u001b[0m         mode \u001b[39m+\u001b[39m\u001b[39m=\u001b[39m \u001b[39m\"\u001b[39m\u001b[39mb\u001b[39m\u001b[39m\"\u001b[39m\n\u001b[1;32m-> 1705\u001b[0m \u001b[39mself\u001b[39m\u001b[39m.\u001b[39mhandles \u001b[39m=\u001b[39m get_handle(\n\u001b[0;32m   1706\u001b[0m     f,\n\u001b[0;32m   1707\u001b[0m     mode,\n\u001b[0;32m   1708\u001b[0m     encoding\u001b[39m=\u001b[39;49m\u001b[39mself\u001b[39;49m\u001b[39m.\u001b[39;49moptions\u001b[39m.\u001b[39;49mget(\u001b[39m\"\u001b[39;49m\u001b[39mencoding\u001b[39;49m\u001b[39m\"\u001b[39;49m, \u001b[39mNone\u001b[39;49;00m),\n\u001b[0;32m   1709\u001b[0m     compression\u001b[39m=\u001b[39;49m\u001b[39mself\u001b[39;49m\u001b[39m.\u001b[39;49moptions\u001b[39m.\u001b[39;49mget(\u001b[39m\"\u001b[39;49m\u001b[39mcompression\u001b[39;49m\u001b[39m\"\u001b[39;49m, \u001b[39mNone\u001b[39;49;00m),\n\u001b[0;32m   1710\u001b[0m     memory_map\u001b[39m=\u001b[39;49m\u001b[39mself\u001b[39;49m\u001b[39m.\u001b[39;49moptions\u001b[39m.\u001b[39;49mget(\u001b[39m\"\u001b[39;49m\u001b[39mmemory_map\u001b[39;49m\u001b[39m\"\u001b[39;49m, \u001b[39mFalse\u001b[39;49;00m),\n\u001b[0;32m   1711\u001b[0m     is_text\u001b[39m=\u001b[39;49mis_text,\n\u001b[0;32m   1712\u001b[0m     errors\u001b[39m=\u001b[39;49m\u001b[39mself\u001b[39;49m\u001b[39m.\u001b[39;49moptions\u001b[39m.\u001b[39;49mget(\u001b[39m\"\u001b[39;49m\u001b[39mencoding_errors\u001b[39;49m\u001b[39m\"\u001b[39;49m, \u001b[39m\"\u001b[39;49m\u001b[39mstrict\u001b[39;49m\u001b[39m\"\u001b[39;49m),\n\u001b[0;32m   1713\u001b[0m     storage_options\u001b[39m=\u001b[39;49m\u001b[39mself\u001b[39;49m\u001b[39m.\u001b[39;49moptions\u001b[39m.\u001b[39;49mget(\u001b[39m\"\u001b[39;49m\u001b[39mstorage_options\u001b[39;49m\u001b[39m\"\u001b[39;49m, \u001b[39mNone\u001b[39;49;00m),\n\u001b[0;32m   1714\u001b[0m )\n\u001b[0;32m   1715\u001b[0m \u001b[39massert\u001b[39;00m \u001b[39mself\u001b[39m\u001b[39m.\u001b[39mhandles \u001b[39mis\u001b[39;00m \u001b[39mnot\u001b[39;00m \u001b[39mNone\u001b[39;00m\n\u001b[0;32m   1716\u001b[0m f \u001b[39m=\u001b[39m \u001b[39mself\u001b[39m\u001b[39m.\u001b[39mhandles\u001b[39m.\u001b[39mhandle\n",
            "File \u001b[1;32m~\\AppData\\Local\\Packages\\PythonSoftwareFoundation.Python.3.10_qbz5n2kfra8p0\\LocalCache\\local-packages\\Python310\\site-packages\\pandas\\io\\common.py:863\u001b[0m, in \u001b[0;36mget_handle\u001b[1;34m(path_or_buf, mode, encoding, compression, memory_map, is_text, errors, storage_options)\u001b[0m\n\u001b[0;32m    858\u001b[0m \u001b[39melif\u001b[39;00m \u001b[39misinstance\u001b[39m(handle, \u001b[39mstr\u001b[39m):\n\u001b[0;32m    859\u001b[0m     \u001b[39m# Check whether the filename is to be opened in binary mode.\u001b[39;00m\n\u001b[0;32m    860\u001b[0m     \u001b[39m# Binary mode does not support 'encoding' and 'newline'.\u001b[39;00m\n\u001b[0;32m    861\u001b[0m     \u001b[39mif\u001b[39;00m ioargs\u001b[39m.\u001b[39mencoding \u001b[39mand\u001b[39;00m \u001b[39m\"\u001b[39m\u001b[39mb\u001b[39m\u001b[39m\"\u001b[39m \u001b[39mnot\u001b[39;00m \u001b[39min\u001b[39;00m ioargs\u001b[39m.\u001b[39mmode:\n\u001b[0;32m    862\u001b[0m         \u001b[39m# Encoding\u001b[39;00m\n\u001b[1;32m--> 863\u001b[0m         handle \u001b[39m=\u001b[39m \u001b[39mopen\u001b[39;49m(\n\u001b[0;32m    864\u001b[0m             handle,\n\u001b[0;32m    865\u001b[0m             ioargs\u001b[39m.\u001b[39;49mmode,\n\u001b[0;32m    866\u001b[0m             encoding\u001b[39m=\u001b[39;49mioargs\u001b[39m.\u001b[39;49mencoding,\n\u001b[0;32m    867\u001b[0m             errors\u001b[39m=\u001b[39;49merrors,\n\u001b[0;32m    868\u001b[0m             newline\u001b[39m=\u001b[39;49m\u001b[39m\"\u001b[39;49m\u001b[39m\"\u001b[39;49m,\n\u001b[0;32m    869\u001b[0m         )\n\u001b[0;32m    870\u001b[0m     \u001b[39melse\u001b[39;00m:\n\u001b[0;32m    871\u001b[0m         \u001b[39m# Binary mode\u001b[39;00m\n\u001b[0;32m    872\u001b[0m         handle \u001b[39m=\u001b[39m \u001b[39mopen\u001b[39m(handle, ioargs\u001b[39m.\u001b[39mmode)\n",
            "\u001b[1;31mFileNotFoundError\u001b[0m: [Errno 2] No such file or directory: '2_column_dataset[linear].csv'"
          ]
        }
      ],
      "source": [
        "import numpy as np\n",
        "import copy, sys\n",
        "import pandas as pd\n",
        "\n",
        "roll_no_last = 4\n",
        "\n",
        "def calculate_f(x, weights, y):\n",
        "    return ((np.dot(x,weights) - y)**2).sum() / (2 * x.shape[0])\n",
        "\n",
        "def grad_f(x, weights, y):\n",
        "    first_term = (x[:,:-1] * (np.dot(x,weights) - y)).sum()/ x.shape[0]\n",
        "    second_term = (np.dot(x,weights) - y).sum() / x.shape[0]\n",
        "    return np.array([[first_term],[second_term]],dtype=np.float64)\n",
        "\n",
        "def check_armijo_wolf_cond(w_k, d_k, x,y, alpha, beta1, beta2):\n",
        "    xk_alp_dk = w_k + alpha * d_k\n",
        "    f_grad = grad_f(x, w_k, y)\n",
        "    f_grad_alph = grad_f(x, xk_alp_dk, y)\n",
        "    armijo_left = calculate_f(x, xk_alp_dk, y)\n",
        "    armijo_right = calculate_f(x, w_k, y) + alpha * beta1*np.dot(f_grad.T,d_k)\n",
        "    wolf_left = np.dot(f_grad_alph.T, d_k)\n",
        "    wolf_right = beta2 * np.dot(f_grad.T,d_k)\n",
        "    return (armijo_left <= armijo_right) and (wolf_left >= wolf_right)\n",
        "\n",
        "def steepest_direction(w_k, d_k, x, y,beta1, beta2, r):\n",
        "    alpha = 1\n",
        "    while not check_armijo_wolf_cond(w_k, d_k, x, y, alpha, beta1, beta2):\n",
        "        alpha = alpha * r\n",
        "    return alpha\n",
        "\n",
        "def find_w1(w_0, x, y, beta1, beta2,epsilon, r):\n",
        "    w_k = w_0\n",
        "    d_k = -grad_f(x, w_k, y)\n",
        "    norm_grad = np.linalg.norm(-d_k)\n",
        "    iterations = 0\n",
        "    while norm_grad > epsilon:\n",
        "        alpha = steepest_direction(w_k, d_k, x, y, beta1, beta2, r)\n",
        "        w_k = w_k + alpha * d_k\n",
        "        d_k = -grad_f(x, w_k, y)\n",
        "        norm_grad = np.linalg.norm(-d_k)\n",
        "        iterations += 1\n",
        "        if iterations == 1000:\n",
        "            break\n",
        "    return w_k, iterations\n",
        "\n",
        "beta1 = 1e-4\n",
        "beta2 = 0.9\n",
        "epsilon = 0.01\n",
        "r = 0.5\n",
        "w_0 = np.array([[0],[0]], dtype=np.float64)\n",
        "data = pd.read_csv(\"2_column_dataset[linear].csv\")\n",
        "data = np.array(data)\n",
        "x = data[:,:-1]\n",
        "y = data[:,-1:]\n",
        "x = np.hstack([x,np.ones(x.shape)])\n",
        "w, iterations = find_w1(w_0, x, y, beta1, beta2, epsilon, r)\n",
        "# print('\\n')\n",
        "print(w)\n",
        "print(f\"total_iterations: {iterations}\")\n",
        "print(calculate_f(x, w, y))"
      ]
    },
    {
      "cell_type": "markdown",
      "metadata": {
        "id": "MpkjKn2JnN3k"
      },
      "source": [
        "### Question-2"
      ]
    },
    {
      "cell_type": "code",
      "execution_count": 100,
      "metadata": {
        "id": "WXn9VP84ny-R"
      },
      "outputs": [],
      "source": [
        "def return_dataset(x, y, batch_size):\n",
        "    total_batches = int(x.shape[0] / batch_size)\n",
        "    remaining_points = x.shape[0] - total_batches * batch_size\n",
        "    for batch in range(total_batches):\n",
        "        yield (x[batch:batch+batch_size],y[batch:batch+batch_size])\n",
        "    if remaining_points != 0:\n",
        "        yield (x[-remaining_points:],y[-remaining_points:])"
      ]
    },
    {
      "cell_type": "code",
      "execution_count": 101,
      "metadata": {
        "id": "fpQFLAK0n0Bx"
      },
      "outputs": [],
      "source": [
        "def find_w2(w_k, x, y, iteration):\n",
        "    d_k = -grad_f(x, w_k, y)\n",
        "    alpha = 1 / (iteration + 1)\n",
        "    w_k = w_k + alpha * d_k\n",
        "    return w_k"
      ]
    },
    {
      "cell_type": "code",
      "execution_count": 102,
      "metadata": {
        "id": "Mql4GZOXn6Pc"
      },
      "outputs": [],
      "source": [
        "beta1 = 1e-4\n",
        "beta2 = 0.9\n",
        "epsilon = 0.001\n",
        "r = 0.5\n",
        "batch_size = 1\n",
        "w_0 = np.array([[0],[0]], dtype=np.float64)\n",
        "x = data[:,:-1]\n",
        "y = data[:,-1:]\n",
        "x = np.hstack([x,np.ones(x.shape)])\n",
        "data_loader = return_dataset(x, y, batch_size)\n",
        "iteration = 0"
      ]
    },
    {
      "cell_type": "code",
      "execution_count": 103,
      "metadata": {
        "colab": {
          "base_uri": "https://localhost:8080/"
        },
        "id": "zbtZ7uR-oDjc",
        "outputId": "013dddee-d881-4dcb-f32c-5662972d1522"
      },
      "outputs": [
        {
          "name": "stdout",
          "output_type": "stream",
          "text": [
            "total_iterations: 97\n",
            "[[3.66670413]\n",
            " [0.08151968]]\n"
          ]
        }
      ],
      "source": [
        "while calculate_f(x, w_0, y) > 2.003:\n",
        "    for idx, (dx,dy) in enumerate(data_loader):\n",
        "        cur_w = find_w2(w_0, dx, dy, iteration)\n",
        "        iteration += 1\n",
        "        if calculate_f(x, cur_w, y) < 2.003:\n",
        "            w_0 = cur_w\n",
        "            break\n",
        "        if calculate_f(x, cur_w, y) < calculate_f(x, w_0, y):\n",
        "            w_0 = cur_w\n",
        "print(f\"total_iterations: {iteration}\")\n",
        "print(w_0)"
      ]
    },
    {
      "cell_type": "markdown",
      "metadata": {
        "id": "aTFCrYNroJvI"
      },
      "source": [
        "## Question-3"
      ]
    },
    {
      "cell_type": "code",
      "execution_count": 104,
      "metadata": {
        "id": "ymM3IQpHoIa7"
      },
      "outputs": [],
      "source": [
        "def cal_cost(theta,X,y):\n",
        "    m = len(y)\n",
        "    predictions = X.dot(theta)\n",
        "    cost = (1/2*m) * np.sum(np.square(predictions-y))\n",
        "    return cost\n",
        "def minibatch_gradient_descent(X,y,theta,learning_rate=0.01, iterations=10, batch_size =10):\n",
        "    m = len(y)\n",
        "    cost_history = np.zeros(iterations)\n",
        "    n_batches = int(m/batch_size)\n",
        "    for it in range(iterations):\n",
        "        cost =0.0\n",
        "        indices = np.random.permutation(m)\n",
        "        X = X[indices]\n",
        "        y = y[indices]\n",
        "        for i in range(0,m,batch_size):\n",
        "            X_i = X[i:i+batch_size]\n",
        "            y_i = y[i:i+batch_size]\n",
        "            X_i = np.c_[np.ones(len(X_i)),X_i]\n",
        "            prediction = np.dot(X_i,theta)\n",
        "            theta = theta -(1/m)*learning_rate*( X_i.T.dot((prediction - y_i)))\n",
        "            cost += cal_cost(theta,X_i,y_i)\n",
        "        cost_history[it]  = cost\n",
        "    return theta, cost_history"
      ]
    },
    {
      "cell_type": "code",
      "execution_count": 105,
      "metadata": {
        "colab": {
          "base_uri": "https://localhost:8080/"
        },
        "id": "HkrEW1_h9onY",
        "outputId": "c77925ff-a36a-4379-a19d-c08b03063621"
      },
      "outputs": [
        {
          "name": "stdout",
          "output_type": "stream",
          "text": [
            "Theta0:          0.809,\n",
            "Theta1:          3.671\n",
            "Final cost/MSE:  40051.881\n"
          ]
        }
      ],
      "source": [
        "lr = 0.05\n",
        "n_iter = 1000\n",
        "theta = np.random.randn(3, 1)\n",
        "theta,cost_history = minibatch_gradient_descent(x,y,theta,lr,n_iter)\n",
        "print('Theta0:          {:0.3f},\\nTheta1:          {:0.3f}'.format(theta[0][0],theta[1][0]))\n",
        "print('Final cost/MSE:  {:0.3f}'.format(cost_history[-1]))"
      ]
    },
    {
      "cell_type": "markdown",
      "metadata": {
        "id": "FkncjJauu6v8"
      },
      "source": [
        "## Question-4"
      ]
    },
    {
      "cell_type": "code",
      "execution_count": 106,
      "metadata": {
        "colab": {
          "base_uri": "https://localhost:8080/"
        },
        "id": "UR4kyQYGu6Ns",
        "outputId": "16630667-1106-4e60-e023-617f76a0c19b"
      },
      "outputs": [
        {
          "name": "stdout",
          "output_type": "stream",
          "text": [
            "[[-0.00485504]\n",
            " [ 3.67176844]\n",
            " [ 0.07355137]]\n",
            "total_iterations: 82\n",
            "2.0027581447644307\n"
          ]
        }
      ],
      "source": [
        "import numpy as np\n",
        "import copy, sys\n",
        "import pandas as pd\n",
        "\n",
        "def calculate_f(x, weights, y):\n",
        "    \"\"\"\n",
        "    x.shape = (N,1)\n",
        "    w.shape = (3,1)\n",
        "    \"\"\"\n",
        "    x = np.hstack([x**2, x, np.ones(x.shape,dtype=np.float64)])\n",
        "    return ((np.dot(x,weights) - y)**2).sum() / (2 * x.shape[0])\n",
        "\n",
        "def grad_f(x:np.array, weights:np.array, y:np.array) -> np.array:\n",
        "    new_x = np.hstack([x**2, x, np.ones(x.shape,dtype=np.float64)])\n",
        "    common_term = (np.dot(new_x,weights) - y) / x.shape[0]\n",
        "    first_term = (x ** 2 * common_term).sum()\n",
        "    second_term = (x * common_term).sum()\n",
        "    third_term = (common_term).sum()\n",
        "    return np.array([[first_term],[second_term],[third_term]],dtype=np.float64)\n",
        "\n",
        "\n",
        "beta1 = 1e-4\n",
        "beta2 = 0.9\n",
        "epsilon = 0.01\n",
        "r = 0.5\n",
        "w_0 = np.array([[0],[0],[0]], dtype=np.float64)\n",
        "x = data[:,:-1]\n",
        "y = data[:,-1:]\n",
        "w, iterations = find_w1(w_0, x, y, beta1, beta2, epsilon, r)\n",
        "# print('\\n')\n",
        "print(w)\n",
        "print(f\"total_iterations: {iterations}\")\n",
        "print(calculate_f(x, w, y))"
      ]
    },
    {
      "cell_type": "markdown",
      "metadata": {
        "id": "QqmzRAwsvzE8"
      },
      "source": [
        "## Question-5"
      ]
    },
    {
      "cell_type": "code",
      "execution_count": 107,
      "metadata": {
        "colab": {
          "base_uri": "https://localhost:8080/"
        },
        "id": "sO-t1aElpBQE",
        "outputId": "b54da0b3-a79b-4421-e931-72b04c1cbedd"
      },
      "outputs": [
        {
          "name": "stdout",
          "output_type": "stream",
          "text": [
            "[[-0.00443891]\n",
            " [ 3.65458596]\n",
            " [ 0.0787922 ]]\n",
            "total_iterations: 187\n",
            "2.002913879428597\n"
          ]
        }
      ],
      "source": [
        "batch_size = 1\n",
        "w_0 = np.array([[0],[0],[0]], dtype=np.float64)\n",
        "x = data[:,:-1]\n",
        "y = data[:,-1:]\n",
        "data_loader = return_dataset(x, y, batch_size)\n",
        "iteration = 0\n",
        "while calculate_f(x, w_0, y) > 2.003:\n",
        "    for idx, (dx,dy) in enumerate(data_loader):\n",
        "        cur_w = find_w2(w_0, dx, dy, iteration)\n",
        "        iteration += 1\n",
        "        if calculate_f(x, cur_w, y) < 2.003:\n",
        "            w_0 = cur_w\n",
        "            break\n",
        "        if calculate_f(x, cur_w, y) < calculate_f(x, w_0, y):\n",
        "            w_0 = cur_w\n",
        "    if iteration == 20000:\n",
        "        break\n",
        "    data_loader = return_dataset(x, y, batch_size)\n",
        "\n",
        "print(w_0)\n",
        "print(f\"total_iterations: {iteration}\")\n",
        "print(calculate_f(x, w_0, y))"
      ]
    },
    {
      "cell_type": "markdown",
      "metadata": {
        "id": "uD3mm08DxXtP"
      },
      "source": [
        "## Question-6"
      ]
    },
    {
      "cell_type": "code",
      "execution_count": 108,
      "metadata": {
        "colab": {
          "base_uri": "https://localhost:8080/"
        },
        "id": "oZzJzPDqpMEP",
        "outputId": "7444b53a-3d47-4b86-db65-8a441ff48a52"
      },
      "outputs": [
        {
          "name": "stdout",
          "output_type": "stream",
          "text": [
            "Theta0:          0.074,\n",
            "Theta1:          3.672,\n",
            "Theta2:          -0.003\n",
            "Final cost/MSE:  400.502\n"
          ]
        }
      ],
      "source": [
        "def cal_cost(theta, X, y):\n",
        "    m = len(y)\n",
        "    predictions = X.dot(theta)\n",
        "    cost = (1 / (2 * m)) * np.sum(np.square(predictions - y))\n",
        "    return cost\n",
        "\n",
        "def minibatch_gradient_descent(X, y, theta, learning_rate=0.01, iterations=10, batch_size=10):\n",
        "    m = len(y)\n",
        "    cost_history = np.zeros(iterations)\n",
        "    n_batches = int(m / batch_size)\n",
        "    for it in range(iterations):\n",
        "        cost = 0.0\n",
        "        indices = np.random.permutation(m)\n",
        "        X = X[indices]\n",
        "        y = y[indices]\n",
        "        for i in range(0, m, batch_size):\n",
        "            X_i = X[i:i + batch_size]\n",
        "            y_i = y[i:i + batch_size]\n",
        "            X_i = np.c_[np.ones(len(X_i)), X_i, X_i ** 2]  # Adding X^2 as a feature\n",
        "            prediction = np.dot(X_i, theta)\n",
        "            theta = theta - (1 / m) * learning_rate * (X_i.T.dot((prediction - y_i)))\n",
        "            cost += cal_cost(theta, X_i, y_i)\n",
        "        cost_history[it] = cost\n",
        "    return theta, cost_history\n",
        "\n",
        "# Example usage\n",
        "lr = 0.05\n",
        "n_iter = 1000\n",
        "theta = np.random.randn(3, 1)  # Initialize theta with appropriate dimensions\n",
        "theta, cost_history = minibatch_gradient_descent(x, y, theta, lr, n_iter)\n",
        "print('Theta0:          {:0.3f},\\nTheta1:          {:0.3f},\\nTheta2:          {:0.3f}'.format(theta[0][0], theta[1][0], theta[2][0]))\n",
        "print('Final cost/MSE:  {:0.3f}'.format(cost_history[-1]))\n"
      ]
    },
    {
      "cell_type": "markdown",
      "metadata": {
        "id": "7Jk7SC-lxZsf"
      },
      "source": [
        "### Question-7"
      ]
    },
    {
      "cell_type": "code",
      "execution_count": 109,
      "metadata": {
        "colab": {
          "base_uri": "https://localhost:8080/"
        },
        "id": "hKjPhi2r_e-n",
        "outputId": "9c3a1d08-6023-4b91-d577-351a9ac62c34"
      },
      "outputs": [
        {
          "name": "stdout",
          "output_type": "stream",
          "text": [
            "X shape: (768, 8)\n",
            "y shape: (768, 1)\n"
          ]
        }
      ],
      "source": [
        "db = pd.read_csv(\"diabetes2.csv\")\n",
        "db = np.array(db)\n",
        "y = db[:,-1:]\n",
        "X=db[:,:-1]\n",
        "print(\"X shape:\", X.shape)  # Should be (number_of_samples, 8)\n",
        "print(\"y shape:\", y.shape)  # Should be (number_of_samples, 1)"
      ]
    },
    {
      "cell_type": "markdown",
      "metadata": {
        "id": "r-i8YvYa_Uis"
      },
      "source": [
        "stocastic descent gradient"
      ]
    },
    {
      "cell_type": "code",
      "execution_count": 110,
      "metadata": {
        "colab": {
          "base_uri": "https://localhost:8080/"
        },
        "id": "GNHUEUXUxbXs",
        "outputId": "2555f2b7-509d-4ce9-e4ca-cd38c3d808e4"
      },
      "outputs": [
        {
          "name": "stdout",
          "output_type": "stream",
          "text": [
            "Theta0:          -0.024,\n",
            "Theta1:          0.024,\n",
            "Theta2:          0.004,\n",
            "Theta3:          -0.005,\n",
            "Theta4:          0.000,\n",
            "Theta5:          0.000,\n",
            "Theta6:          0.004,\n",
            "Theta7:          0.009,\n",
            "Theta8:          -0.001\n",
            "Final cost/MSE:  63.805\n"
          ]
        }
      ],
      "source": [
        "import numpy as np\n",
        "\n",
        "def cal_cost(theta,X,y):\n",
        "    m = len(y)\n",
        "    predictions = X.dot(theta)\n",
        "    cost = (1/2*m) * np.sum(np.square(predictions-y))\n",
        "    return cost\n",
        "\n",
        "def stocashtic_gradient_descent(X, y, theta, learning_rate=0.01, iterations=10):\n",
        "    m = len(y)\n",
        "    cost_history = np.zeros(iterations)\n",
        "    for it in range(iterations):\n",
        "        cost = 0.0\n",
        "        for i in range(m):\n",
        "            rand_ind = np.random.randint(0, m)\n",
        "            X_i = X[rand_ind, :].reshape(1, X.shape[1])\n",
        "            y_i = y[rand_ind].reshape(1, 1)\n",
        "            prediction = np.dot(X_i, theta)\n",
        "            theta = theta - (1 / m) * learning_rate * (X_i.T.dot((prediction - y_i)))\n",
        "            cost += cal_cost(theta, X_i, y_i)\n",
        "        cost_history[it] = cost\n",
        "    return theta, cost_history\n",
        "\n",
        "lr = 0.001\n",
        "n_iter = 1000\n",
        "theta = np.zeros((9,1))\n",
        "X_b = np.c_[np.ones((len(X),1)),X]\n",
        "theta,cost_history = stocashtic_gradient_descent(X_b,y,theta,lr,n_iter)\n",
        "print('Theta0:          {:0.3f},\\nTheta1:          {:0.3f},\\nTheta2:          {:0.3f},\\nTheta3:          {:0.3f},\\nTheta4:          {:0.3f},\\nTheta5:          {:0.3f},\\nTheta6:          {:0.3f},\\nTheta7:          {:0.3f},\\nTheta8:          {:0.3f}'.format(theta[0][0],theta[1][0],theta[2][0],theta[3][0],theta[4][0],theta[5][0],theta[6][0],theta[7][0],theta[8][0]))\n",
        "print('Final cost/MSE:  {:0.3f}'.format(cost_history[-1]))"
      ]
    },
    {
      "cell_type": "markdown",
      "metadata": {
        "id": "xT9G9ty8_ZWP"
      },
      "source": [
        "Mini-batch descent gradient\n"
      ]
    },
    {
      "cell_type": "code",
      "execution_count": 111,
      "metadata": {
        "colab": {
          "base_uri": "https://localhost:8080/"
        },
        "id": "rpJy6d8w_YIX",
        "outputId": "0b984e55-ec77-45ac-a3a4-81ce5cbcd6b8"
      },
      "outputs": [
        {
          "name": "stdout",
          "output_type": "stream",
          "text": [
            "Theta0:          -0.024,\n",
            "Theta1:          0.024,\n",
            "Theta2:          0.004,\n",
            "Theta3:          -0.005,\n",
            "Theta4:          0.000,\n",
            "Theta5:          -0.000,\n",
            "Theta6:          0.005,\n",
            "Theta7:          0.010,\n",
            "Theta8:          -0.001\n",
            "Final cost/MSE:  3.338\n"
          ]
        }
      ],
      "source": [
        "\n",
        "\n",
        "# Define the gradient descent code\n",
        "def cal_cost(theta, X, y):\n",
        "    m = len(y)\n",
        "    predictions = X.dot(theta)\n",
        "    cost = (1 / (2 * m)) * np.sum(np.square(predictions - y))\n",
        "    return cost\n",
        "\n",
        "def minibatch_gradient_descent(X,y,theta,learning_rate=0.01, iterations=10, batch_size =20):\n",
        "    m = len(y)\n",
        "    cost_history = np.zeros(iterations)\n",
        "    n_batches = int(m/batch_size)\n",
        "    for it in range(iterations):\n",
        "        cost =0.0\n",
        "        indices = np.random.permutation(m)\n",
        "        X = X[indices]\n",
        "        y = y[indices]\n",
        "        for i in range(0,m,batch_size):\n",
        "            X_i = X[i:i+batch_size]\n",
        "            y_i = y[i:i+batch_size]\n",
        "            X_i = np.c_[np.ones(len(X_i)),X_i]\n",
        "            prediction = np.dot(X_i,theta)\n",
        "            theta = theta -(1/m)*learning_rate*( X_i.T.dot((prediction - y_i)))\n",
        "            cost += cal_cost(theta,X_i,y_i)\n",
        "        cost_history[it]  = cost\n",
        "    return theta, cost_history\n",
        "\n",
        "lr = 0.001\n",
        "n_iter = 1000\n",
        "theta = np.zeros((9,1))\n",
        "theta,cost_history = minibatch_gradient_descent(X,y,theta,lr,n_iter)\n",
        "print('Theta0:          {:0.3f},\\nTheta1:          {:0.3f},\\nTheta2:          {:0.3f},\\nTheta3:          {:0.3f},\\nTheta4:          {:0.3f},\\nTheta5:          {:0.3f},\\nTheta6:          {:0.3f},\\nTheta7:          {:0.3f},\\nTheta8:          {:0.3f}'.format(theta[0][0],theta[1][0],theta[2][0],theta[3][0],theta[4][0],theta[5][0],theta[6][0],theta[7][0],theta[8][0]))\n",
        "print('Final cost/MSE:  {:0.3f}'.format(cost_history[-1]))"
      ]
    },
    {
      "cell_type": "code",
      "execution_count": 111,
      "metadata": {
        "id": "Dq7rSeK5AuPN"
      },
      "outputs": [],
      "source": []
    }
  ],
  "metadata": {
    "colab": {
      "provenance": []
    },
    "kernelspec": {
      "display_name": "Python 3",
      "name": "python3"
    },
    "language_info": {
      "codemirror_mode": {
        "name": "ipython",
        "version": 3
      },
      "file_extension": ".py",
      "mimetype": "text/x-python",
      "name": "python",
      "nbconvert_exporter": "python",
      "pygments_lexer": "ipython3",
      "version": "3.10.11"
    }
  },
  "nbformat": 4,
  "nbformat_minor": 0
}
