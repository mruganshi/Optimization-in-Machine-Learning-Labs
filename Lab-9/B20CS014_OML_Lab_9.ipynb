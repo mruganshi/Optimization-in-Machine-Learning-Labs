{
  "cells": [
    {
      "cell_type": "code",
      "execution_count": 1,
      "metadata": {
        "id": "9kpCW8VcT_3n"
      },
      "outputs": [],
      "source": [
        "import numpy as np\n",
        "import pandas as pd\n",
        "from cvxopt import matrix, solvers\n",
        "from scipy.optimize import minimize"
      ]
    },
    {
      "cell_type": "markdown",
      "metadata": {
        "id": "yjC9MTALQmLJ"
      },
      "source": [
        "## Question-1"
      ]
    },
    {
      "cell_type": "code",
      "execution_count": 2,
      "metadata": {
        "colab": {
          "base_uri": "https://localhost:8080/"
        },
        "id": "5dRDQBXiQnzr",
        "outputId": "c4091d8e-c83b-47d6-978c-bbd557931cde"
      },
      "outputs": [
        {
          "name": "stdout",
          "output_type": "stream",
          "text": [
            "Optimal solution:\n",
            "x1 = 2.8497099366136913e+31\n",
            "x2 = 2.8497099366136895e+31\n",
            "x3 = 3.5890973769734204e+31\n",
            "x4 = 4.328484790104133e+31\n"
          ]
        }
      ],
      "source": [
        "def f(x):\n",
        "    x0=x[0]\n",
        "    x1=x[1]\n",
        "    x2=x[2]\n",
        "    x3=x[3]\n",
        "    return (-x0 - x1 - x2 - x3)\n",
        "\n",
        "def c1(x):\n",
        "    x0=x[0]\n",
        "    x1=x[1]\n",
        "    x2=x[2]\n",
        "    x3=x[3]\n",
        "    return (x0-x1)**2 + (x2 + 2*x3)**4 - 5\n",
        "\n",
        "def c2(x):\n",
        "    x0=x[0]\n",
        "    x1=x[1]\n",
        "    x2=x[2]\n",
        "    x3=x[3]\n",
        "    return x0+2*x1+3*x2+4*x3-6\n",
        "\n",
        "cons = ({'type': 'ineq', 'fun': c1}, {'type': 'ineq', 'fun': c2})\n",
        "bounds = [(0, None), (0, None), (0, None), (0, None)]\n",
        "x0 = np.zeros(4)\n",
        "\n",
        "result = minimize(f, x0, method='SLSQP', bounds=bounds, constraints=cons)\n",
        "\n",
        "print(\"Optimal solution:\")\n",
        "print(\"x1 =\", np.round(result.x[0], decimals = 3))\n",
        "print(\"x2 =\", np.round(result.x[1], decimals = 3))\n",
        "print(\"x3 =\", np.round(result.x[2], decimals = 3))\n",
        "print(\"x4 =\", np.round(result.x[3], decimals = 3))"
      ]
    },
    {
      "cell_type": "markdown",
      "metadata": {
        "id": "e5king5GRyL1"
      },
      "source": [
        "## Question-2"
      ]
    },
    {
      "cell_type": "code",
      "execution_count": 3,
      "metadata": {
        "colab": {
          "base_uri": "https://localhost:8080/"
        },
        "id": "JLzz9fXARz4g",
        "outputId": "3b29ac15-fa06-4c60-c601-49a912bd7472"
      },
      "outputs": [
        {
          "ename": "FileNotFoundError",
          "evalue": "[Errno 2] No such file or directory: '2_col_revised.xlsx'",
          "output_type": "error",
          "traceback": [
            "\u001b[1;31m---------------------------------------------------------------------------\u001b[0m",
            "\u001b[1;31mFileNotFoundError\u001b[0m                         Traceback (most recent call last)",
            "\u001b[1;32md:\\oml\\My labs\\Lab-9\\B20CS014_OML_Lab_9.ipynb Cell 5\u001b[0m line \u001b[0;36m1\n\u001b[1;32m----> <a href='vscode-notebook-cell:/d%3A/oml/My%20labs/Lab-9/B20CS014_OML_Lab_9.ipynb#W4sZmlsZQ%3D%3D?line=0'>1</a>\u001b[0m data \u001b[39m=\u001b[39m pd\u001b[39m.\u001b[39;49mread_excel(\u001b[39m'\u001b[39;49m\u001b[39m2_col_revised.xlsx\u001b[39;49m\u001b[39m'\u001b[39;49m)\n\u001b[0;32m      <a href='vscode-notebook-cell:/d%3A/oml/My%20labs/Lab-9/B20CS014_OML_Lab_9.ipynb#W4sZmlsZQ%3D%3D?line=1'>2</a>\u001b[0m data\u001b[39m=\u001b[39mdata\u001b[39m.\u001b[39mvalues\n\u001b[0;32m      <a href='vscode-notebook-cell:/d%3A/oml/My%20labs/Lab-9/B20CS014_OML_Lab_9.ipynb#W4sZmlsZQ%3D%3D?line=2'>3</a>\u001b[0m x\u001b[39m=\u001b[39mdata[:,\u001b[39m0\u001b[39m]\u001b[39m.\u001b[39mreshape(\u001b[39m-\u001b[39m\u001b[39m1\u001b[39m,\u001b[39m1\u001b[39m)\n",
            "File \u001b[1;32m~\\AppData\\Local\\Packages\\PythonSoftwareFoundation.Python.3.10_qbz5n2kfra8p0\\LocalCache\\local-packages\\Python310\\site-packages\\pandas\\io\\excel\\_base.py:504\u001b[0m, in \u001b[0;36mread_excel\u001b[1;34m(io, sheet_name, header, names, index_col, usecols, dtype, engine, converters, true_values, false_values, skiprows, nrows, na_values, keep_default_na, na_filter, verbose, parse_dates, date_parser, date_format, thousands, decimal, comment, skipfooter, storage_options, dtype_backend, engine_kwargs)\u001b[0m\n\u001b[0;32m    502\u001b[0m \u001b[39mif\u001b[39;00m \u001b[39mnot\u001b[39;00m \u001b[39misinstance\u001b[39m(io, ExcelFile):\n\u001b[0;32m    503\u001b[0m     should_close \u001b[39m=\u001b[39m \u001b[39mTrue\u001b[39;00m\n\u001b[1;32m--> 504\u001b[0m     io \u001b[39m=\u001b[39m ExcelFile(\n\u001b[0;32m    505\u001b[0m         io,\n\u001b[0;32m    506\u001b[0m         storage_options\u001b[39m=\u001b[39;49mstorage_options,\n\u001b[0;32m    507\u001b[0m         engine\u001b[39m=\u001b[39;49mengine,\n\u001b[0;32m    508\u001b[0m         engine_kwargs\u001b[39m=\u001b[39;49mengine_kwargs,\n\u001b[0;32m    509\u001b[0m     )\n\u001b[0;32m    510\u001b[0m \u001b[39melif\u001b[39;00m engine \u001b[39mand\u001b[39;00m engine \u001b[39m!=\u001b[39m io\u001b[39m.\u001b[39mengine:\n\u001b[0;32m    511\u001b[0m     \u001b[39mraise\u001b[39;00m \u001b[39mValueError\u001b[39;00m(\n\u001b[0;32m    512\u001b[0m         \u001b[39m\"\u001b[39m\u001b[39mEngine should not be specified when passing \u001b[39m\u001b[39m\"\u001b[39m\n\u001b[0;32m    513\u001b[0m         \u001b[39m\"\u001b[39m\u001b[39man ExcelFile - ExcelFile already has the engine set\u001b[39m\u001b[39m\"\u001b[39m\n\u001b[0;32m    514\u001b[0m     )\n",
            "File \u001b[1;32m~\\AppData\\Local\\Packages\\PythonSoftwareFoundation.Python.3.10_qbz5n2kfra8p0\\LocalCache\\local-packages\\Python310\\site-packages\\pandas\\io\\excel\\_base.py:1563\u001b[0m, in \u001b[0;36mExcelFile.__init__\u001b[1;34m(self, path_or_buffer, engine, storage_options, engine_kwargs)\u001b[0m\n\u001b[0;32m   1561\u001b[0m     ext \u001b[39m=\u001b[39m \u001b[39m\"\u001b[39m\u001b[39mxls\u001b[39m\u001b[39m\"\u001b[39m\n\u001b[0;32m   1562\u001b[0m \u001b[39melse\u001b[39;00m:\n\u001b[1;32m-> 1563\u001b[0m     ext \u001b[39m=\u001b[39m inspect_excel_format(\n\u001b[0;32m   1564\u001b[0m         content_or_path\u001b[39m=\u001b[39;49mpath_or_buffer, storage_options\u001b[39m=\u001b[39;49mstorage_options\n\u001b[0;32m   1565\u001b[0m     )\n\u001b[0;32m   1566\u001b[0m     \u001b[39mif\u001b[39;00m ext \u001b[39mis\u001b[39;00m \u001b[39mNone\u001b[39;00m:\n\u001b[0;32m   1567\u001b[0m         \u001b[39mraise\u001b[39;00m \u001b[39mValueError\u001b[39;00m(\n\u001b[0;32m   1568\u001b[0m             \u001b[39m\"\u001b[39m\u001b[39mExcel file format cannot be determined, you must specify \u001b[39m\u001b[39m\"\u001b[39m\n\u001b[0;32m   1569\u001b[0m             \u001b[39m\"\u001b[39m\u001b[39man engine manually.\u001b[39m\u001b[39m\"\u001b[39m\n\u001b[0;32m   1570\u001b[0m         )\n",
            "File \u001b[1;32m~\\AppData\\Local\\Packages\\PythonSoftwareFoundation.Python.3.10_qbz5n2kfra8p0\\LocalCache\\local-packages\\Python310\\site-packages\\pandas\\io\\excel\\_base.py:1419\u001b[0m, in \u001b[0;36minspect_excel_format\u001b[1;34m(content_or_path, storage_options)\u001b[0m\n\u001b[0;32m   1416\u001b[0m \u001b[39mif\u001b[39;00m \u001b[39misinstance\u001b[39m(content_or_path, \u001b[39mbytes\u001b[39m):\n\u001b[0;32m   1417\u001b[0m     content_or_path \u001b[39m=\u001b[39m BytesIO(content_or_path)\n\u001b[1;32m-> 1419\u001b[0m \u001b[39mwith\u001b[39;00m get_handle(\n\u001b[0;32m   1420\u001b[0m     content_or_path, \u001b[39m\"\u001b[39;49m\u001b[39mrb\u001b[39;49m\u001b[39m\"\u001b[39;49m, storage_options\u001b[39m=\u001b[39;49mstorage_options, is_text\u001b[39m=\u001b[39;49m\u001b[39mFalse\u001b[39;49;00m\n\u001b[0;32m   1421\u001b[0m ) \u001b[39mas\u001b[39;00m handle:\n\u001b[0;32m   1422\u001b[0m     stream \u001b[39m=\u001b[39m handle\u001b[39m.\u001b[39mhandle\n\u001b[0;32m   1423\u001b[0m     stream\u001b[39m.\u001b[39mseek(\u001b[39m0\u001b[39m)\n",
            "File \u001b[1;32m~\\AppData\\Local\\Packages\\PythonSoftwareFoundation.Python.3.10_qbz5n2kfra8p0\\LocalCache\\local-packages\\Python310\\site-packages\\pandas\\io\\common.py:872\u001b[0m, in \u001b[0;36mget_handle\u001b[1;34m(path_or_buf, mode, encoding, compression, memory_map, is_text, errors, storage_options)\u001b[0m\n\u001b[0;32m    863\u001b[0m         handle \u001b[39m=\u001b[39m \u001b[39mopen\u001b[39m(\n\u001b[0;32m    864\u001b[0m             handle,\n\u001b[0;32m    865\u001b[0m             ioargs\u001b[39m.\u001b[39mmode,\n\u001b[1;32m   (...)\u001b[0m\n\u001b[0;32m    868\u001b[0m             newline\u001b[39m=\u001b[39m\u001b[39m\"\u001b[39m\u001b[39m\"\u001b[39m,\n\u001b[0;32m    869\u001b[0m         )\n\u001b[0;32m    870\u001b[0m     \u001b[39melse\u001b[39;00m:\n\u001b[0;32m    871\u001b[0m         \u001b[39m# Binary mode\u001b[39;00m\n\u001b[1;32m--> 872\u001b[0m         handle \u001b[39m=\u001b[39m \u001b[39mopen\u001b[39;49m(handle, ioargs\u001b[39m.\u001b[39;49mmode)\n\u001b[0;32m    873\u001b[0m     handles\u001b[39m.\u001b[39mappend(handle)\n\u001b[0;32m    875\u001b[0m \u001b[39m# Convert BytesIO or file objects passed with an encoding\u001b[39;00m\n",
            "\u001b[1;31mFileNotFoundError\u001b[0m: [Errno 2] No such file or directory: '2_col_revised.xlsx'"
          ]
        }
      ],
      "source": [
        "data = pd.read_excel('2_col_revised.xlsx')\n",
        "data=data.values\n",
        "x=data[:,0].reshape(-1,1)\n",
        "y=data[:,-1]\n",
        "n = len(x)\n",
        "x[n-1]= 4\n",
        "R = 4\n",
        "degrees = [1, 2, 3, 4, 5, 6, 7]\n",
        "r = 14\n",
        "def f(x0):\n",
        "    return np.sum(x0)\n",
        "\n",
        "def constraint(x0, power):\n",
        "    fitted_values = np.sum(x0 * (x**power)) - y\n",
        "    return np.sum(fitted_values)\n",
        "\n",
        "print(\"Price of 5-thousand square feet house:-\")\n",
        "for degree in degrees:\n",
        "    initial_guess = np.ones(degree + 1)\n",
        "    poly_constraint = {'type': 'eq', 'fun': lambda alpha: constraint(alpha, degree)}\n",
        "\n",
        "    bounds = [(0, None) for _ in range(degree + 1)]\n",
        "    result = minimize(f, initial_guess, method='SLSQP', constraints=[poly_constraint], bounds=bounds)\n",
        "\n",
        "    if result.success and result.fun <= r:\n",
        "        price = np.polyval(result.x, R)*100\n",
        "        print(f\"For degree: {degree}, Price: {price:.2f}\")"
      ]
    },
    {
      "cell_type": "markdown",
      "metadata": {
        "id": "W2Rwa-DZUDpS"
      },
      "source": [
        "## Question-3"
      ]
    },
    {
      "cell_type": "markdown",
      "metadata": {
        "id": "lQjET_QrT7zQ"
      },
      "source": [
        "considering x2 = x3 - x4 s.t x3>=0, x4>=0\n",
        "\n",
        "min 3*x1 − 4*x3 + 4*x4"
      ]
    },
    {
      "cell_type": "code",
      "execution_count": 19,
      "metadata": {
        "colab": {
          "base_uri": "https://localhost:8080/"
        },
        "id": "abcBnXyJUCdi",
        "outputId": "51150db7-7d43-4846-e000-dd0d88621683"
      },
      "outputs": [
        {
          "name": "stdout",
          "output_type": "stream",
          "text": [
            "     pcost       dcost       gap    pres   dres   k/t\n",
            " 0:  2.2229e+01 -2.8329e+01  4e+01  1e-01  3e+00  1e+00\n",
            " 1:  1.8978e+01  5.8559e+00  1e+01  4e-02  7e-01  5e-01\n",
            " 2:  5.8896e+00  2.4793e+00  6e+00  1e-02  2e-01  6e-01\n",
            " 3:  5.0172e+00  4.9655e+00  9e-02  2e-04  3e-03  8e-03\n",
            " 4:  5.0002e+00  4.9997e+00  9e-04  2e-06  3e-05  8e-05\n",
            " 5:  5.0000e+00  5.0000e+00  9e-06  2e-08  3e-07  8e-07\n",
            " 6:  5.0000e+00  5.0000e+00  9e-08  2e-10  3e-09  8e-09\n",
            "Optimal solution found.\n",
            "[[-0.     ]\n",
            " [ 3.05765]\n",
            " [ 4.30765]]\n",
            "Minimum value is 5.0\n"
          ]
        }
      ],
      "source": [
        "A = np.array([[1, 3, -3], [2, -1, 1], [-1, 4, -4], [-1, 0, 0], [0, -1, 0], [0, 0, -1]])\n",
        "b = np.array([[12], [20], [-5], [0], [0], [0]])\n",
        "c = np.array([[3], [-4], [4]])\n",
        "soln = solvers.lp(matrix(c,tc='d'),matrix(A,tc='d'),matrix(b,tc='d'))\n",
        "a1 = np.round(soln['primal objective'], decimals=5)\n",
        "print(np.round_(soln['x'],decimals=6))\n",
        "print(\"Minimum value is\",a1)"
      ]
    },
    {
      "cell_type": "markdown",
      "metadata": {
        "id": "XyHI0duuULaH"
      },
      "source": [
        "dual of the problem\n",
        "\n",
        "max -12*y1 - 20*y2 + 5*y3"
      ]
    },
    {
      "cell_type": "code",
      "execution_count": 22,
      "metadata": {
        "colab": {
          "base_uri": "https://localhost:8080/"
        },
        "id": "y1ivNYhQUIMG",
        "outputId": "8ffc938b-43cc-4545-a17e-8736e43e83c3"
      },
      "outputs": [
        {
          "name": "stdout",
          "output_type": "stream",
          "text": [
            "     pcost       dcost       gap    pres   dres   k/t\n",
            " 0: -2.2229e+01 -2.6445e+01  4e+01  7e-01  2e-01  1e+00\n",
            " 1: -1.9235e+01 -2.0094e+01  1e+01  2e-01  6e-02  5e-01\n",
            " 2: -6.4514e+00 -6.2208e+00  6e+00  6e-02  2e-02  6e-01\n",
            " 3: -5.0242e+00 -5.0221e+00  9e-02  8e-04  2e-04  8e-03\n",
            " 4: -5.0002e+00 -5.0002e+00  9e-04  8e-06  2e-06  8e-05\n",
            " 5: -5.0000e+00 -5.0000e+00  9e-06  8e-08  2e-08  8e-07\n",
            " 6: -5.0000e+00 -5.0000e+00  9e-08  8e-10  2e-10  8e-09\n",
            "Optimal solution found.\n",
            "[[-0.]\n",
            " [-0.]\n",
            " [ 1.]]\n",
            "Maximum value is 5.0\n"
          ]
        }
      ],
      "source": [
        "A = np.array([[-1, -2, 1], [-3, 1, -4], [3, -1, 4], [-1, 0, 0], [0, -1, 0], [0, 0, -1]])\n",
        "b = np.array([[3], [-4], [4], [0], [0], [0]])\n",
        "c = np.array([[12], [20], [-5]])\n",
        "soln = solvers.lp(matrix(c,tc='d'),matrix(A,tc='d'),matrix(b,tc='d'))\n",
        "a2 = np.round(-soln['primal objective'], decimals=5)\n",
        "print(np.round_(soln['x'],decimals=6))\n",
        "print(\"Maximum value is\", a2)"
      ]
    },
    {
      "cell_type": "markdown",
      "metadata": {
        "id": "ZT1zsuQgUXWA"
      },
      "source": [
        "duality gap"
      ]
    },
    {
      "cell_type": "code",
      "execution_count": 23,
      "metadata": {
        "colab": {
          "base_uri": "https://localhost:8080/"
        },
        "id": "M1qSDFkqTv-l",
        "outputId": "f3c377ad-9509-40bf-c98b-932b2254bba7"
      },
      "outputs": [
        {
          "name": "stdout",
          "output_type": "stream",
          "text": [
            "0.0\n"
          ]
        }
      ],
      "source": [
        "duality_gap = (a1 - a2)\n",
        "print(duality_gap)"
      ]
    },
    {
      "cell_type": "markdown",
      "metadata": {
        "id": "BbK2jSQfUOTa"
      },
      "source": [
        "## Question-4"
      ]
    },
    {
      "cell_type": "markdown",
      "metadata": {
        "id": "q_z4oclDUZET"
      },
      "source": [
        "min (R + 3)x1 + (R + 41)x2"
      ]
    },
    {
      "cell_type": "code",
      "execution_count": 28,
      "metadata": {
        "colab": {
          "base_uri": "https://localhost:8080/"
        },
        "id": "bZf7a00rUNvN",
        "outputId": "92f3c16f-46ba-45c2-9a9f-c03795a6348b"
      },
      "outputs": [
        {
          "name": "stdout",
          "output_type": "stream",
          "text": [
            "     pcost       dcost       gap    pres   dres   k/t\n",
            " 0:  3.4209e+02 -2.0732e+02  6e+01  0e+00  1e+00  1e+00\n",
            " 1:  5.1115e+01 -2.3905e+03  2e+03  1e-15  5e+00  4e+01\n",
            " 2:  2.4673e+01 -1.8843e+02  2e+02  2e-16  5e-01  5e+00\n",
            " 3:  1.4274e+00 -3.9645e+00  5e+00  2e-16  1e-02  8e-01\n",
            " 4:  1.4462e-02 -3.9947e-02  5e-02  2e-16  1e-04  8e-03\n",
            " 5:  1.4463e-04 -3.9949e-04  5e-04  4e-16  1e-06  8e-05\n",
            " 6:  1.4463e-06 -3.9949e-06  5e-06  2e-16  1e-08  8e-07\n",
            " 7:  1.4463e-08 -3.9949e-08  5e-08  4e-16  1e-10  8e-09\n",
            "Optimal solution found.\n",
            "[[0.]\n",
            " [0.]]\n",
            "Minimum value is 0.0\n"
          ]
        }
      ],
      "source": [
        "A = np.array([[3, -1], [7, 11], [-1, 0], [0, -1]])\n",
        "b = np.array([[12], [88], [0], [0]])\n",
        "c = np.array([[17], [55]])\n",
        "soln = solvers.lp(matrix(c,tc='d'),matrix(A,tc='d'),matrix(b,tc='d'))\n",
        "a1 = np.round(soln['primal objective'], decimals=5)\n",
        "print(np.round_(soln['x'],decimals=6))\n",
        "print(\"Minimum value is\",a1)"
      ]
    },
    {
      "cell_type": "markdown",
      "metadata": {
        "id": "4mUQ0BtMUofT"
      },
      "source": [
        "dual of the problem"
      ]
    },
    {
      "cell_type": "code",
      "execution_count": 29,
      "metadata": {
        "colab": {
          "base_uri": "https://localhost:8080/"
        },
        "id": "6f7C5mCfUKya",
        "outputId": "bd000f0f-5b25-4b4d-9f27-f2c409c9fbb1"
      },
      "outputs": [
        {
          "name": "stdout",
          "output_type": "stream",
          "text": [
            "     pcost       dcost       gap    pres   dres   k/t\n",
            " 0: -3.4209e+02 -3.4209e+02  6e+01  2e-01  0e+00  1e+00\n",
            " 1: -8.5892e+01 -5.1115e+01  2e+03  9e-01  6e-15  4e+01\n",
            " 2: -2.9271e+01 -2.4673e+01  2e+02  8e-02  6e-16  5e+00\n",
            " 3: -2.2326e+00 -1.4274e+00  5e+00  2e-03  2e-16  8e-01\n",
            " 4: -2.2630e-02 -1.4462e-02  5e-02  2e-05  4e-17  8e-03\n",
            " 5: -2.2631e-04 -1.4463e-04  5e-04  2e-07  2e-16  8e-05\n",
            " 6: -2.2631e-06 -1.4463e-06  5e-06  2e-09  4e-16  8e-07\n",
            " 7: -2.2631e-08 -1.4463e-08  5e-08  2e-11  0e+00  8e-09\n",
            "Optimal solution found.\n",
            "[[ 0.]\n",
            " [-0.]]\n",
            "Maximum value is 0.0\n"
          ]
        }
      ],
      "source": [
        "A = np.array([[-3, -7], [1, -11], [-1, 0], [0, -1]])\n",
        "b = np.array([[17], [55], [0], [0]])\n",
        "c = np.array([[12], [88]])\n",
        "soln = solvers.lp(matrix(c,tc='d'),matrix(A,tc='d'),matrix(b,tc='d'))\n",
        "a2 = np.round(-soln['primal objective'], decimals=5)\n",
        "print(np.round_(soln['x'],decimals=6))\n",
        "print(\"Maximum value is\", a2)"
      ]
    },
    {
      "cell_type": "markdown",
      "metadata": {
        "id": "f7M4rqlSUxVD"
      },
      "source": [
        "Duality gap"
      ]
    },
    {
      "cell_type": "code",
      "execution_count": 30,
      "metadata": {
        "colab": {
          "base_uri": "https://localhost:8080/"
        },
        "id": "MVqa6LYTUTiK",
        "outputId": "1b4b7009-9b11-4e7c-c195-69a66dba7b98"
      },
      "outputs": [
        {
          "name": "stdout",
          "output_type": "stream",
          "text": [
            "0.0\n"
          ]
        }
      ],
      "source": [
        "duality_gap = (a1 - a2)\n",
        "print(duality_gap)"
      ]
    },
    {
      "cell_type": "markdown",
      "metadata": {
        "id": "zM_2tXeeUW6y"
      },
      "source": [
        "## Question-5"
      ]
    },
    {
      "cell_type": "markdown",
      "metadata": {
        "id": "LxbZrrhTU01b"
      },
      "source": [
        "min Rx1 − (R − 1)x2"
      ]
    },
    {
      "cell_type": "code",
      "execution_count": 33,
      "metadata": {
        "colab": {
          "base_uri": "https://localhost:8080/"
        },
        "id": "ouFHlLxIUVY7",
        "outputId": "2d75687a-5f76-4c3a-a362-cac794609393"
      },
      "outputs": [
        {
          "name": "stdout",
          "output_type": "stream",
          "text": [
            "     pcost       dcost       gap    pres   dres   k/t\n",
            " 0:  1.7630e+01 -9.8519e+00  2e+01  1e+00  1e+00  1e+00\n",
            " 1: -6.4135e+02 -1.1288e+03  6e+04  3e+01  3e+01  2e+02\n",
            " 2: -3.7899e+01 -2.7281e+00  5e+01  1e+00  1e+00  6e+01\n",
            " 3: -6.7454e+03 -3.4414e+01  2e+04  2e+00  3e+00  7e+03\n",
            " 4: -6.8033e+05 -3.4663e+01  2e+06  2e+00  3e+00  7e+05\n",
            " 5: -6.8040e+07 -3.4663e+01  2e+08  2e+00  3e+00  7e+07\n",
            "Certificate of dual infeasibility found.\n"
          ]
        }
      ],
      "source": [
        "A = np.array([[3, -2], [3, -2], [-1, 0], [0, -1]])\n",
        "b = np.array([[1], [6], [0], [0]])\n",
        "c = np.array([[14], [-13]])\n",
        "soln = solvers.lp(matrix(c,tc='d'),matrix(A,tc='d'),matrix(b,tc='d'))"
      ]
    },
    {
      "cell_type": "markdown",
      "metadata": {
        "id": "cAmUk52CVcxx"
      },
      "source": [
        "dual of the problem"
      ]
    },
    {
      "cell_type": "code",
      "execution_count": 34,
      "metadata": {
        "colab": {
          "base_uri": "https://localhost:8080/"
        },
        "id": "xvEEy1ZdUdWf",
        "outputId": "5db365f0-8f49-4c93-ba5f-b70d9e2f902b"
      },
      "outputs": [
        {
          "name": "stdout",
          "output_type": "stream",
          "text": [
            "     pcost       dcost       gap    pres   dres   k/t\n",
            " 0: -1.7630e+01 -2.1259e+01  6e+01  4e-01  3e-16  1e+00\n",
            " 1:  2.4738e+01  2.4586e+01  4e+02  7e-01  1e-14  7e+00\n",
            " 2: -3.6832e+01  6.0238e+01  1e+03  5e-01  9e-14  1e+02\n",
            " 3: -2.9334e+01  9.2510e+03  2e+05  6e-01  1e-11  9e+03\n",
            " 4: -2.9333e+01  9.2835e+05  2e+07  6e-01  9e-11  9e+05\n",
            " 5: -2.9333e+01  9.2838e+07  2e+09  6e-01  9e-09  9e+07\n",
            "Certificate of primal infeasibility found.\n"
          ]
        }
      ],
      "source": [
        "A = np.array([[3, 3], [-2, -2], [-1, 0], [0, -1]])\n",
        "b = np.array([[14], [-13], [0], [0]])\n",
        "c = np.array([[-1], [-6]])\n",
        "soln=solvers.lp(matrix(c,tc='d'),matrix(A,tc='d'),matrix(b,tc='d'))"
      ]
    },
    {
      "cell_type": "markdown",
      "metadata": {
        "id": "y6PXHs0GUsTF"
      },
      "source": [
        "## Question-6"
      ]
    },
    {
      "cell_type": "markdown",
      "metadata": {
        "id": "7p5cBbrTVshV"
      },
      "source": [
        "max z = x1 + x2 + x3"
      ]
    },
    {
      "cell_type": "code",
      "execution_count": 35,
      "metadata": {
        "colab": {
          "base_uri": "https://localhost:8080/"
        },
        "id": "L-ta3LOqUktO",
        "outputId": "6b2a33b8-c549-44d0-a485-4553fd2eea10"
      },
      "outputs": [
        {
          "name": "stdout",
          "output_type": "stream",
          "text": [
            "     pcost       dcost       gap    pres   dres   k/t\n",
            " 0: -1.2000e+00 -7.7000e+00  9e+00  6e-01  4e+00  1e+00\n",
            " 1: -1.4061e+00 -2.5268e+00  7e-01  1e-01  7e-01  2e-01\n",
            " 2: -1.6525e+00 -1.7345e+00  5e-02  7e-03  4e-02  3e-03\n",
            " 3: -1.6665e+00 -1.6674e+00  6e-04  8e-05  5e-04  4e-05\n",
            " 4: -1.6667e+00 -1.6667e+00  6e-06  8e-07  5e-06  4e-07\n",
            " 5: -1.6667e+00 -1.6667e+00  6e-08  8e-09  5e-08  4e-09\n",
            "Optimal solution found.\n",
            "[[0.      ]\n",
            " [1.333333]\n",
            " [0.333333]]\n",
            "Maximum value is 1.66667\n"
          ]
        }
      ],
      "source": [
        "A = np.array([[3, 2, 1], [2, 1, 2], [-1, 0, 0], [0, -1, 0], [0, 0, -1]])\n",
        "b = np.array([[3], [2], [0], [0], [0]])\n",
        "c = np.array([[-1], [-1], [-1]])\n",
        "soln = solvers.lp(matrix(c,tc='d'),matrix(A,tc='d'),matrix(b,tc='d'))\n",
        "a1 = np.round(-soln['primal objective'], decimals=5)\n",
        "print(np.round_(soln['x'],decimals=6))\n",
        "print(\"Maximum value is\",a1)"
      ]
    },
    {
      "cell_type": "markdown",
      "metadata": {
        "id": "k5TDiQ1DV3S6"
      },
      "source": [
        "dual of the problem"
      ]
    },
    {
      "cell_type": "code",
      "execution_count": 36,
      "metadata": {
        "colab": {
          "base_uri": "https://localhost:8080/"
        },
        "id": "22fs2PITUu6G",
        "outputId": "9c902ba0-40ee-40a5-91f1-1877ec3fe825"
      },
      "outputs": [
        {
          "name": "stdout",
          "output_type": "stream",
          "text": [
            "     pcost       dcost       gap    pres   dres   k/t\n",
            " 0:  1.2000e+00  4.2000e+00  9e+00  2e+00  3e+00  1e+00\n",
            " 1:  1.3661e+00  1.9418e+00  7e-01  3e-01  5e-01  2e-01\n",
            " 2:  1.6611e+00  1.6864e+00  5e-02  2e-02  3e-02  3e-03\n",
            " 3:  1.6666e+00  1.6669e+00  6e-04  2e-04  3e-04  4e-05\n",
            " 4:  1.6667e+00  1.6667e+00  6e-06  2e-06  3e-06  4e-07\n",
            " 5:  1.6667e+00  1.6667e+00  6e-08  2e-08  3e-08  4e-09\n",
            "Optimal solution found.\n",
            "[[0.333333]\n",
            " [0.333333]]\n",
            "Minimum value is 1.66667\n"
          ]
        }
      ],
      "source": [
        "A = np.array([[-3, -2], [-2, -1], [-1, -2], [-1, 0], [0, -1]])\n",
        "b = np.array([[-1], [-1], [-1], [0], [0]])\n",
        "c = np.array([[3], [2]])\n",
        "soln = solvers.lp(matrix(c,tc='d'),matrix(A,tc='d'),matrix(b,tc='d'))\n",
        "a2 = np.round(soln['primal objective'], decimals=5)\n",
        "print(np.round_(soln['x'],decimals=6))\n",
        "print(\"Minimum value is\", a2)"
      ]
    },
    {
      "cell_type": "markdown",
      "metadata": {
        "id": "Z8iynGAGWCif"
      },
      "source": [
        "duality gap"
      ]
    },
    {
      "cell_type": "code",
      "execution_count": 38,
      "metadata": {
        "colab": {
          "base_uri": "https://localhost:8080/"
        },
        "id": "Ed3aT5TRUwag",
        "outputId": "6c35914f-6c13-47bf-9481-9403d4b033a5"
      },
      "outputs": [
        {
          "name": "stdout",
          "output_type": "stream",
          "text": [
            "0.0\n"
          ]
        }
      ],
      "source": [
        "duality_gap = (a1 - a2)\n",
        "print(duality_gap)"
      ]
    },
    {
      "cell_type": "markdown",
      "metadata": {
        "id": "arGcrTf5WFUR"
      },
      "source": [
        "## Question-7"
      ]
    },
    {
      "cell_type": "markdown",
      "metadata": {
        "id": "_T1khwEYWI7x"
      },
      "source": [
        "max z = 16x1 + 17x2"
      ]
    },
    {
      "cell_type": "code",
      "execution_count": 40,
      "metadata": {
        "colab": {
          "base_uri": "https://localhost:8080/"
        },
        "id": "VM0WJRSlWBja",
        "outputId": "16cfb912-b20d-4450-96a3-ede3a9681ea8"
      },
      "outputs": [
        {
          "name": "stdout",
          "output_type": "stream",
          "text": [
            "     pcost       dcost       gap    pres   dres   k/t\n",
            " 0: -1.0357e+04 -2.0061e+04  3e+03  3e-02  7e-01  1e+00\n",
            " 1: -9.5663e+03 -1.6482e+04  2e+03  2e-02  5e-01  2e+02\n",
            " 2: -9.9583e+03 -1.0252e+04  8e+01  8e-04  2e-02  7e+00\n",
            " 3: -9.9995e+03 -1.0005e+04  1e+00  2e-05  5e-04  2e-01\n",
            " 4: -1.0000e+04 -1.0000e+04  1e-02  2e-07  5e-06  2e-03\n",
            " 5: -1.0000e+04 -1.0000e+04  1e-04  2e-09  5e-08  2e-05\n",
            "Optimal solution found.\n",
            "[[200.000027]\n",
            " [399.999972]]\n",
            "Maximum value is 9999.99995\n"
          ]
        }
      ],
      "source": [
        "A = np.array([[2, 1], [1, 1], [2, 4], [-1, 0], [0, -1]])\n",
        "b = np.array([[1000], [600], [2000], [0], [0]])\n",
        "c = np.array([[-16], [-17]])\n",
        "soln = solvers.lp(matrix(c,tc='d'),matrix(A,tc='d'),matrix(b,tc='d'))\n",
        "a1 = np.round(-soln['primal objective'], decimals=5)\n",
        "print(np.round_(soln['x'],decimals=6))\n",
        "print(\"Maximum value is\",a1)"
      ]
    },
    {
      "cell_type": "markdown",
      "metadata": {
        "id": "S_k1USnjWiBj"
      },
      "source": [
        "dual of the problem\n",
        "\n",
        "min 1000*y1 + 600*y2 + 2000*y3"
      ]
    },
    {
      "cell_type": "code",
      "execution_count": 42,
      "metadata": {
        "colab": {
          "base_uri": "https://localhost:8080/"
        },
        "id": "DZIQniU0WcOY",
        "outputId": "1d831663-dc17-4413-ed2b-8a9ac9a530fe"
      },
      "outputs": [
        {
          "name": "stdout",
          "output_type": "stream",
          "text": [
            "     pcost       dcost       gap    pres   dres   k/t\n",
            " 0:  1.0357e+04  1.1250e+04  3e+03  3e-01  1e-01  1e+00\n",
            " 1:  9.4061e+03  1.0218e+04  2e+03  2e-01  7e-02  2e+02\n",
            " 2:  9.9509e+03  9.9861e+03  8e+01  8e-03  3e-03  7e+00\n",
            " 3:  9.9993e+03  1.0000e+04  1e+00  2e-04  6e-05  2e-01\n",
            " 4:  1.0000e+04  1.0000e+04  1e-02  2e-06  6e-07  2e-03\n",
            " 5:  1.0000e+04  1.0000e+04  1e-04  2e-08  6e-09  2e-05\n",
            "Optimal solution found.\n",
            "[[-0. ]\n",
            " [15. ]\n",
            " [ 0.5]]\n",
            "Minimum value is 9999.99993\n"
          ]
        }
      ],
      "source": [
        "A = np.array([[-2, -1, -2], [-1, -1, -4], [-1, 0, 0], [0, -1, 0], [0, 0, -1]])\n",
        "b = np.array([[-16], [-17], [0], [0], [0]])\n",
        "c = np.array([[1000], [600], [2000]])\n",
        "soln = solvers.lp(matrix(c,tc='d'),matrix(A,tc='d'),matrix(b,tc='d'))\n",
        "a2= np.round(soln['primal objective'], decimals=5)\n",
        "print(np.round_(soln['x'],decimals=6))\n",
        "print(\"Minimum value is\", a2)"
      ]
    },
    {
      "cell_type": "markdown",
      "metadata": {
        "id": "iLsW107KWxIl"
      },
      "source": [
        "duality gap"
      ]
    },
    {
      "cell_type": "code",
      "execution_count": 44,
      "metadata": {
        "colab": {
          "base_uri": "https://localhost:8080/"
        },
        "id": "Q11QmL1UWnhZ",
        "outputId": "859bd3ba-72b4-4959-921b-21a30b5a50ab"
      },
      "outputs": [
        {
          "name": "stdout",
          "output_type": "stream",
          "text": [
            "0.0\n"
          ]
        }
      ],
      "source": [
        "duality_gap = np.round((a1 - a2), decimals = 3)\n",
        "print(duality_gap)"
      ]
    },
    {
      "cell_type": "markdown",
      "metadata": {
        "id": "ZKG52lcvW8bq"
      },
      "source": [
        "## Question-8"
      ]
    },
    {
      "cell_type": "markdown",
      "metadata": {
        "id": "KXi9OqMfXAK5"
      },
      "source": [
        "min 2x1 + 3x2 + 10x3"
      ]
    },
    {
      "cell_type": "code",
      "execution_count": 45,
      "metadata": {
        "colab": {
          "base_uri": "https://localhost:8080/"
        },
        "id": "CisS-NlDW0lo",
        "outputId": "67de4859-7c08-4898-c999-64f72b3a2790"
      },
      "outputs": [
        {
          "name": "stdout",
          "output_type": "stream",
          "text": [
            "     pcost       dcost       gap    pres   dres   k/t\n",
            " 0:  2.8205e+00  2.8205e+00  2e+01  2e+00  4e-01  1e+00\n",
            " 1:  2.6616e+00  2.6828e+00  2e+00  2e-01  4e-02  1e-01\n",
            " 2:  2.9966e+00  2.9982e+00  2e-02  3e-03  5e-04  3e-03\n",
            " 3:  3.0000e+00  3.0000e+00  2e-04  3e-05  5e-06  3e-05\n",
            " 4:  3.0000e+00  3.0000e+00  2e-06  3e-07  5e-08  3e-07\n",
            " 5:  3.0000e+00  3.0000e+00  2e-08  3e-09  5e-10  3e-09\n",
            "Optimal solution found.\n",
            "[[ 0.]\n",
            " [ 1.]\n",
            " [-0.]]\n",
            "Minimum value is 3.0\n"
          ]
        }
      ],
      "source": [
        "A = np.array([[1, 0, 2], [-1, 0, -2], [0, -1, -1], [0, 1, 1], [-1, 0, 0], [0, -1, 0], [0, 0, -1]])\n",
        "b = np.array([[0], [0], [-1], [1], [0], [0], [0]])\n",
        "c = np.array([[2], [3], [10]])\n",
        "soln = solvers.lp(matrix(c,tc='d'),matrix(A,tc='d'),matrix(b,tc='d'))\n",
        "a1 = np.round(soln['primal objective'], decimals=5)\n",
        "print(np.round_(soln['x'],decimals=6))\n",
        "print(\"Minimum value is\",a1)"
      ]
    },
    {
      "cell_type": "markdown",
      "metadata": {
        "id": "9FHhXdjsXGsB"
      },
      "source": [
        "dual of the problem\n",
        "\n",
        "max y3 - y4"
      ]
    },
    {
      "cell_type": "code",
      "execution_count": 46,
      "metadata": {
        "colab": {
          "base_uri": "https://localhost:8080/"
        },
        "id": "KxB8RrF_XEWf",
        "outputId": "0a772909-c04b-415c-d8c2-8d977e278d37"
      },
      "outputs": [
        {
          "name": "stdout",
          "output_type": "stream",
          "text": [
            "     pcost       dcost       gap    pres   dres   k/t\n",
            " 0: -2.8205e+00 -2.2051e+01  2e+01  6e-01  5e+00  1e+00\n",
            " 1: -2.6828e+00 -4.5938e+00  2e+00  6e-02  5e-01  1e-01\n",
            " 2: -2.9982e+00 -3.0227e+00  2e-02  8e-04  7e-03  3e-03\n",
            " 3: -3.0000e+00 -3.0002e+00  2e-04  8e-06  7e-05  3e-05\n",
            " 4: -3.0000e+00 -3.0000e+00  2e-06  8e-08  7e-07  3e-07\n",
            " 5: -3.0000e+00 -3.0000e+00  2e-08  8e-10  7e-09  3e-09\n",
            "Optimal solution found.\n",
            "[[2.50097 ]\n",
            " [1.107017]\n",
            " [3.807784]\n",
            " [0.807784]]\n",
            "Maximum value is 3.0\n"
          ]
        }
      ],
      "source": [
        "A = np.array([[1, -1, 0, 0], [0, 0, 1, -1], [2, -2, 1, -1], [-1, 0, 0, 0], [0, -1, 0, 0], [0, 0, -1, 0], [0, 0, 0, -1]])\n",
        "b = np.array([[2], [3], [10], [0], [0], [0], [0]])\n",
        "c = np.array([[0], [0], [-1], [1]])\n",
        "soln = solvers.lp(matrix(c,tc='d'),matrix(A,tc='d'),matrix(b,tc='d'))\n",
        "a2 = np.round(-soln['primal objective'], decimals=5)\n",
        "print(np.round_(soln['x'],decimals=6))\n",
        "print(\"Maximum value is\", a2)"
      ]
    },
    {
      "cell_type": "markdown",
      "metadata": {
        "id": "JP-ommZcXPA5"
      },
      "source": [
        "duality gap"
      ]
    },
    {
      "cell_type": "code",
      "execution_count": 48,
      "metadata": {
        "colab": {
          "base_uri": "https://localhost:8080/"
        },
        "id": "6NKnCHgWXMIR",
        "outputId": "f273b8a3-6110-43a1-cf16-e79c1a377ada"
      },
      "outputs": [
        {
          "name": "stdout",
          "output_type": "stream",
          "text": [
            "0.0\n"
          ]
        }
      ],
      "source": [
        "duality_gap = np.round((a1 - a2), decimals = 6)\n",
        "print(duality_gap)"
      ]
    },
    {
      "cell_type": "markdown",
      "metadata": {
        "id": "TXkzncBCXWh6"
      },
      "source": [
        "## Question-9"
      ]
    },
    {
      "cell_type": "markdown",
      "metadata": {
        "id": "FeR36F2BXaUq"
      },
      "source": [
        "considering x2 = x3 - x4 s.t x3>=0, x4>=0\n",
        "\n",
        "min 3*x1 − 4*x3 + 4*x4"
      ]
    },
    {
      "cell_type": "code",
      "execution_count": 49,
      "metadata": {
        "colab": {
          "base_uri": "https://localhost:8080/"
        },
        "id": "OmxW35_HXRkk",
        "outputId": "d829e6d3-e895-4213-ba7d-794932938df1"
      },
      "outputs": [
        {
          "name": "stdout",
          "output_type": "stream",
          "text": [
            "     pcost       dcost       gap    pres   dres   k/t\n",
            " 0:  2.2229e+01 -2.8329e+01  4e+01  1e-01  3e+00  1e+00\n",
            " 1:  1.8978e+01  5.8559e+00  1e+01  4e-02  7e-01  5e-01\n",
            " 2:  5.8896e+00  2.4793e+00  6e+00  1e-02  2e-01  6e-01\n",
            " 3:  5.0172e+00  4.9655e+00  9e-02  2e-04  3e-03  8e-03\n",
            " 4:  5.0002e+00  4.9997e+00  9e-04  2e-06  3e-05  8e-05\n",
            " 5:  5.0000e+00  5.0000e+00  9e-06  2e-08  3e-07  8e-07\n",
            " 6:  5.0000e+00  5.0000e+00  9e-08  2e-10  3e-09  8e-09\n",
            "Optimal solution found.\n",
            "[[-0.      ]\n",
            " [ 3.057647]\n",
            " [ 4.307647]]\n",
            "Minimum value is 5.0\n"
          ]
        }
      ],
      "source": [
        "A = np.array([[1, 3, -3], [2, -1, 1], [-1, 4, -4], [-1, 0, 0], [0, -1, 0], [0, 0, -1]])\n",
        "b = np.array([[12], [20], [-5], [0], [0], [0]])\n",
        "c = np.array([[3], [-4], [4]])\n",
        "soln = solvers.lp(matrix(c,tc='d'),matrix(A,tc='d'),matrix(b,tc='d'))\n",
        "a1 = np.round(soln['primal objective'], decimals=5)\n",
        "print(np.round_(soln['x'],decimals=6))\n",
        "print(\"Minimum value is\",a1)"
      ]
    },
    {
      "cell_type": "markdown",
      "metadata": {
        "id": "piKScJXDXkr1"
      },
      "source": [
        "dual of the problem\n",
        "\n",
        "max -12*y1 - 20*y2 + 5*y3"
      ]
    },
    {
      "cell_type": "code",
      "execution_count": 51,
      "metadata": {
        "colab": {
          "base_uri": "https://localhost:8080/"
        },
        "id": "7Kg-D6axXg0G",
        "outputId": "bdfbb0d7-b0a4-4bfd-fc56-41ba05c0854f"
      },
      "outputs": [
        {
          "name": "stdout",
          "output_type": "stream",
          "text": [
            "     pcost       dcost       gap    pres   dres   k/t\n",
            " 0: -2.2229e+01 -2.6445e+01  4e+01  7e-01  2e-01  1e+00\n",
            " 1: -1.9235e+01 -2.0094e+01  1e+01  2e-01  6e-02  5e-01\n",
            " 2: -6.4514e+00 -6.2208e+00  6e+00  6e-02  2e-02  6e-01\n",
            " 3: -5.0242e+00 -5.0221e+00  9e-02  8e-04  2e-04  8e-03\n",
            " 4: -5.0002e+00 -5.0002e+00  9e-04  8e-06  2e-06  8e-05\n",
            " 5: -5.0000e+00 -5.0000e+00  9e-06  8e-08  2e-08  8e-07\n",
            " 6: -5.0000e+00 -5.0000e+00  9e-08  8e-10  2e-10  8e-09\n",
            "Optimal solution found.\n",
            "[[-0.]\n",
            " [-0.]\n",
            " [ 1.]]\n",
            "Maximum value is 5.0\n"
          ]
        }
      ],
      "source": [
        "A = np.array([[-1, -2, 1], [-3, 1, -4], [3, -1, 4], [-1, 0, 0], [0, -1, 0], [0, 0, -1]])\n",
        "b = np.array([[3], [-4], [4], [0], [0], [0]])\n",
        "c = np.array([[12], [20], [-5]])\n",
        "soln = solvers.lp(matrix(c,tc='d'),matrix(A,tc='d'),matrix(b,tc='d'))\n",
        "a2 = np.round(-soln['primal objective'], decimals=5)\n",
        "print(np.round_(soln['x'],decimals=6))\n",
        "print(\"Maximum value is\", a2)"
      ]
    },
    {
      "cell_type": "markdown",
      "metadata": {
        "id": "I31Y2mFmXsER"
      },
      "source": [
        "duality gap"
      ]
    },
    {
      "cell_type": "code",
      "execution_count": 52,
      "metadata": {
        "colab": {
          "base_uri": "https://localhost:8080/"
        },
        "id": "DbnjMBezXorc",
        "outputId": "d8b94606-391c-443d-d703-c6778d891d8f"
      },
      "outputs": [
        {
          "name": "stdout",
          "output_type": "stream",
          "text": [
            "0.0\n"
          ]
        }
      ],
      "source": [
        "duality_gap = np.round((a1 - a2), decimals = 6)\n",
        "print(duality_gap)"
      ]
    },
    {
      "cell_type": "markdown",
      "metadata": {
        "id": "bQM2PVszXzHs"
      },
      "source": [
        "## Question-10"
      ]
    },
    {
      "cell_type": "markdown",
      "metadata": {
        "id": "saZu10aLX2M1"
      },
      "source": [
        "max 14x1 + 17x2"
      ]
    },
    {
      "cell_type": "code",
      "execution_count": 53,
      "metadata": {
        "colab": {
          "base_uri": "https://localhost:8080/"
        },
        "id": "VXp_fzpIXxHE",
        "outputId": "1d66fc3c-492d-464a-cf88-2bc609de6906"
      },
      "outputs": [
        {
          "name": "stdout",
          "output_type": "stream",
          "text": [
            "     pcost       dcost       gap    pres   dres   k/t\n",
            " 0: -2.7732e+01 -1.9659e+01  2e+01  0e+00  1e+00  1e+00\n",
            " 1: -7.5642e+01 -5.9363e+01  1e+02  5e-16  2e+00  5e+00\n",
            " 2: -7.8140e+01 -7.6849e+01  9e+00  3e-16  1e-01  5e-01\n",
            " 3: -8.4785e+01 -8.4367e+01  3e+00  8e-16  4e-02  2e-01\n",
            " 4: -8.4859e+01 -8.4794e+01  3e-01  3e-16  4e-03  4e-02\n",
            " 5: -8.4999e+01 -8.4998e+01  3e-03  5e-16  4e-05  4e-04\n",
            " 6: -8.5000e+01 -8.5000e+01  3e-05  3e-16  4e-07  4e-06\n",
            " 7: -8.5000e+01 -8.5000e+01  3e-07  1e-16  4e-09  4e-08\n",
            "Optimal solution found.\n",
            "[[0.]\n",
            " [5.]]\n",
            "Maximum value is 85.0\n"
          ]
        }
      ],
      "source": [
        "A = np.array([[-3, -1], [-1, -4], [1, 1], [-1, 0], [0, -1]])\n",
        "b = np.array([[-3], [-4], [5], [0], [0]])\n",
        "c = np.array([[-14], [-17]])\n",
        "soln = solvers.lp(matrix(c,tc='d'),matrix(A,tc='d'),matrix(b,tc='d'))\n",
        "a1 = np.round(-soln['primal objective'], decimals=5)\n",
        "print(np.round_(soln['x'],decimals=6))\n",
        "print(\"Maximum value is\",a1)"
      ]
    },
    {
      "cell_type": "markdown",
      "metadata": {
        "id": "mkCINORBYCTH"
      },
      "source": [
        "dual of the problem\n",
        "\n",
        "min -3*y1 - 4*y2 + 5*y3"
      ]
    },
    {
      "cell_type": "code",
      "execution_count": 54,
      "metadata": {
        "colab": {
          "base_uri": "https://localhost:8080/"
        },
        "id": "-rPo8ekZX_XB",
        "outputId": "3b5ac39f-da07-4311-ee7e-8837e6ddd200"
      },
      "outputs": [
        {
          "name": "stdout",
          "output_type": "stream",
          "text": [
            "     pcost       dcost       gap    pres   dres   k/t\n",
            " 0:  2.7732e+01  2.7732e+01  2e+01  4e-01  3e-16  1e+00\n",
            " 1:  7.1794e+01  7.5642e+01  1e+02  6e-01  1e-15  5e+00\n",
            " 2:  7.7776e+01  7.8140e+01  9e+00  5e-02  6e-16  5e-01\n",
            " 3:  8.4614e+01  8.4785e+01  3e+00  1e-02  2e-15  2e-01\n",
            " 4:  8.4821e+01  8.4859e+01  3e-01  1e-03  3e-15  4e-02\n",
            " 5:  8.4998e+01  8.4999e+01  3e-03  1e-05  1e-15  4e-04\n",
            " 6:  8.5000e+01  8.5000e+01  3e-05  1e-07  1e-15  4e-06\n",
            " 7:  8.5000e+01  8.5000e+01  3e-07  1e-09  3e-15  4e-08\n",
            "Optimal solution found.\n",
            "[[-0.]\n",
            " [-0.]\n",
            " [17.]]\n",
            "Minimum value is 85.0\n"
          ]
        }
      ],
      "source": [
        "A = np.array([[3, 1, -1], [1, 4, -1], [-1, 0, 0], [0, -1, 0], [0, 0, -1]])\n",
        "b = np.array([[-14], [-17], [0], [0], [0]])\n",
        "c = np.array([[-3], [-4], [5]])\n",
        "soln = solvers.lp(matrix(c,tc='d'),matrix(A,tc='d'),matrix(b,tc='d'))\n",
        "a2 = np.round(soln['primal objective'], decimals=5)\n",
        "print(np.round_(soln['x'],decimals=6))\n",
        "print(\"Minimum value is\", a2)"
      ]
    },
    {
      "cell_type": "markdown",
      "metadata": {
        "id": "0tyl1aZ8YKer"
      },
      "source": [
        "duality gap"
      ]
    },
    {
      "cell_type": "code",
      "execution_count": 55,
      "metadata": {
        "colab": {
          "base_uri": "https://localhost:8080/"
        },
        "id": "USXzJ2lHYJP5",
        "outputId": "34cbf19b-4526-4356-85e0-a66ca31d3260"
      },
      "outputs": [
        {
          "name": "stdout",
          "output_type": "stream",
          "text": [
            "0.0\n"
          ]
        }
      ],
      "source": [
        "duality_gap = np.round((a1 - a2), decimals = 6)\n",
        "print(duality_gap)"
      ]
    },
    {
      "cell_type": "markdown",
      "metadata": {
        "id": "jqPk06AOYQVC"
      },
      "source": [
        "## Question-11"
      ]
    },
    {
      "cell_type": "markdown",
      "metadata": {
        "id": "M0DoO7tBYTxG"
      },
      "source": [
        "min 14x1 + 29x2"
      ]
    },
    {
      "cell_type": "code",
      "execution_count": 56,
      "metadata": {
        "colab": {
          "base_uri": "https://localhost:8080/"
        },
        "id": "62s0yDSeYPfD",
        "outputId": "0fbd39fe-9fb7-4382-e783-d7e7e9d17572"
      },
      "outputs": [
        {
          "name": "stdout",
          "output_type": "stream",
          "text": [
            "     pcost       dcost       gap    pres   dres   k/t\n",
            " 0:  1.1150e+02  1.9529e+02  1e+02  7e-01  4e-01  1e+00\n",
            " 1:  1.6013e+02  6.1752e+02  5e+03  3e+00  2e+00  4e+01\n",
            " 2:  6.2859e+03  3.0388e+04  2e+07  1e+02  8e+01  7e+03\n",
            " 3:  7.9914e+01  6.2671e+02  2e+03  1e+00  6e-01  4e+02\n",
            " 4:  8.7620e+01  3.7872e+04  2e+05  1e+00  7e-01  4e+04\n",
            " 5:  8.7631e+01  3.7655e+06  2e+07  1e+00  7e-01  4e+06\n",
            " 6:  8.7631e+01  3.7652e+08  2e+09  1e+00  7e-01  4e+08\n",
            "Certificate of primal infeasibility found.\n"
          ]
        }
      ],
      "source": [
        "A = np.array([[2, 1], [-3, -4], [-2, 3], [-1, 0], [0, -1]])\n",
        "b = np.array([[4], [-24], [-6], [0], [0]])\n",
        "c = np.array([[14], [29]])\n",
        "soln = solvers.lp(matrix(c,tc='d'),matrix(A,tc='d'),matrix(b,tc='d'))"
      ]
    },
    {
      "cell_type": "markdown",
      "metadata": {
        "id": "HE0Dkd1dYdH9"
      },
      "source": [
        "dual of the problem\n",
        "\n",
        "max -4*y1 + 24*y2 + 6*y3"
      ]
    },
    {
      "cell_type": "code",
      "execution_count": 57,
      "metadata": {
        "colab": {
          "base_uri": "https://localhost:8080/"
        },
        "id": "_6cewFTNYadf",
        "outputId": "d332fd3e-218a-4624-ace6-999edcedc16e"
      },
      "outputs": [
        {
          "name": "stdout",
          "output_type": "stream",
          "text": [
            "     pcost       dcost       gap    pres   dres   k/t\n",
            " 0: -1.1150e+02 -4.3043e+02  1e+02  2e-01  2e+00  1e+00\n",
            " 1: -1.9754e+02 -1.7587e+03  5e+03  1e+00  1e+01  4e+01\n",
            " 2: -1.3140e+04 -7.1937e+04  2e+07  5e+01  5e+02  7e+03\n",
            " 3: -5.0571e+02 -5.4047e+02  2e+03  3e-01  3e+00  4e+02\n",
            " 4: -3.7739e+04 -5.9300e+02  2e+05  4e-01  4e+00  4e+04\n",
            " 5: -3.7653e+06 -5.9309e+02  2e+07  4e-01  4e+00  4e+06\n",
            " 6: -3.7652e+08 -5.9309e+02  2e+09  4e-01  4e+00  4e+08\n",
            "Certificate of dual infeasibility found.\n"
          ]
        }
      ],
      "source": [
        "A = np.array([[-2, 3, 2], [-1, 4, -3], [-1, 0, 0], [0, -1, 0], [0, 0, -1]])\n",
        "b = np.array([[14], [29], [0], [0], [0]])\n",
        "c = np.array([[4], [-24], [-6]])\n",
        "soln = solvers.lp(matrix(c,tc='d'),matrix(A,tc='d'),matrix(b,tc='d'))"
      ]
    },
    {
      "cell_type": "markdown",
      "metadata": {
        "id": "xgQy8MmEYjX-"
      },
      "source": [
        "## Question-12"
      ]
    },
    {
      "cell_type": "markdown",
      "metadata": {
        "id": "xGJHx2OXYmrE"
      },
      "source": [
        "min 18x1 + x2"
      ]
    },
    {
      "cell_type": "code",
      "execution_count": 58,
      "metadata": {
        "colab": {
          "base_uri": "https://localhost:8080/"
        },
        "id": "ibVj18tnYh1P",
        "outputId": "f51edb68-c391-4c46-e97c-deb0e4ab965e"
      },
      "outputs": [
        {
          "name": "stdout",
          "output_type": "stream",
          "text": [
            "     pcost       dcost       gap    pres   dres   k/t\n",
            " 0:  1.2614e+01  2.3318e+01  3e+01  4e-01  9e-01  1e+00\n",
            " 1:  1.0726e+01  1.1724e+01  1e+00  3e-02  7e-02  3e-01\n",
            " 2:  1.1393e+01  1.1405e+01  2e-02  3e-04  8e-04  4e-03\n",
            " 3:  1.1400e+01  1.1400e+01  2e-04  3e-06  8e-06  4e-05\n",
            " 4:  1.1400e+01  1.1400e+01  2e-06  3e-08  8e-08  4e-07\n",
            "Optimal solution found.\n",
            "[[0.6]\n",
            " [1.2]]\n",
            "Minimum value is 11.4\n"
          ]
        }
      ],
      "source": [
        "A = np.array([[1, 2], [-4, -3], [3, 1], [-3, -1], [-1, 0], [0, -1]])\n",
        "b = np.array([[3], [-6], [3], [-3], [0], [0]])\n",
        "c = np.array([[17], [1]])\n",
        "soln = solvers.lp(matrix(c,tc='d'),matrix(A,tc='d'),matrix(b,tc='d'))\n",
        "a1 = np.round(soln['primal objective'], decimals=5)\n",
        "print(np.round_(soln['x'],decimals=6))\n",
        "print(\"Minimum value is\",a1)"
      ]
    },
    {
      "cell_type": "markdown",
      "metadata": {
        "id": "QukU9Fw6Yw55"
      },
      "source": [
        "dual of the problem\n",
        "\n",
        "max -3*y1 + 6*y2 + 3*y3 - 3*y4"
      ]
    },
    {
      "cell_type": "code",
      "execution_count": 59,
      "metadata": {
        "colab": {
          "base_uri": "https://localhost:8080/"
        },
        "id": "j4RA0LtaYttn",
        "outputId": "ebc01bc2-c567-496e-b3bf-df69b3926631"
      },
      "outputs": [
        {
          "name": "stdout",
          "output_type": "stream",
          "text": [
            "     pcost       dcost       gap    pres   dres   k/t\n",
            " 0: -1.2614e+01 -3.4295e+01  3e+01  5e-01  1e+00  1e+00\n",
            " 1: -1.0943e+01 -1.2309e+01  1e+00  4e-02  1e-01  3e-01\n",
            " 2: -1.1396e+01 -1.1412e+01  2e-02  5e-04  1e-03  4e-03\n",
            " 3: -1.1400e+01 -1.1400e+01  2e-04  5e-06  1e-05  4e-05\n",
            " 4: -1.1400e+01 -1.1400e+01  2e-06  5e-08  1e-07  4e-07\n",
            " 5: -1.1400e+01 -1.1400e+01  2e-08  5e-10  1e-09  4e-09\n",
            "Optimal solution found.\n",
            "[[4.990061]\n",
            " [2.190061]\n",
            " [5.007773]\n",
            " [0.597834]]\n",
            "Maximum value is 11.4\n"
          ]
        }
      ],
      "source": [
        "A = np.array([[-1, 4, 3, -3], [-2, 3, 1, -1], [-1, 0, 0, 0], [0, -1, 0, 0], [0, 0, -1, 0], [0, 0, 0, -1]])\n",
        "b = np.array([[17], [1], [0], [0], [0], [0]])\n",
        "c = np.array([[3], [-6], [-3], [3]])\n",
        "soln = solvers.lp(matrix(c,tc='d'),matrix(A,tc='d'),matrix(b,tc='d'))\n",
        "a2 = np.round(-soln['primal objective'], decimals=5)\n",
        "print(np.round_(soln['x'],decimals=6))\n",
        "print(\"Maximum value is\", a2)"
      ]
    },
    {
      "cell_type": "markdown",
      "metadata": {
        "id": "xZQIKz2AY4bu"
      },
      "source": [
        "duality gap"
      ]
    },
    {
      "cell_type": "code",
      "execution_count": 60,
      "metadata": {
        "colab": {
          "base_uri": "https://localhost:8080/"
        },
        "id": "4wTaHfqgY3T6",
        "outputId": "51abad5a-1ee8-4fb1-a196-4a40407a747d"
      },
      "outputs": [
        {
          "name": "stdout",
          "output_type": "stream",
          "text": [
            "0.0\n"
          ]
        }
      ],
      "source": [
        "duality_gap = np.round((a1 - a2), decimals = 6)\n",
        "print(duality_gap)"
      ]
    },
    {
      "cell_type": "markdown",
      "metadata": {
        "id": "Q14rRdY7ZMT5"
      },
      "source": [
        "## Question-13"
      ]
    },
    {
      "cell_type": "markdown",
      "metadata": {
        "id": "7haIWjX6ZPl7"
      },
      "source": [
        "min -3x1 + x2"
      ]
    },
    {
      "cell_type": "code",
      "execution_count": 61,
      "metadata": {
        "colab": {
          "base_uri": "https://localhost:8080/"
        },
        "id": "UoBcJdmrZKkQ",
        "outputId": "4ae88dfb-6b72-46b2-d77e-59479d1e21ea"
      },
      "outputs": [
        {
          "name": "stdout",
          "output_type": "stream",
          "text": [
            "     pcost       dcost       gap    pres   dres   k/t\n",
            " 0: -9.6842e+00 -9.6842e+00  2e+01  5e-01  7e-01  1e+00\n",
            " 1: -8.2442e+00 -5.7319e+00  7e+01  3e-01  5e-01  3e+00\n",
            " 2: -8.7914e+00  2.9900e+02  8e+03  4e-01  6e-01  3e+02\n",
            " 3: -8.7914e+00  3.0839e+04  8e+05  4e-01  6e-01  3e+04\n",
            " 4: -8.7914e+00  3.0848e+06  8e+07  4e-01  6e-01  3e+06\n",
            " 5: -8.7914e+00  3.0849e+08  8e+09  4e-01  6e-01  3e+08\n",
            "Certificate of primal infeasibility found.\n"
          ]
        }
      ],
      "source": [
        "A = np.array([[1, 2], [-1, -2], [2, -2], [-2, 2], [-1, 0], [0, -1]])\n",
        "b = np.array([[0], [0], [9], [-9], [0], [0]])\n",
        "c = np.array([[-3], [1]])\n",
        "soln = solvers.lp(matrix(c,tc='d'),matrix(A,tc='d'),matrix(b,tc='d'))"
      ]
    },
    {
      "cell_type": "markdown",
      "metadata": {
        "id": "S3OBTomrZVJ-"
      },
      "source": [
        "dual of the problem\n",
        "\n",
        "max 9*y3 - 9*y4"
      ]
    },
    {
      "cell_type": "code",
      "execution_count": 62,
      "metadata": {
        "colab": {
          "base_uri": "https://localhost:8080/"
        },
        "id": "AtUFngzeZTJa",
        "outputId": "af4c2854-3585-45c1-e076-ba28315db934"
      },
      "outputs": [
        {
          "name": "stdout",
          "output_type": "stream",
          "text": [
            "     pcost       dcost       gap    pres   dres   k/t\n",
            " 0:  9.6842e+00  1.4632e+01  2e+01  1e+00  9e-01  1e+00\n",
            " 1:  5.7319e+00  1.1829e+01  7e+01  9e-01  7e-01  3e+00\n",
            " 2: -2.9900e+02  1.2824e+01  8e+03  1e+00  7e-01  3e+02\n",
            " 3: -3.0839e+04  1.2824e+01  8e+05  1e+00  7e-01  3e+04\n",
            " 4: -3.0848e+06  1.2824e+01  8e+07  1e+00  7e-01  3e+06\n",
            " 5: -3.0849e+08  1.2824e+01  8e+09  1e+00  7e-01  3e+08\n",
            "Certificate of dual infeasibility found.\n"
          ]
        }
      ],
      "source": [
        "A = np.array([[1, -1, 2, -2], [2, -2, -2, 2], [-1, 0, 0, 0], [0, -1, 0, 0], [0, 0, -1, 0], [0, 0, 0, -1]])\n",
        "b = np.array([[-3], [1], [0], [0], [0], [0]])\n",
        "c = np.array([[0], [0], [-9], [9]])\n",
        "soln = solvers.lp(matrix(c,tc='d'),matrix(A,tc='d'),matrix(b,tc='d'))"
      ]
    },
    {
      "cell_type": "code",
      "execution_count": null,
      "metadata": {
        "id": "CVZaHyn6ZZzL"
      },
      "outputs": [],
      "source": []
    }
  ],
  "metadata": {
    "colab": {
      "provenance": []
    },
    "kernelspec": {
      "display_name": "Python 3",
      "name": "python3"
    },
    "language_info": {
      "codemirror_mode": {
        "name": "ipython",
        "version": 3
      },
      "file_extension": ".py",
      "mimetype": "text/x-python",
      "name": "python",
      "nbconvert_exporter": "python",
      "pygments_lexer": "ipython3",
      "version": "3.10.11"
    }
  },
  "nbformat": 4,
  "nbformat_minor": 0
}
