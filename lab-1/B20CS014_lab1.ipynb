{
  "nbformat": 4,
  "nbformat_minor": 0,
  "metadata": {
    "colab": {
      "provenance": []
    },
    "kernelspec": {
      "name": "python3",
      "display_name": "Python 3"
    },
    "language_info": {
      "name": "python"
    }
  },
  "cells": [
    {
      "cell_type": "markdown",
      "source": [
        "Mruganshi Gohel\n",
        "\n",
        "B20CS014\n"
      ],
      "metadata": {
        "id": "z0H103iKLQs-"
      }
    },
    {
      "cell_type": "markdown",
      "source": [
        "# Question-1"
      ],
      "metadata": {
        "id": "bduS4W_X4bVj"
      }
    },
    {
      "cell_type": "code",
      "execution_count": 85,
      "metadata": {
        "colab": {
          "base_uri": "https://localhost:8080/"
        },
        "id": "_b8JB_Lc155j",
        "outputId": "8c802219-15bc-4634-a42d-652cdde7397e"
      },
      "outputs": [
        {
          "output_type": "stream",
          "name": "stdout",
          "text": [
            "     pcost       dcost       gap    pres   dres   k/t\n",
            " 0:  2.2185e+01 -2.8382e+01  3e+01  0e+00  2e+00  1e+00\n",
            " 1:  2.0901e+01  4.4309e+00  9e+00  2e-16  8e-01  5e-01\n",
            " 2:  6.1212e+00 -7.7246e+00  2e+01  1e-16  7e-01  2e+00\n",
            " 3:  5.0907e+00  4.8268e+00  3e-01  3e-16  1e-02  2e-02\n",
            " 4:  5.0009e+00  4.9983e+00  3e-03  2e-16  1e-04  2e-04\n",
            " 5:  5.0000e+00  5.0000e+00  3e-05  2e-16  1e-06  2e-06\n",
            " 6:  5.0000e+00  5.0000e+00  3e-07  3e-16  1e-08  2e-08\n",
            "Optimal solution found.\n",
            "[[ 0.  ]\n",
            " [-1.25]] 5.000000090615192\n"
          ]
        }
      ],
      "source": [
        "import numpy as pn\n",
        "from cvxopt import matrix, solvers\n",
        "c,b=pn.array([[3],[-4]]),pn.array([[12],[20],[-5],[-0]])\n",
        "A=pn.array([[1,3],[2,-1],[-1,4],[-1,0]])\n",
        "soln=solvers.lp(matrix(c,tc='d'),matrix(A,tc='d'),matrix(b,tc='d'))\n",
        "print(pn.round_(soln['x'],decimals=5),soln['primal objective'])"
      ]
    },
    {
      "cell_type": "markdown",
      "source": [
        "# Question-2"
      ],
      "metadata": {
        "id": "YCx4Fhwc5YSu"
      }
    },
    {
      "cell_type": "markdown",
      "source": [
        "A"
      ],
      "metadata": {
        "id": "g6TUTds15cTw"
      }
    },
    {
      "cell_type": "code",
      "source": [
        "import numpy as pn\n",
        "from cvxopt import matrix, solvers\n",
        "c,b=pn.array([[-225],[-200]]),pn.array([[-40],[-25],[150],[0],[0]])\n",
        "A=pn.array([[-1,0],[0,-1],[1,1],[-1,0],[0,-1]])\n",
        "soln=solvers.lp(matrix(c,tc='d'),matrix(A,tc='d'),matrix(b,tc='d'))\n",
        "print(pn.round_(soln['x'],decimals=5),soln['primal objective'])"
      ],
      "metadata": {
        "colab": {
          "base_uri": "https://localhost:8080/"
        },
        "id": "WWbTguZV2MYH",
        "outputId": "f1219680-67e5-4baa-98a8-3ca7866f92f2"
      },
      "execution_count": 86,
      "outputs": [
        {
          "output_type": "stream",
          "name": "stdout",
          "text": [
            "     pcost       dcost       gap    pres   dres   k/t\n",
            " 0: -1.9484e+04 -2.4616e+04  1e+04  0e+00  3e-01  1e+00\n",
            " 1: -2.3554e+04 -2.8343e+04  1e+04  4e-16  3e-01  3e+02\n",
            " 2: -3.2948e+04 -3.3421e+04  2e+03  2e-16  3e-02  1e+02\n",
            " 3: -3.3118e+04 -3.3126e+04  2e+01  2e-16  5e-04  2e+00\n",
            " 4: -3.3125e+04 -3.3125e+04  2e-01  2e-16  5e-06  2e-02\n",
            " 5: -3.3125e+04 -3.3125e+04  2e-03  2e-16  5e-08  2e-04\n",
            "Optimal solution found.\n",
            "[[124.99998]\n",
            " [ 25.00002]] -33124.99933066894\n"
          ]
        }
      ]
    },
    {
      "cell_type": "markdown",
      "source": [
        "B"
      ],
      "metadata": {
        "id": "LA8eeYRk6haJ"
      }
    },
    {
      "cell_type": "code",
      "source": [
        "import numpy as pn\n",
        "from cvxopt import matrix, solvers\n",
        "c,b=pn.array([[30],[20]]),pn.array([[-10],[-12],[-12],[-0],[-0]])\n",
        "A=pn.array([[-5,-1],[-2,-2],[-1,-4],[-1,0],[0,-1]])\n",
        "soln=solvers.lp(matrix(c,tc='d'),matrix(A,tc='d'),matrix(b,tc='d'))\n",
        "print(pn.round_(soln['x'],decimals=5),soln['primal objective'])"
      ],
      "metadata": {
        "colab": {
          "base_uri": "https://localhost:8080/"
        },
        "id": "-a2fIzKA56EW",
        "outputId": "fcfa789c-d3d4-446f-f36a-9a7112e15338"
      },
      "execution_count": 87,
      "outputs": [
        {
          "output_type": "stream",
          "name": "stdout",
          "text": [
            "     pcost       dcost       gap    pres   dres   k/t\n",
            " 0:  1.0382e+02  1.0382e+02  4e+01  5e-01  2e-16  1e+00\n",
            " 1:  1.2586e+02  1.2701e+02  3e+01  3e-01  2e-16  2e+00\n",
            " 2:  1.2937e+02  1.2942e+02  1e+00  1e-02  4e-16  6e-02\n",
            " 3:  1.2999e+02  1.2999e+02  1e-02  1e-04  2e-16  7e-04\n",
            " 4:  1.3000e+02  1.3000e+02  1e-04  1e-06  7e-16  7e-06\n",
            " 5:  1.3000e+02  1.3000e+02  1e-06  1e-08  1e-15  7e-08\n",
            "Optimal solution found.\n",
            "[[1.]\n",
            " [5.]] 129.99999933154345\n"
          ]
        }
      ]
    },
    {
      "cell_type": "markdown",
      "source": [
        "C"
      ],
      "metadata": {
        "id": "XhdM5ZTH9tVi"
      }
    },
    {
      "cell_type": "code",
      "source": [
        "import numpy as pn\n",
        "from cvxopt import matrix, solvers\n",
        "c,b=pn.array([[-30],[-20],[-40],[-25],[-10]]),pn.array([[700],[1000],[-0],[-0],[-0],[-0],[-0]])\n",
        "A=pn.array([[2,1,3,3,1],[3,2,2,1,1],[-1,0,0,0,0],[0,-1,0,0,0],[0,0,-1,0,0],[0,0,0,-1,0],[0,0,0,0,-1]])\n",
        "soln=solvers.lp(matrix(c,tc='d'),matrix(A,tc='d'),matrix(b,tc='d'))\n",
        "print(pn.round_(soln['x'],decimals=5),soln['primal objective'])"
      ],
      "metadata": {
        "colab": {
          "base_uri": "https://localhost:8080/"
        },
        "id": "psPyem8j9PlE",
        "outputId": "2d1ec80a-072e-4768-9223-e4f4e5665dd8"
      },
      "execution_count": 88,
      "outputs": [
        {
          "output_type": "stream",
          "name": "stdout",
          "text": [
            "     pcost       dcost       gap    pres   dres   k/t\n",
            " 0: -1.0784e+04 -2.3882e+04  5e+03  5e-02  9e-01  1e+00\n",
            " 1: -1.1108e+04 -1.4405e+04  1e+03  1e-02  2e-01  1e+01\n",
            " 2: -1.1967e+04 -1.2269e+04  1e+02  1e-03  2e-02  1e+01\n",
            " 3: -1.2000e+04 -1.2003e+04  1e+00  1e-05  2e-04  1e-01\n",
            " 4: -1.2000e+04 -1.2000e+04  1e-02  1e-07  2e-06  1e-03\n",
            " 5: -1.2000e+04 -1.2000e+04  1e-04  1e-09  2e-08  1e-05\n",
            "Optimal solution found.\n",
            "[[  0.]\n",
            " [400.]\n",
            " [100.]\n",
            " [  0.]\n",
            " [  0.]] -11999.999965334759\n"
          ]
        }
      ]
    },
    {
      "cell_type": "markdown",
      "source": [
        "# Question 3"
      ],
      "metadata": {
        "id": "y2c9Ksb9_VUB"
      }
    },
    {
      "cell_type": "code",
      "source": [
        "import numpy as pn\n",
        "from cvxopt import matrix, solvers\n",
        "R = 14\n",
        "c,b=pn.array([[R + 3],[R + 41]]),pn.array([[12],[88],[-0],[-0]])\n",
        "A=pn.array([[3,-1],[7,11],[-1,0],[0,-1]])\n",
        "soln=solvers.lp(matrix(c,tc='d'),matrix(A,tc='d'),matrix(b,tc='d'))\n",
        "print(pn.round_(soln['x'],decimals=5),soln['primal objective'])"
      ],
      "metadata": {
        "colab": {
          "base_uri": "https://localhost:8080/"
        },
        "id": "aqdrWCFf_Jmc",
        "outputId": "16f67bc4-1c1b-4198-e586-c88a9ad1d9f3"
      },
      "execution_count": 89,
      "outputs": [
        {
          "output_type": "stream",
          "name": "stdout",
          "text": [
            "     pcost       dcost       gap    pres   dres   k/t\n",
            " 0:  3.4209e+02 -2.0732e+02  6e+01  0e+00  1e+00  1e+00\n",
            " 1:  5.1115e+01 -2.3905e+03  2e+03  1e-15  5e+00  4e+01\n",
            " 2:  2.4673e+01 -1.8843e+02  2e+02  2e-16  5e-01  5e+00\n",
            " 3:  1.4274e+00 -3.9645e+00  5e+00  2e-16  1e-02  8e-01\n",
            " 4:  1.4462e-02 -3.9947e-02  5e-02  2e-16  1e-04  8e-03\n",
            " 5:  1.4463e-04 -3.9949e-04  5e-04  4e-16  1e-06  8e-05\n",
            " 6:  1.4463e-06 -3.9949e-06  5e-06  2e-16  1e-08  8e-07\n",
            " 7:  1.4463e-08 -3.9949e-08  5e-08  4e-16  1e-10  8e-09\n",
            "Optimal solution found.\n",
            "[[0.]\n",
            " [0.]] 1.4462706998153529e-08\n"
          ]
        }
      ]
    },
    {
      "cell_type": "markdown",
      "source": [
        "# Question 4"
      ],
      "metadata": {
        "id": "pK994-8eBE-_"
      }
    },
    {
      "cell_type": "code",
      "source": [
        "import numpy as pn\n",
        "from cvxopt import matrix, solvers\n",
        "R = 14\n",
        "c,b=pn.array([[R],[1 - R]]),pn.array([[1],[6],[-0],[-0]])\n",
        "A=pn.array([[3,-2],[3,-2],[-1,0],[0,-1]])\n",
        "soln=solvers.lp(matrix(c,tc='d'),matrix(A,tc='d'),matrix(b,tc='d'))\n",
        "print(pn.round_(soln['x'],decimals=5),soln['primal objective'])"
      ],
      "metadata": {
        "colab": {
          "base_uri": "https://localhost:8080/"
        },
        "id": "Ma3R3XmxA0Nt",
        "outputId": "9d67a702-8936-4240-cd59-dbaabde3b099"
      },
      "execution_count": 90,
      "outputs": [
        {
          "output_type": "stream",
          "name": "stdout",
          "text": [
            "     pcost       dcost       gap    pres   dres   k/t\n",
            " 0:  1.7630e+01 -9.8519e+00  2e+01  1e+00  1e+00  1e+00\n",
            " 1: -6.4135e+02 -1.1288e+03  6e+04  3e+01  3e+01  2e+02\n",
            " 2: -3.7899e+01 -2.7281e+00  5e+01  1e+00  1e+00  6e+01\n",
            " 3: -6.7454e+03 -3.4414e+01  2e+04  2e+00  3e+00  7e+03\n",
            " 4: -6.8033e+05 -3.4663e+01  2e+06  2e+00  3e+00  7e+05\n",
            " 5: -6.8040e+07 -3.4663e+01  2e+08  2e+00  3e+00  7e+07\n",
            "Certificate of dual infeasibility found.\n",
            "[[0.13952]\n",
            " [0.22718]] -1.0\n"
          ]
        }
      ]
    },
    {
      "cell_type": "markdown",
      "source": [
        "# Question 5"
      ],
      "metadata": {
        "id": "hfqtsDw_B0OI"
      }
    },
    {
      "cell_type": "code",
      "source": [
        "import numpy as pn\n",
        "from cvxopt import matrix, solvers\n",
        "c,b=pn.array([[-1],[-1],[-1]]),pn.array([[3],[2],[-0],[-0],[-0]])\n",
        "A=pn.array([[3,2,1],[2,1,2],[-1,0,0],[0,-1,0],[0,0,-1]])\n",
        "soln=solvers.lp(matrix(c,tc='d'),matrix(A,tc='d'),matrix(b,tc='d'))\n",
        "print(pn.round_(soln['x'],decimals=5),soln['primal objective'])"
      ],
      "metadata": {
        "colab": {
          "base_uri": "https://localhost:8080/"
        },
        "id": "ADmJRScoBZbj",
        "outputId": "aac2a964-47fe-453b-a21b-950708f2946e"
      },
      "execution_count": 91,
      "outputs": [
        {
          "output_type": "stream",
          "name": "stdout",
          "text": [
            "     pcost       dcost       gap    pres   dres   k/t\n",
            " 0: -1.2000e+00 -7.7000e+00  9e+00  6e-01  4e+00  1e+00\n",
            " 1: -1.4061e+00 -2.5268e+00  7e-01  1e-01  7e-01  2e-01\n",
            " 2: -1.6525e+00 -1.7345e+00  5e-02  7e-03  4e-02  3e-03\n",
            " 3: -1.6665e+00 -1.6674e+00  6e-04  8e-05  5e-04  4e-05\n",
            " 4: -1.6667e+00 -1.6667e+00  6e-06  8e-07  5e-06  4e-07\n",
            " 5: -1.6667e+00 -1.6667e+00  6e-08  8e-09  5e-08  4e-09\n",
            "Optimal solution found.\n",
            "[[0.     ]\n",
            " [1.33333]\n",
            " [0.33333]] -1.6666666490824422\n"
          ]
        }
      ]
    },
    {
      "cell_type": "markdown",
      "source": [
        "# Question 6"
      ],
      "metadata": {
        "id": "jKmB5GmjCOck"
      }
    },
    {
      "cell_type": "code",
      "source": [
        "import numpy as pn\n",
        "from cvxopt import matrix, solvers\n",
        "R = 14\n",
        "c,b=pn.array([[-R - 2],[-R - 3]]),pn.array([[1000],[600],[2000],[-0],[-0]])\n",
        "A=pn.array([[2,1],[1,1],[2,4],[-1,0],[0,-1]])\n",
        "soln=solvers.lp(matrix(c,tc='d'),matrix(A,tc='d'),matrix(b,tc='d'))\n",
        "print(pn.round_(soln['x'],decimals=5),soln['primal objective'])"
      ],
      "metadata": {
        "colab": {
          "base_uri": "https://localhost:8080/"
        },
        "id": "3t5nGwmsCK8x",
        "outputId": "39e456c1-65fb-455c-f61d-caf4d0494b4f"
      },
      "execution_count": 92,
      "outputs": [
        {
          "output_type": "stream",
          "name": "stdout",
          "text": [
            "     pcost       dcost       gap    pres   dres   k/t\n",
            " 0: -1.0357e+04 -2.0061e+04  3e+03  3e-02  7e-01  1e+00\n",
            " 1: -9.5663e+03 -1.6482e+04  2e+03  2e-02  5e-01  2e+02\n",
            " 2: -9.9583e+03 -1.0252e+04  8e+01  8e-04  2e-02  7e+00\n",
            " 3: -9.9995e+03 -1.0005e+04  1e+00  2e-05  5e-04  2e-01\n",
            " 4: -1.0000e+04 -1.0000e+04  1e-02  2e-07  5e-06  2e-03\n",
            " 5: -1.0000e+04 -1.0000e+04  1e-04  2e-09  5e-08  2e-05\n",
            "Optimal solution found.\n",
            "[[200.00003]\n",
            " [399.99997]] -9999.999952377566\n"
          ]
        }
      ]
    },
    {
      "cell_type": "markdown",
      "source": [
        "# Question 7"
      ],
      "metadata": {
        "id": "Mo4qLYtICvyb"
      }
    },
    {
      "cell_type": "code",
      "source": [
        "import numpy as pn\n",
        "from cvxopt import matrix, solvers\n",
        "c,b=pn.array([[2],[3],[10]]),pn.array([[0],[-0],[1],[-1],[-0],[-0],[-0]])\n",
        "A=pn.array([[1,0,2],[-1,0,-2],[0,1,1],[0,-1,-1],[-1,0,0],[0,-1,0],[0,0,-1]])\n",
        "soln=solvers.lp(matrix(c,tc='d'),matrix(A,tc='d'),matrix(b,tc='d'))\n",
        "print(pn.round_(soln['x'],decimals=5),soln['primal objective'])"
      ],
      "metadata": {
        "colab": {
          "base_uri": "https://localhost:8080/"
        },
        "id": "3vfLcuJ2CtTM",
        "outputId": "7a6c97e6-1e33-49af-81d4-31417b884e58"
      },
      "execution_count": 93,
      "outputs": [
        {
          "output_type": "stream",
          "name": "stdout",
          "text": [
            "     pcost       dcost       gap    pres   dres   k/t\n",
            " 0:  2.8205e+00  2.8205e+00  2e+01  2e+00  4e-01  1e+00\n",
            " 1:  2.6616e+00  2.6828e+00  2e+00  2e-01  4e-02  1e-01\n",
            " 2:  2.9966e+00  2.9982e+00  2e-02  3e-03  5e-04  3e-03\n",
            " 3:  3.0000e+00  3.0000e+00  2e-04  3e-05  5e-06  3e-05\n",
            " 4:  3.0000e+00  3.0000e+00  2e-06  3e-07  5e-08  3e-07\n",
            " 5:  3.0000e+00  3.0000e+00  2e-08  3e-09  5e-10  3e-09\n",
            "Optimal solution found.\n",
            "[[ 0.]\n",
            " [ 1.]\n",
            " [-0.]] 2.9999999966501303\n"
          ]
        }
      ]
    },
    {
      "cell_type": "markdown",
      "source": [
        "# Question 8"
      ],
      "metadata": {
        "id": "1Yuz9JQRDuKG"
      }
    },
    {
      "cell_type": "code",
      "source": [
        "import numpy as pn\n",
        "from cvxopt import matrix, solvers\n",
        "c,b=pn.array([[3],[-4],]),pn.array([[12],[20],[-5],[-0]])\n",
        "A=pn.array([[1,3],[2,-1],[-1,4],[-1,0]])\n",
        "soln=solvers.lp(matrix(c,tc='d'),matrix(A,tc='d'),matrix(b,tc='d'))\n",
        "print(pn.round_(soln['x'],decimals=5),soln['primal objective'])"
      ],
      "metadata": {
        "colab": {
          "base_uri": "https://localhost:8080/"
        },
        "id": "KSa7fsA6DCt3",
        "outputId": "6797ae39-773c-45c1-82ac-01ba3e3f487f"
      },
      "execution_count": 94,
      "outputs": [
        {
          "output_type": "stream",
          "name": "stdout",
          "text": [
            "     pcost       dcost       gap    pres   dres   k/t\n",
            " 0:  2.2185e+01 -2.8382e+01  3e+01  0e+00  2e+00  1e+00\n",
            " 1:  2.0901e+01  4.4309e+00  9e+00  2e-16  8e-01  5e-01\n",
            " 2:  6.1212e+00 -7.7246e+00  2e+01  1e-16  7e-01  2e+00\n",
            " 3:  5.0907e+00  4.8268e+00  3e-01  3e-16  1e-02  2e-02\n",
            " 4:  5.0009e+00  4.9983e+00  3e-03  2e-16  1e-04  2e-04\n",
            " 5:  5.0000e+00  5.0000e+00  3e-05  2e-16  1e-06  2e-06\n",
            " 6:  5.0000e+00  5.0000e+00  3e-07  3e-16  1e-08  2e-08\n",
            "Optimal solution found.\n",
            "[[ 0.  ]\n",
            " [-1.25]] 5.000000090615192\n"
          ]
        }
      ]
    },
    {
      "cell_type": "markdown",
      "source": [
        "# Question 9"
      ],
      "metadata": {
        "id": "uAoqp9lBDyaO"
      }
    },
    {
      "cell_type": "code",
      "source": [
        "import numpy as pn\n",
        "from cvxopt import matrix, solvers\n",
        "R=14\n",
        "c,b=pn.array([[-R],[-R-3]]),pn.array([[-3],[-4],[5],[-0],[-0]])\n",
        "A=pn.array([[-3,-1],[-1,-4],[1,1],[-1,0],[0,-1]])\n",
        "soln=solvers.lp(matrix(c,tc='d'),matrix(A,tc='d'),matrix(b,tc='d'))\n",
        "print(pn.round_(soln['x'],decimals=5),soln['primal objective'])"
      ],
      "metadata": {
        "colab": {
          "base_uri": "https://localhost:8080/"
        },
        "id": "iYljahonDskG",
        "outputId": "844fc24c-7066-43cc-b194-d903cb8490e7"
      },
      "execution_count": 95,
      "outputs": [
        {
          "output_type": "stream",
          "name": "stdout",
          "text": [
            "     pcost       dcost       gap    pres   dres   k/t\n",
            " 0: -2.7732e+01 -1.9659e+01  2e+01  0e+00  1e+00  1e+00\n",
            " 1: -7.5642e+01 -5.9363e+01  1e+02  5e-16  2e+00  5e+00\n",
            " 2: -7.8140e+01 -7.6849e+01  9e+00  3e-16  1e-01  5e-01\n",
            " 3: -8.4785e+01 -8.4367e+01  3e+00  8e-16  4e-02  2e-01\n",
            " 4: -8.4859e+01 -8.4794e+01  3e-01  3e-16  4e-03  4e-02\n",
            " 5: -8.4999e+01 -8.4998e+01  3e-03  5e-16  4e-05  4e-04\n",
            " 6: -8.5000e+01 -8.5000e+01  3e-05  3e-16  4e-07  4e-06\n",
            " 7: -8.5000e+01 -8.5000e+01  3e-07  1e-16  4e-09  4e-08\n",
            "Optimal solution found.\n",
            "[[0.]\n",
            " [5.]] -84.99999985842447\n"
          ]
        }
      ]
    },
    {
      "cell_type": "markdown",
      "source": [
        "# Question 10"
      ],
      "metadata": {
        "id": "L9YyN_n-EM17"
      }
    },
    {
      "cell_type": "code",
      "source": [
        "import numpy as pn\n",
        "from cvxopt import matrix, solvers\n",
        "R=14\n",
        "c,b=pn.array([[R],[2*R + 1]]),pn.array([[4],[-24],[-6],[-0],[-0]])\n",
        "A=pn.array([[2,1],[-3,-4],[-2,3],[-1,0],[0,-1]])\n",
        "soln=solvers.lp(matrix(c,tc='d'),matrix(A,tc='d'),matrix(b,tc='d'))\n",
        "# print(pn.round_(soln['x'],decimals=5),soln['primal objective'])"
      ],
      "metadata": {
        "colab": {
          "base_uri": "https://localhost:8080/"
        },
        "id": "OqDmlXI6GUJC",
        "outputId": "5a10abdd-d70b-470c-d108-4eb5cd5a9146"
      },
      "execution_count": 96,
      "outputs": [
        {
          "output_type": "stream",
          "name": "stdout",
          "text": [
            "     pcost       dcost       gap    pres   dres   k/t\n",
            " 0:  1.1150e+02  1.9529e+02  1e+02  7e-01  4e-01  1e+00\n",
            " 1:  1.6013e+02  6.1752e+02  5e+03  3e+00  2e+00  4e+01\n",
            " 2:  6.2859e+03  3.0388e+04  2e+07  1e+02  8e+01  7e+03\n",
            " 3:  7.9914e+01  6.2671e+02  2e+03  1e+00  6e-01  4e+02\n",
            " 4:  8.7620e+01  3.7872e+04  2e+05  1e+00  7e-01  4e+04\n",
            " 5:  8.7631e+01  3.7655e+06  2e+07  1e+00  7e-01  4e+06\n",
            " 6:  8.7631e+01  3.7652e+08  2e+09  1e+00  7e-01  4e+08\n",
            "Certificate of primal infeasibility found.\n"
          ]
        }
      ]
    },
    {
      "cell_type": "code",
      "source": [
        "import matplotlib.pyplot as plt\n",
        "plt.plot(A,b,color = 'Blue')\n",
        "plt.legend()\n",
        "plt.show()"
      ],
      "metadata": {
        "colab": {
          "base_uri": "https://localhost:8080/",
          "height": 448
        },
        "id": "pbpEwdoHEIs5",
        "outputId": "5d510a53-6c09-4dfd-cd95-f5d379f405a0"
      },
      "execution_count": 97,
      "outputs": [
        {
          "output_type": "stream",
          "name": "stderr",
          "text": [
            "WARNING:matplotlib.legend:No artists with labels found to put in legend.  Note that artists whose label start with an underscore are ignored when legend() is called with no argument.\n"
          ]
        },
        {
          "output_type": "display_data",
          "data": {
            "text/plain": [
              "<Figure size 640x480 with 1 Axes>"
            ],
            "image/png": "[encoded data removed]"
          },
          "metadata": {}
        }
      ]
    },
    {
      "cell_type": "markdown",
      "source": [
        "As line is going towards infinity it is unbounded and hence solution is not feasible."
      ],
      "metadata": {
        "id": "evRDf4j4Hf46"
      }
    },
    {
      "cell_type": "markdown",
      "source": [
        "# Question 11"
      ],
      "metadata": {
        "id": "cmS613bdFNoS"
      }
    },
    {
      "cell_type": "code",
      "source": [
        "import numpy as pn\n",
        "from cvxopt import matrix, solvers\n",
        "R=14\n",
        "c,b=pn.array([[R+3],[1]]),pn.array([[3],[-6],[3],[-3],[-0],[-0]])\n",
        "A=pn.array([[1,2],[-4,-3],[3,1],[-3,-1],[-1,0],[0,-1]])\n",
        "soln=solvers.lp(matrix(c,tc='d'),matrix(A,tc='d'),matrix(b,tc='d'))\n",
        "print(pn.round_(soln['x'],decimals=5),soln['primal objective'])"
      ],
      "metadata": {
        "colab": {
          "base_uri": "https://localhost:8080/"
        },
        "id": "QSsZLGOBEcv_",
        "outputId": "4acc23e2-e4d6-4803-8d0d-b597ae84b431"
      },
      "execution_count": 98,
      "outputs": [
        {
          "output_type": "stream",
          "name": "stdout",
          "text": [
            "     pcost       dcost       gap    pres   dres   k/t\n",
            " 0:  1.2614e+01  2.3318e+01  3e+01  4e-01  9e-01  1e+00\n",
            " 1:  1.0726e+01  1.1724e+01  1e+00  3e-02  7e-02  3e-01\n",
            " 2:  1.1393e+01  1.1405e+01  2e-02  3e-04  8e-04  4e-03\n",
            " 3:  1.1400e+01  1.1400e+01  2e-04  3e-06  8e-06  4e-05\n",
            " 4:  1.1400e+01  1.1400e+01  2e-06  3e-08  8e-08  4e-07\n",
            "Optimal solution found.\n",
            "[[0.6]\n",
            " [1.2]] 11.399999281707204\n"
          ]
        }
      ]
    },
    {
      "cell_type": "markdown",
      "source": [
        "# Question 12"
      ],
      "metadata": {
        "id": "9Vtcc9EgFaRb"
      }
    },
    {
      "cell_type": "code",
      "source": [
        "import numpy as pn\n",
        "from cvxopt import matrix, solvers\n",
        "c,b=pn.array([[-3],[1]]),pn.array([[0],[-0],[9],[-9],[-0],[-0]])\n",
        "A=pn.array([[1,2],[-1,-2],[2,-2],[-2,2],[-1,0],[0,-1]])\n",
        "soln=solvers.lp(matrix(c,tc='d'),matrix(A,tc='d'),matrix(b,tc='d'))\n",
        "# print(pn.round_(soln['x'],decimals=5),soln['primal objective'])"
      ],
      "metadata": {
        "colab": {
          "base_uri": "https://localhost:8080/"
        },
        "id": "fScIk2x2FZGu",
        "outputId": "7857312b-4a69-47cf-c4dd-39eb80c4f0e0"
      },
      "execution_count": 99,
      "outputs": [
        {
          "output_type": "stream",
          "name": "stdout",
          "text": [
            "     pcost       dcost       gap    pres   dres   k/t\n",
            " 0: -9.6842e+00 -9.6842e+00  2e+01  5e-01  7e-01  1e+00\n",
            " 1: -8.2442e+00 -5.7319e+00  7e+01  3e-01  5e-01  3e+00\n",
            " 2: -8.7914e+00  2.9900e+02  8e+03  4e-01  6e-01  3e+02\n",
            " 3: -8.7914e+00  3.0839e+04  8e+05  4e-01  6e-01  3e+04\n",
            " 4: -8.7914e+00  3.0848e+06  8e+07  4e-01  6e-01  3e+06\n",
            " 5: -8.7914e+00  3.0849e+08  8e+09  4e-01  6e-01  3e+08\n",
            "Certificate of primal infeasibility found.\n"
          ]
        }
      ]
    },
    {
      "cell_type": "code",
      "source": [
        "plt.plot(A,b,color = 'Blue')\n",
        "plt.legend()\n",
        "plt.show()"
      ],
      "metadata": {
        "colab": {
          "base_uri": "https://localhost:8080/",
          "height": 447
        },
        "id": "xjrFLedSFpkE",
        "outputId": "22408777-cceb-4361-ce83-af1b713014c7"
      },
      "execution_count": 100,
      "outputs": [
        {
          "output_type": "stream",
          "name": "stderr",
          "text": [
            "WARNING:matplotlib.legend:No artists with labels found to put in legend.  Note that artists whose label start with an underscore are ignored when legend() is called with no argument.\n"
          ]
        },
        {
          "output_type": "display_data",
          "data": {
            "text/plain": [
              "<Figure size 640x480 with 1 Axes>"
            ],
            "image/png": "[encoded data removed]"
          },
          "metadata": {}
        }
      ]
    },
    {
      "cell_type": "markdown",
      "source": [
        "As line is going towards infinity it is unbounded and hence solution is not feasible.\n"
      ],
      "metadata": {
        "id": "TOBhUBFsLH3q"
      }
    },
    {
      "cell_type": "code",
      "source": [],
      "metadata": {
        "id": "0jzONoDfKBvL"
      },
      "execution_count": 100,
      "outputs": []
    }
  ]
}